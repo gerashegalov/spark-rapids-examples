{
 "cells": [
  {
   "cell_type": "markdown",
   "metadata": {
    "editable": true,
    "id": "HtgYO0bXEBrN",
    "slideshow": {
     "slide_type": ""
    },
    "tags": []
   },
   "source": [
    "# TPC DS scale factor 10 - Apache Spark acceleration on GPU with RAPIDS Spark\n",
    "\n",
    "based on https://colab.research.google.com/github/LucaCanali/Miscellaneous/blob/master/Performance_Testing/TPCDS_PySpark/Labs_and_Notes/TPCDS_PySpark_getstarted.ipynb#scrollTo=6bab7772"
   ]
  },
  {
   "cell_type": "markdown",
   "metadata": {},
   "source": [
    "# Install packages"
   ]
  },
  {
   "cell_type": "code",
   "execution_count": 1,
   "metadata": {},
   "outputs": [],
   "source": [
    "spark_version='3.5.0'\n",
    "rapids_version='24.10.0'\n",
    "scala_version='2.12'"
   ]
  },
  {
   "cell_type": "code",
   "execution_count": 2,
   "metadata": {
    "executionInfo": {
     "elapsed": 1630,
     "status": "ok",
     "timestamp": 1729291037060,
     "user": {
      "displayName": "Gera Shegalov",
      "userId": "07399839501144323282"
     },
     "user_tz": 420
    },
    "id": "Yq230e1Nho_M"
   },
   "outputs": [
    {
     "name": "stdout",
     "output_type": "stream",
     "text": [
      "Note: you may need to restart the kernel to use updated packages.\n"
     ]
    }
   ],
   "source": [
    "%pip install --quiet \\\n",
    "  tpcds_pyspark \\\n",
    "  pyspark=={spark_version} \\\n",
    "  sparkmeasure \\\n",
    "  pandas \\\n",
    "  matplotlib"
   ]
  },
  {
   "cell_type": "markdown",
   "metadata": {},
   "source": [
    "# Import modules"
   ]
  },
  {
   "cell_type": "code",
   "execution_count": 3,
   "metadata": {
    "executionInfo": {
     "elapsed": 1052,
     "status": "ok",
     "timestamp": 1729291488008,
     "user": {
      "displayName": "Gera Shegalov",
      "userId": "07399839501144323282"
     },
     "user_tz": 420
    },
    "id": "uq_LmKsB36R_"
   },
   "outputs": [],
   "source": [
    "from importlib.resources import files\n",
    "from pyspark.sql import SparkSession\n",
    "from tpcds_pyspark import TPCDS\n",
    "import os\n",
    "import pandas as pd\n",
    "import time"
   ]
  },
  {
   "cell_type": "code",
   "execution_count": 4,
   "metadata": {
    "executionInfo": {
     "elapsed": 12,
     "status": "ok",
     "timestamp": 1729291037060,
     "user": {
      "displayName": "Gera Shegalov",
      "userId": "07399839501144323282"
     },
     "user_tz": 420
    },
    "id": "CWaokrdGfsyo"
   },
   "outputs": [],
   "source": [
    "tpcds_pyspark_files = files('tpcds_pyspark')"
   ]
  },
  {
   "cell_type": "markdown",
   "metadata": {
    "id": "edMCFrhvgDS8"
   },
   "source": [
    "# Download TPC-DS 10GiB Scale Parquet Dataset"
   ]
  },
  {
   "cell_type": "code",
   "execution_count": 5,
   "metadata": {
    "executionInfo": {
     "elapsed": 41530,
     "status": "ok",
     "timestamp": 1729292943990,
     "user": {
      "displayName": "Gera Shegalov",
      "userId": "07399839501144323282"
     },
     "user_tz": 420
    },
    "id": "DY8TkhPQTjbB"
   },
   "outputs": [],
   "source": [
    "if not os.path.isdir('tpcds_10'):\n",
    "  if not os.path.isfile('tpcds_10.zip'):\n",
    "    !wget https://sparkdltrigger.web.cern.ch/sparkdltrigger/TPCDS/tpcds_10.zip\n",
    "  !unzip -q tpcds_10.zip"
   ]
  },
  {
   "cell_type": "markdown",
   "metadata": {
    "id": "6tgF9LWcgUEs"
   },
   "source": [
    "# Init a SparkSession with RAPIDS Spark"
   ]
  },
  {
   "cell_type": "code",
   "execution_count": 6,
   "metadata": {
    "executionInfo": {
     "elapsed": 39420,
     "status": "ok",
     "timestamp": 1729289098419,
     "user": {
      "displayName": "Gera Shegalov",
      "userId": "07399839501144323282"
     },
     "user_tz": 420
    },
    "id": "-L-wMZTpfYxs"
   },
   "outputs": [
    {
     "name": "stderr",
     "output_type": "stream",
     "text": [
      "24/10/22 20:24:36 WARN Utils: Your hostname, e780a48-lcedt resolves to a loopback address: 127.0.1.1; using 10.112.215.249 instead (on interface enp36s0f0)\n",
      "24/10/22 20:24:36 WARN Utils: Set SPARK_LOCAL_IP if you need to bind to another address\n"
     ]
    },
    {
     "name": "stdout",
     "output_type": "stream",
     "text": [
      ":: loading settings :: url = jar:file:/home/gshegalov/gits/NVIDIA/spark-rapids-examples/.venv/lib/python3.10/site-packages/pyspark/jars/ivy-2.5.1.jar!/org/apache/ivy/core/settings/ivysettings.xml\n"
     ]
    },
    {
     "name": "stderr",
     "output_type": "stream",
     "text": [
      "Ivy Default Cache set to: /home/gshegalov/.ivy2/cache\n",
      "The jars for the packages stored in: /home/gshegalov/.ivy2/jars\n",
      "com.nvidia#rapids-4-spark_2.12 added as a dependency\n",
      ":: resolving dependencies :: org.apache.spark#spark-submit-parent-df1f6219-409d-4ff8-8387-c5192908c474;1.0\n",
      "\tconfs: [default]\n",
      "\tfound com.nvidia#rapids-4-spark_2.12;24.10.0 in central\n",
      ":: resolution report :: resolve 73ms :: artifacts dl 2ms\n",
      "\t:: modules in use:\n",
      "\tcom.nvidia#rapids-4-spark_2.12;24.10.0 from central in [default]\n",
      "\t---------------------------------------------------------------------\n",
      "\t|                  |            modules            ||   artifacts   |\n",
      "\t|       conf       | number| search|dwnlded|evicted|| number|dwnlded|\n",
      "\t---------------------------------------------------------------------\n",
      "\t|      default     |   1   |   0   |   0   |   0   ||   1   |   0   |\n",
      "\t---------------------------------------------------------------------\n",
      ":: retrieving :: org.apache.spark#spark-submit-parent-df1f6219-409d-4ff8-8387-c5192908c474\n",
      "\tconfs: [default]\n",
      "\t0 artifacts copied, 1 already retrieved (0kB/2ms)\n",
      "24/10/22 20:24:36 WARN NativeCodeLoader: Unable to load native-hadoop library for your platform... using builtin-java classes where applicable\n",
      "Setting default log level to \"WARN\".\n",
      "To adjust logging level use sc.setLogLevel(newLevel). For SparkR, use setLogLevel(newLevel).\n",
      "24/10/22 20:24:38 WARN RapidsPluginUtils: RAPIDS Accelerator 24.10.0 using cudf 24.10.0, private revision bd4e99e18e20234ee0c54f95f4b0bfce18a6255e\n",
      "24/10/22 20:24:38 WARN RapidsPluginUtils: RAPIDS Accelerator is enabled, to disable GPU support set `spark.rapids.sql.enabled` to false.\n",
      "24/10/22 20:24:38 WARN RapidsPluginUtils: spark.rapids.sql.explain is set to `NOT_ON_GPU`. Set it to 'NONE' to suppress the diagnostics logging about the query placement on the GPU.\n"
     ]
    }
   ],
   "source": [
    "spark = (\n",
    "    SparkSession.builder\n",
    "      .appName('TPCDS PySpark RAPIDS=ON/OFF')\n",
    "      .config('spark.driver.memory', '5g')\n",
    "      .config('spark.plugins', 'com.nvidia.spark.SQLPlugin')\n",
    "      .config('spark.jars', tpcds_pyspark_files.joinpath(f\"spark-measure_{scala_version}-0.24.jar\"))\n",
    "      .config('spark.jars.packages', f\"com.nvidia:rapids-4-spark_{scala_version}:{rapids_version}\")\n",
    "      .getOrCreate()\n",
    ")\n"
   ]
  },
  {
   "cell_type": "markdown",
   "metadata": {
    "id": "_4sYje2NiNA7"
   },
   "source": [
    "# Verify SQL Acceleration on GPU can be enabled by checking the query plan and the GPU RAM in the \"Resources\" tab"
   ]
  },
  {
   "cell_type": "code",
   "execution_count": 7,
   "metadata": {
    "colab": {
     "base_uri": "https://localhost:8080/",
     "height": 0
    },
    "executionInfo": {
     "elapsed": 5921,
     "status": "ok",
     "timestamp": 1729289104337,
     "user": {
      "displayName": "Gera Shegalov",
      "userId": "07399839501144323282"
     },
     "user_tz": 420
    },
    "id": "nUyQBKtkga9y",
    "outputId": "5d493a51-58de-4aed-bbaf-d73c82769836"
   },
   "outputs": [
    {
     "name": "stderr",
     "output_type": "stream",
     "text": [
      "[Stage 0:>                                                        (0 + 64) / 64]\r"
     ]
    },
    {
     "name": "stdout",
     "output_type": "stream",
     "text": [
      "== Physical Plan ==\n",
      "AdaptiveSparkPlan isFinalPlan=true\n",
      "+- == Final Plan ==\n",
      "   GpuColumnarToRow false, [loreId=22]\n",
      "   +- GpuHashAggregate (keys=[], functions=[gpubasicsum(id#0L, LongType, false)]), filters=ArrayBuffer(None)) [loreId=21]\n",
      "      +- GpuShuffleCoalesce 1073741824, [loreId=20]\n",
      "         +- ShuffleQueryStage 0\n",
      "            +- GpuColumnarExchange gpusinglepartitioning$(), ENSURE_REQUIREMENTS, [plan_id=64], [loreId=17]\n",
      "               +- GpuHashAggregate (keys=[], functions=[partial_gpubasicsum(id#0L, LongType, false)]), filters=ArrayBuffer(None)) [loreId=16]\n",
      "                  +- GpuRange (0, 1000, step=1, splits=64)\n",
      "+- == Initial Plan ==\n",
      "   HashAggregate(keys=[], functions=[sum(id#0L)])\n",
      "   +- Exchange SinglePartition, ENSURE_REQUIREMENTS, [plan_id=11]\n",
      "      +- HashAggregate(keys=[], functions=[partial_sum(id#0L)])\n",
      "         +- Range (0, 1000, step=1, splits=64)\n",
      "\n",
      "\n"
     ]
    },
    {
     "name": "stderr",
     "output_type": "stream",
     "text": [
      "                                                                                \r"
     ]
    }
   ],
   "source": [
    "spark.conf.set('spark.rapids.sql.enabled', True)\n",
    "sum_df = spark.range(1000).selectExpr('SUM(*)')\n",
    "sum_df.collect()\n",
    "sum_df.explain()"
   ]
  },
  {
   "cell_type": "code",
   "execution_count": 8,
   "metadata": {
    "executionInfo": {
     "elapsed": 5,
     "status": "ok",
     "timestamp": 1729289104337,
     "user": {
      "displayName": "Gera Shegalov",
      "userId": "07399839501144323282"
     },
     "user_tz": 420
    },
    "id": "t7kj9OQnPuWA"
   },
   "outputs": [],
   "source": [
    "# https://github.com/LucaCanali/Miscellaneous/tree/master/Performance_Testing/TPCDS_PySpark/tpcds_pyspark/Queries\n",
    "\n",
    "# queries = None to run all (takes much longer)\n",
    "queries = None\n",
    "queries = [\n",
    "    'q14a',\n",
    "    'q14b',\n",
    "    'q23a',\n",
    "    'q23b',\n",
    "    # 'q24a',\n",
    "    # 'q24b',\n",
    "    # 'q88',\n",
    "]\n"
   ]
  },
  {
   "cell_type": "markdown",
   "metadata": {},
   "source": [
    "# TPCDS App"
   ]
  },
  {
   "cell_type": "code",
   "execution_count": 9,
   "metadata": {
    "colab": {
     "base_uri": "https://localhost:8080/",
     "height": 0
    },
    "executionInfo": {
     "elapsed": 4,
     "status": "ok",
     "timestamp": 1729289104337,
     "user": {
      "displayName": "Gera Shegalov",
      "userId": "07399839501144323282"
     },
     "user_tz": 420
    },
    "id": "BYPgafupcxaY",
    "outputId": "fdfb427f-6cc0-4dff-9295-dc44e6ead132"
   },
   "outputs": [
    {
     "name": "stdout",
     "output_type": "stream",
     "text": [
      "sparkMeasure jar path: /home/gshegalov/gits/NVIDIA/spark-rapids-examples/.venv/lib/python3.10/site-packages/tpcds_pyspark/spark-measure_2.12-0.24.jar\n",
      "TPCDS queries path: /home/gshegalov/gits/NVIDIA/spark-rapids-examples/.venv/lib/python3.10/site-packages/tpcds_pyspark/Queries\n"
     ]
    },
    {
     "name": "stderr",
     "output_type": "stream",
     "text": [
      "24/10/22 20:24:46 WARN SparkSession: Using an existing Spark session; only runtime SQL configurations will take effect.\n"
     ]
    }
   ],
   "source": [
    "demo_start = time.time()\n",
    "tpcds = TPCDS(data_path='./tpcds_10', num_runs=1, queries_repeat_times=1, queries=queries)"
   ]
  },
  {
   "cell_type": "markdown",
   "metadata": {
    "id": "0Yaaw2GfliC5"
   },
   "source": [
    "## Register TPC-DS tables before running queries"
   ]
  },
  {
   "cell_type": "code",
   "execution_count": 10,
   "metadata": {
    "colab": {
     "base_uri": "https://localhost:8080/",
     "height": 0
    },
    "executionInfo": {
     "elapsed": 2992,
     "status": "ok",
     "timestamp": 1729289107327,
     "user": {
      "displayName": "Gera Shegalov",
      "userId": "07399839501144323282"
     },
     "user_tz": 420
    },
    "id": "kfsHodFqdDl7",
    "outputId": "5a810f9d-e353-456c-b7bb-48ae3290178a"
   },
   "outputs": [
    {
     "name": "stdout",
     "output_type": "stream",
     "text": [
      "Creating temporary view catalog_returns\n"
     ]
    },
    {
     "name": "stderr",
     "output_type": "stream",
     "text": [
      "24/10/22 20:24:47 WARN SparkStringUtils: Truncated the string representation of a plan since it was too large. This behavior can be adjusted by setting 'spark.sql.debug.maxToStringFields'.\n"
     ]
    },
    {
     "name": "stdout",
     "output_type": "stream",
     "text": [
      "Creating temporary view catalog_sales\n",
      "Creating temporary view inventory\n",
      "Creating temporary view store_returns\n",
      "Creating temporary view store_sales\n",
      "Creating temporary view web_returns\n",
      "Creating temporary view web_sales\n",
      "Creating temporary view call_center\n",
      "Creating temporary view catalog_page\n",
      "Creating temporary view customer\n",
      "Creating temporary view customer_address\n",
      "Creating temporary view customer_demographics\n",
      "Creating temporary view date_dim\n",
      "Creating temporary view household_demographics\n",
      "Creating temporary view income_band\n",
      "Creating temporary view item\n",
      "Creating temporary view promotion\n",
      "Creating temporary view reason\n",
      "Creating temporary view ship_mode\n",
      "Creating temporary view store\n",
      "Creating temporary view time_dim\n",
      "Creating temporary view warehouse\n",
      "Creating temporary view web_page\n",
      "Creating temporary view web_site\n"
     ]
    }
   ],
   "source": [
    "tpcds.map_tables()"
   ]
  },
  {
   "cell_type": "markdown",
   "metadata": {
    "id": "ulyFidEPhg_l"
   },
   "source": [
    "## Measure Apache Spark CPU"
   ]
  },
  {
   "cell_type": "code",
   "execution_count": 11,
   "metadata": {
    "colab": {
     "base_uri": "https://localhost:8080/",
     "height": 0
    },
    "executionInfo": {
     "elapsed": 135425,
     "status": "ok",
     "timestamp": 1729289242749,
     "user": {
      "displayName": "Gera Shegalov",
      "userId": "07399839501144323282"
     },
     "user_tz": 420
    },
    "id": "Dg0itS7cdIf4",
    "outputId": "4ce1f8a2-5ac7-4805-e6f6-37a8acb7e039"
   },
   "outputs": [
    {
     "name": "stdout",
     "output_type": "stream",
     "text": [
      "\n",
      "Run 0 - query q14a - attempt 0 - starting...\n"
     ]
    },
    {
     "name": "stderr",
     "output_type": "stream",
     "text": [
      "                                                                                \r"
     ]
    },
    {
     "name": "stdout",
     "output_type": "stream",
     "text": [
      "Job finished\n",
      "...Start Time = 2024-10-22 20:24:49\n",
      "...Elapsed Time = 9.78 sec\n",
      "...Executors Run Time = 160.46 sec\n",
      "...Executors CPU Time = 89.63 sec\n",
      "...Executors JVM GC Time = 34.83 sec\n",
      "...Average Active Tasks = 16.4\n",
      "\n",
      "Run 0 - query q14b - attempt 0 - starting...\n"
     ]
    },
    {
     "name": "stderr",
     "output_type": "stream",
     "text": [
      "                                                                                \r"
     ]
    },
    {
     "name": "stdout",
     "output_type": "stream",
     "text": [
      "Job finished\n",
      "...Start Time = 2024-10-22 20:25:03\n",
      "...Elapsed Time = 5.61 sec\n",
      "...Executors Run Time = 97.64 sec\n",
      "...Executors CPU Time = 58.69 sec\n",
      "...Executors JVM GC Time = 25.94 sec\n",
      "...Average Active Tasks = 17.4\n",
      "\n",
      "Run 0 - query q23a - attempt 0 - starting...\n"
     ]
    },
    {
     "name": "stderr",
     "output_type": "stream",
     "text": [
      "                                                                                \r"
     ]
    },
    {
     "name": "stdout",
     "output_type": "stream",
     "text": [
      "Job finished\n",
      "...Start Time = 2024-10-22 20:25:10\n",
      "...Elapsed Time = 8.77 sec\n",
      "...Executors Run Time = 201.08 sec\n",
      "...Executors CPU Time = 142.97 sec\n",
      "...Executors JVM GC Time = 40.97 sec\n",
      "...Average Active Tasks = 22.9\n",
      "\n",
      "Run 0 - query q23b - attempt 0 - starting...\n"
     ]
    },
    {
     "name": "stderr",
     "output_type": "stream",
     "text": [
      "24/10/22 20:25:24 WARN RowBasedKeyValueBatch: Calling spill() on RowBasedKeyValueBatch. Will not spill but return 0.\n",
      "[Stage 218:=>                                                     (2 + 64) / 66]\r"
     ]
    },
    {
     "name": "stdout",
     "output_type": "stream",
     "text": [
      "Job finished\n",
      "...Start Time = 2024-10-22 20:25:20\n",
      "...Elapsed Time = 10.68 sec\n",
      "...Executors Run Time = 241.66 sec\n",
      "...Executors CPU Time = 157.55 sec\n",
      "...Executors JVM GC Time = 60.73 sec\n",
      "...Average Active Tasks = 22.6\n",
      "CPU times: user 103 ms, sys: 37.3 ms, total: 141 ms\n",
      "Wall time: 42.8 s\n"
     ]
    },
    {
     "name": "stderr",
     "output_type": "stream",
     "text": [
      "/home/gshegalov/gits/NVIDIA/spark-rapids-examples/.venv/lib/python3.10/site-packages/tpcds_pyspark/tpcds.py:243: UserWarning: Could not infer format, so each element will be parsed individually, falling back to `dateutil`. To ensure parsing is consistent and as-expected, please specify a format.\n",
      "  results_pdf['timestamp'] = pd.to_datetime(results_pdf['timestamp'])\n"
     ]
    },
    {
     "data": {
      "text/html": [
       "<div>\n",
       "<style scoped>\n",
       "    .dataframe tbody tr th:only-of-type {\n",
       "        vertical-align: middle;\n",
       "    }\n",
       "\n",
       "    .dataframe tbody tr th {\n",
       "        vertical-align: top;\n",
       "    }\n",
       "\n",
       "    .dataframe thead th {\n",
       "        text-align: right;\n",
       "    }\n",
       "</style>\n",
       "<table border=\"1\" class=\"dataframe\">\n",
       "  <thead>\n",
       "    <tr style=\"text-align: right;\">\n",
       "      <th></th>\n",
       "      <th>query</th>\n",
       "      <th>numStages</th>\n",
       "      <th>numTasks</th>\n",
       "      <th>elapsedTime</th>\n",
       "      <th>stageDuration</th>\n",
       "      <th>executorRunTime</th>\n",
       "      <th>executorCpuTime</th>\n",
       "      <th>executorDeserializeTime</th>\n",
       "      <th>executorDeserializeCpuTime</th>\n",
       "      <th>resultSerializationTime</th>\n",
       "      <th>...</th>\n",
       "      <th>shuffleLocalBlocksFetched</th>\n",
       "      <th>shuffleRemoteBlocksFetched</th>\n",
       "      <th>shuffleTotalBytesRead</th>\n",
       "      <th>shuffleLocalBytesRead</th>\n",
       "      <th>shuffleRemoteBytesRead</th>\n",
       "      <th>shuffleRemoteBytesReadToDisk</th>\n",
       "      <th>shuffleBytesWritten</th>\n",
       "      <th>shuffleRecordsWritten</th>\n",
       "      <th>avg_active_tasks</th>\n",
       "      <th>elapsed_time_seconds</th>\n",
       "    </tr>\n",
       "  </thead>\n",
       "  <tbody>\n",
       "    <tr>\n",
       "      <th>0</th>\n",
       "      <td>q14a</td>\n",
       "      <td>30</td>\n",
       "      <td>838</td>\n",
       "      <td>9779</td>\n",
       "      <td>19488</td>\n",
       "      <td>160456</td>\n",
       "      <td>89631</td>\n",
       "      <td>9277</td>\n",
       "      <td>3040</td>\n",
       "      <td>362</td>\n",
       "      <td>...</td>\n",
       "      <td>551</td>\n",
       "      <td>0</td>\n",
       "      <td>878437913</td>\n",
       "      <td>878437913</td>\n",
       "      <td>0</td>\n",
       "      <td>0</td>\n",
       "      <td>875325021</td>\n",
       "      <td>62516924</td>\n",
       "      <td>16</td>\n",
       "      <td>9</td>\n",
       "    </tr>\n",
       "    <tr>\n",
       "      <th>1</th>\n",
       "      <td>q14b</td>\n",
       "      <td>24</td>\n",
       "      <td>636</td>\n",
       "      <td>5608</td>\n",
       "      <td>8704</td>\n",
       "      <td>97644</td>\n",
       "      <td>58687</td>\n",
       "      <td>2565</td>\n",
       "      <td>1649</td>\n",
       "      <td>210</td>\n",
       "      <td>...</td>\n",
       "      <td>513</td>\n",
       "      <td>0</td>\n",
       "      <td>1013592969</td>\n",
       "      <td>1013592969</td>\n",
       "      <td>0</td>\n",
       "      <td>0</td>\n",
       "      <td>529675847</td>\n",
       "      <td>40865273</td>\n",
       "      <td>17</td>\n",
       "      <td>5</td>\n",
       "    </tr>\n",
       "    <tr>\n",
       "      <th>2</th>\n",
       "      <td>q23a</td>\n",
       "      <td>18</td>\n",
       "      <td>621</td>\n",
       "      <td>8765</td>\n",
       "      <td>15382</td>\n",
       "      <td>201084</td>\n",
       "      <td>142969</td>\n",
       "      <td>3432</td>\n",
       "      <td>1429</td>\n",
       "      <td>134</td>\n",
       "      <td>...</td>\n",
       "      <td>2269</td>\n",
       "      <td>0</td>\n",
       "      <td>1115089630</td>\n",
       "      <td>1115089630</td>\n",
       "      <td>0</td>\n",
       "      <td>0</td>\n",
       "      <td>1085198863</td>\n",
       "      <td>41990073</td>\n",
       "      <td>22</td>\n",
       "      <td>8</td>\n",
       "    </tr>\n",
       "    <tr>\n",
       "      <th>3</th>\n",
       "      <td>q23b</td>\n",
       "      <td>21</td>\n",
       "      <td>690</td>\n",
       "      <td>10684</td>\n",
       "      <td>19596</td>\n",
       "      <td>241665</td>\n",
       "      <td>157549</td>\n",
       "      <td>3374</td>\n",
       "      <td>1718</td>\n",
       "      <td>192</td>\n",
       "      <td>...</td>\n",
       "      <td>4779</td>\n",
       "      <td>0</td>\n",
       "      <td>1194344589</td>\n",
       "      <td>1194344589</td>\n",
       "      <td>0</td>\n",
       "      <td>0</td>\n",
       "      <td>1091584844</td>\n",
       "      <td>42452502</td>\n",
       "      <td>22</td>\n",
       "      <td>10</td>\n",
       "    </tr>\n",
       "  </tbody>\n",
       "</table>\n",
       "<p>4 rows × 33 columns</p>\n",
       "</div>"
      ],
      "text/plain": [
       "  query  numStages  numTasks  elapsedTime  stageDuration  executorRunTime  \\\n",
       "0  q14a         30       838         9779          19488           160456   \n",
       "1  q14b         24       636         5608           8704            97644   \n",
       "2  q23a         18       621         8765          15382           201084   \n",
       "3  q23b         21       690        10684          19596           241665   \n",
       "\n",
       "   executorCpuTime  executorDeserializeTime  executorDeserializeCpuTime  \\\n",
       "0            89631                     9277                        3040   \n",
       "1            58687                     2565                        1649   \n",
       "2           142969                     3432                        1429   \n",
       "3           157549                     3374                        1718   \n",
       "\n",
       "   resultSerializationTime  ...  shuffleLocalBlocksFetched  \\\n",
       "0                      362  ...                        551   \n",
       "1                      210  ...                        513   \n",
       "2                      134  ...                       2269   \n",
       "3                      192  ...                       4779   \n",
       "\n",
       "   shuffleRemoteBlocksFetched  shuffleTotalBytesRead  shuffleLocalBytesRead  \\\n",
       "0                           0              878437913              878437913   \n",
       "1                           0             1013592969             1013592969   \n",
       "2                           0             1115089630             1115089630   \n",
       "3                           0             1194344589             1194344589   \n",
       "\n",
       "   shuffleRemoteBytesRead  shuffleRemoteBytesReadToDisk  shuffleBytesWritten  \\\n",
       "0                       0                             0            875325021   \n",
       "1                       0                             0            529675847   \n",
       "2                       0                             0           1085198863   \n",
       "3                       0                             0           1091584844   \n",
       "\n",
       "   shuffleRecordsWritten  avg_active_tasks  elapsed_time_seconds  \n",
       "0               62516924                16                     9  \n",
       "1               40865273                17                     5  \n",
       "2               41990073                22                     8  \n",
       "3               42452502                22                    10  \n",
       "\n",
       "[4 rows x 33 columns]"
      ]
     },
     "execution_count": 11,
     "metadata": {},
     "output_type": "execute_result"
    }
   ],
   "source": [
    "tpcds.spark.conf.set('spark.rapids.sql.enabled', False)\n",
    "%time tpcds.run_TPCDS()\n",
    "cpu_grouped_results = tpcds.grouped_results_pdf.copy()\n",
    "cpu_grouped_results"
   ]
  },
  {
   "cell_type": "markdown",
   "metadata": {
    "id": "bs6X_54UhuqJ"
   },
   "source": [
    "## Measure Apache Spark GPU"
   ]
  },
  {
   "cell_type": "code",
   "execution_count": 12,
   "metadata": {
    "colab": {
     "base_uri": "https://localhost:8080/",
     "height": 0
    },
    "executionInfo": {
     "elapsed": 45658,
     "status": "ok",
     "timestamp": 1729290819190,
     "user": {
      "displayName": "Gera Shegalov",
      "userId": "07399839501144323282"
     },
     "user_tz": 420
    },
    "id": "8vXDasUom70g",
    "outputId": "adccdd7f-99f0-4c82-d600-056b59f53933"
   },
   "outputs": [
    {
     "name": "stdout",
     "output_type": "stream",
     "text": [
      "\n",
      "Run 0 - query q14a - attempt 0 - starting...\n"
     ]
    },
    {
     "name": "stderr",
     "output_type": "stream",
     "text": [
      "24/10/22 20:25:34 WARN GpuOverrides: \n",
      "! <OverwriteByExpressionExec> cannot run on GPU because GPU does not currently support the operator class org.apache.spark.sql.execution.datasources.v2.OverwriteByExpressionExec\n",
      "\n",
      "24/10/22 20:25:35 WARN MultiFileReaderThreadPool: Configuring the file reader thread pool with a max of 64 threads instead of spark.rapids.sql.multiThreadedRead.numThreads = 20\n",
      "24/10/22 20:25:35 WARN MultiFileReaderThreadPool: Configuring the file reader thread pool with a max of 64 threads instead of spark.rapids.sql.multiThreadedRead.numThreads = 20\n",
      "24/10/22 20:25:35 WARN MultiFileReaderThreadPool: Configuring the file reader thread pool with a max of 64 threads instead of spark.rapids.sql.multiThreadedRead.numThreads = 20\n",
      "24/10/22 20:25:35 WARN MultiFileReaderThreadPool: Configuring the file reader thread pool with a max of 64 threads instead of spark.rapids.sql.multiThreadedRead.numThreads = 20\n",
      "24/10/22 20:25:35 WARN MultiFileReaderThreadPool: Configuring the file reader thread pool with a max of 64 threads instead of spark.rapids.sql.multiThreadedRead.numThreads = 20\n",
      "24/10/22 20:25:35 WARN MultiFileReaderThreadPool: Configuring the file reader thread pool with a max of 64 threads instead of spark.rapids.sql.multiThreadedRead.numThreads = 20\n",
      "24/10/22 20:25:35 WARN MultiFileReaderThreadPool: Configuring the file reader thread pool with a max of 64 threads instead of spark.rapids.sql.multiThreadedRead.numThreads = 20\n",
      "24/10/22 20:25:35 WARN MultiFileReaderThreadPool: Configuring the file reader thread pool with a max of 64 threads instead of spark.rapids.sql.multiThreadedRead.numThreads = 20\n",
      "24/10/22 20:25:35 WARN MultiFileReaderThreadPool: Configuring the file reader thread pool with a max of 64 threads instead of spark.rapids.sql.multiThreadedRead.numThreads = 20\n",
      "24/10/22 20:25:35 WARN MultiFileReaderThreadPool: Configuring the file reader thread pool with a max of 64 threads instead of spark.rapids.sql.multiThreadedRead.numThreads = 20\n",
      "24/10/22 20:25:35 WARN MultiFileReaderThreadPool: Configuring the file reader thread pool with a max of 64 threads instead of spark.rapids.sql.multiThreadedRead.numThreads = 20\n",
      "24/10/22 20:25:35 WARN MultiFileReaderThreadPool: Configuring the file reader thread pool with a max of 64 threads instead of spark.rapids.sql.multiThreadedRead.numThreads = 20\n",
      "24/10/22 20:25:35 WARN MultiFileReaderThreadPool: Configuring the file reader thread pool with a max of 64 threads instead of spark.rapids.sql.multiThreadedRead.numThreads = 20\n",
      "24/10/22 20:25:35 WARN MultiFileReaderThreadPool: Configuring the file reader thread pool with a max of 64 threads instead of spark.rapids.sql.multiThreadedRead.numThreads = 20\n",
      "24/10/22 20:25:35 WARN MultiFileReaderThreadPool: Configuring the file reader thread pool with a max of 64 threads instead of spark.rapids.sql.multiThreadedRead.numThreads = 20\n",
      "24/10/22 20:25:35 WARN MultiFileReaderThreadPool: Configuring the file reader thread pool with a max of 64 threads instead of spark.rapids.sql.multiThreadedRead.numThreads = 20\n",
      "24/10/22 20:25:35 WARN MultiFileReaderThreadPool: Configuring the file reader thread pool with a max of 64 threads instead of spark.rapids.sql.multiThreadedRead.numThreads = 20\n",
      "24/10/22 20:25:35 WARN MultiFileReaderThreadPool: Configuring the file reader thread pool with a max of 64 threads instead of spark.rapids.sql.multiThreadedRead.numThreads = 20\n",
      "24/10/22 20:25:35 WARN MultiFileReaderThreadPool: Configuring the file reader thread pool with a max of 64 threads instead of spark.rapids.sql.multiThreadedRead.numThreads = 20\n",
      "24/10/22 20:25:35 WARN MultiFileReaderThreadPool: Configuring the file reader thread pool with a max of 64 threads instead of spark.rapids.sql.multiThreadedRead.numThreads = 20\n",
      "24/10/22 20:25:35 WARN MultiFileReaderThreadPool: Configuring the file reader thread pool with a max of 64 threads instead of spark.rapids.sql.multiThreadedRead.numThreads = 20\n",
      "                                                                                \r"
     ]
    },
    {
     "name": "stdout",
     "output_type": "stream",
     "text": [
      "Job finished\n",
      "...Start Time = 2024-10-22 20:25:32\n",
      "...Elapsed Time = 6.63 sec\n",
      "...Executors Run Time = 134.13 sec\n",
      "...Executors CPU Time = 20.09 sec\n",
      "...Executors JVM GC Time = 6.65 sec\n",
      "...Average Active Tasks = 20.2\n",
      "\n",
      "Run 0 - query q14b - attempt 0 - starting...\n"
     ]
    },
    {
     "name": "stderr",
     "output_type": "stream",
     "text": [
      "24/10/22 20:25:42 WARN GpuOverrides: \n",
      "! <OverwriteByExpressionExec> cannot run on GPU because GPU does not currently support the operator class org.apache.spark.sql.execution.datasources.v2.OverwriteByExpressionExec\n",
      "\n"
     ]
    },
    {
     "name": "stdout",
     "output_type": "stream",
     "text": [
      "Job finished\n",
      "...Start Time = 2024-10-22 20:25:42\n",
      "...Elapsed Time = 2.96 sec\n",
      "...Executors Run Time = 90.89 sec\n",
      "...Executors CPU Time = 13.46 sec\n",
      "...Executors JVM GC Time = 9.7 sec\n",
      "...Average Active Tasks = 30.7\n",
      "\n",
      "Run 0 - query q23a - attempt 0 - starting...\n"
     ]
    },
    {
     "name": "stderr",
     "output_type": "stream",
     "text": [
      "24/10/22 20:25:47 WARN GpuOverrides: \n",
      "! <OverwriteByExpressionExec> cannot run on GPU because GPU does not currently support the operator class org.apache.spark.sql.execution.datasources.v2.OverwriteByExpressionExec\n",
      "\n",
      "                                                                                \r"
     ]
    },
    {
     "name": "stdout",
     "output_type": "stream",
     "text": [
      "Job finished\n",
      "...Start Time = 2024-10-22 20:25:46\n",
      "...Elapsed Time = 3.33 sec\n",
      "...Executors Run Time = 96.84 sec\n",
      "...Executors CPU Time = 21.94 sec\n",
      "...Executors JVM GC Time = 4.43 sec\n",
      "...Average Active Tasks = 29.1\n",
      "\n",
      "Run 0 - query q23b - attempt 0 - starting...\n"
     ]
    },
    {
     "name": "stderr",
     "output_type": "stream",
     "text": [
      "24/10/22 20:25:51 WARN GpuOverrides: \n",
      "! <OverwriteByExpressionExec> cannot run on GPU because GPU does not currently support the operator class org.apache.spark.sql.execution.datasources.v2.OverwriteByExpressionExec\n",
      "\n",
      "[Stage 420:======================================>               (36 + 14) / 50]\r"
     ]
    },
    {
     "name": "stdout",
     "output_type": "stream",
     "text": [
      "Job finished\n",
      "...Start Time = 2024-10-22 20:25:51\n",
      "...Elapsed Time = 5.0 sec\n",
      "...Executors Run Time = 187.15 sec\n",
      "...Executors CPU Time = 25.02 sec\n",
      "...Executors JVM GC Time = 5.3 sec\n",
      "...Average Active Tasks = 37.4\n",
      "CPU times: user 60.8 ms, sys: 17.7 ms, total: 78.4 ms\n",
      "Wall time: 25.4 s\n"
     ]
    },
    {
     "name": "stderr",
     "output_type": "stream",
     "text": [
      "                                                                                \r"
     ]
    },
    {
     "data": {
      "text/html": [
       "<div>\n",
       "<style scoped>\n",
       "    .dataframe tbody tr th:only-of-type {\n",
       "        vertical-align: middle;\n",
       "    }\n",
       "\n",
       "    .dataframe tbody tr th {\n",
       "        vertical-align: top;\n",
       "    }\n",
       "\n",
       "    .dataframe thead th {\n",
       "        text-align: right;\n",
       "    }\n",
       "</style>\n",
       "<table border=\"1\" class=\"dataframe\">\n",
       "  <thead>\n",
       "    <tr style=\"text-align: right;\">\n",
       "      <th></th>\n",
       "      <th>query</th>\n",
       "      <th>numStages</th>\n",
       "      <th>numTasks</th>\n",
       "      <th>elapsedTime</th>\n",
       "      <th>stageDuration</th>\n",
       "      <th>executorRunTime</th>\n",
       "      <th>executorCpuTime</th>\n",
       "      <th>executorDeserializeTime</th>\n",
       "      <th>executorDeserializeCpuTime</th>\n",
       "      <th>resultSerializationTime</th>\n",
       "      <th>...</th>\n",
       "      <th>shuffleLocalBlocksFetched</th>\n",
       "      <th>shuffleRemoteBlocksFetched</th>\n",
       "      <th>shuffleTotalBytesRead</th>\n",
       "      <th>shuffleLocalBytesRead</th>\n",
       "      <th>shuffleRemoteBytesRead</th>\n",
       "      <th>shuffleRemoteBytesReadToDisk</th>\n",
       "      <th>shuffleBytesWritten</th>\n",
       "      <th>shuffleRecordsWritten</th>\n",
       "      <th>avg_active_tasks</th>\n",
       "      <th>elapsed_time_seconds</th>\n",
       "    </tr>\n",
       "  </thead>\n",
       "  <tbody>\n",
       "    <tr>\n",
       "      <th>0</th>\n",
       "      <td>q14a</td>\n",
       "      <td>30</td>\n",
       "      <td>862</td>\n",
       "      <td>6627</td>\n",
       "      <td>12982</td>\n",
       "      <td>134135</td>\n",
       "      <td>20095</td>\n",
       "      <td>7859</td>\n",
       "      <td>4073</td>\n",
       "      <td>57</td>\n",
       "      <td>...</td>\n",
       "      <td>718</td>\n",
       "      <td>0</td>\n",
       "      <td>696329859</td>\n",
       "      <td>696329859</td>\n",
       "      <td>0</td>\n",
       "      <td>0</td>\n",
       "      <td>693773959</td>\n",
       "      <td>18794</td>\n",
       "      <td>20</td>\n",
       "      <td>6</td>\n",
       "    </tr>\n",
       "    <tr>\n",
       "      <th>1</th>\n",
       "      <td>q14b</td>\n",
       "      <td>24</td>\n",
       "      <td>661</td>\n",
       "      <td>2959</td>\n",
       "      <td>5783</td>\n",
       "      <td>90892</td>\n",
       "      <td>13457</td>\n",
       "      <td>5387</td>\n",
       "      <td>2913</td>\n",
       "      <td>64</td>\n",
       "      <td>...</td>\n",
       "      <td>695</td>\n",
       "      <td>0</td>\n",
       "      <td>767417490</td>\n",
       "      <td>767417490</td>\n",
       "      <td>0</td>\n",
       "      <td>0</td>\n",
       "      <td>421580618</td>\n",
       "      <td>15346</td>\n",
       "      <td>30</td>\n",
       "      <td>2</td>\n",
       "    </tr>\n",
       "    <tr>\n",
       "      <th>2</th>\n",
       "      <td>q23a</td>\n",
       "      <td>18</td>\n",
       "      <td>589</td>\n",
       "      <td>3332</td>\n",
       "      <td>5160</td>\n",
       "      <td>96842</td>\n",
       "      <td>21942</td>\n",
       "      <td>2211</td>\n",
       "      <td>2011</td>\n",
       "      <td>32</td>\n",
       "      <td>...</td>\n",
       "      <td>1727</td>\n",
       "      <td>0</td>\n",
       "      <td>897041986</td>\n",
       "      <td>897041986</td>\n",
       "      <td>0</td>\n",
       "      <td>0</td>\n",
       "      <td>878935367</td>\n",
       "      <td>15223</td>\n",
       "      <td>29</td>\n",
       "      <td>3</td>\n",
       "    </tr>\n",
       "    <tr>\n",
       "      <th>3</th>\n",
       "      <td>q23b</td>\n",
       "      <td>21</td>\n",
       "      <td>651</td>\n",
       "      <td>5005</td>\n",
       "      <td>8439</td>\n",
       "      <td>187145</td>\n",
       "      <td>25015</td>\n",
       "      <td>2687</td>\n",
       "      <td>2425</td>\n",
       "      <td>43</td>\n",
       "      <td>...</td>\n",
       "      <td>3774</td>\n",
       "      <td>0</td>\n",
       "      <td>952892096</td>\n",
       "      <td>952892096</td>\n",
       "      <td>0</td>\n",
       "      <td>0</td>\n",
       "      <td>888404420</td>\n",
       "      <td>16352</td>\n",
       "      <td>37</td>\n",
       "      <td>5</td>\n",
       "    </tr>\n",
       "  </tbody>\n",
       "</table>\n",
       "<p>4 rows × 33 columns</p>\n",
       "</div>"
      ],
      "text/plain": [
       "  query  numStages  numTasks  elapsedTime  stageDuration  executorRunTime  \\\n",
       "0  q14a         30       862         6627          12982           134135   \n",
       "1  q14b         24       661         2959           5783            90892   \n",
       "2  q23a         18       589         3332           5160            96842   \n",
       "3  q23b         21       651         5005           8439           187145   \n",
       "\n",
       "   executorCpuTime  executorDeserializeTime  executorDeserializeCpuTime  \\\n",
       "0            20095                     7859                        4073   \n",
       "1            13457                     5387                        2913   \n",
       "2            21942                     2211                        2011   \n",
       "3            25015                     2687                        2425   \n",
       "\n",
       "   resultSerializationTime  ...  shuffleLocalBlocksFetched  \\\n",
       "0                       57  ...                        718   \n",
       "1                       64  ...                        695   \n",
       "2                       32  ...                       1727   \n",
       "3                       43  ...                       3774   \n",
       "\n",
       "   shuffleRemoteBlocksFetched  shuffleTotalBytesRead  shuffleLocalBytesRead  \\\n",
       "0                           0              696329859              696329859   \n",
       "1                           0              767417490              767417490   \n",
       "2                           0              897041986              897041986   \n",
       "3                           0              952892096              952892096   \n",
       "\n",
       "   shuffleRemoteBytesRead  shuffleRemoteBytesReadToDisk  shuffleBytesWritten  \\\n",
       "0                       0                             0            693773959   \n",
       "1                       0                             0            421580618   \n",
       "2                       0                             0            878935367   \n",
       "3                       0                             0            888404420   \n",
       "\n",
       "   shuffleRecordsWritten  avg_active_tasks  elapsed_time_seconds  \n",
       "0                  18794                20                     6  \n",
       "1                  15346                30                     2  \n",
       "2                  15223                29                     3  \n",
       "3                  16352                37                     5  \n",
       "\n",
       "[4 rows x 33 columns]"
      ]
     },
     "execution_count": 12,
     "metadata": {},
     "output_type": "execute_result"
    }
   ],
   "source": [
    "tpcds.spark.conf.set('spark.rapids.sql.enabled', True)\n",
    "%time tpcds.run_TPCDS()\n",
    "gpu_grouped_results = tpcds.grouped_results_pdf.copy()\n",
    "gpu_grouped_results"
   ]
  },
  {
   "cell_type": "markdown",
   "metadata": {
    "id": "PcZ12b13h3cq"
   },
   "source": [
    "## Show Speedup Factors achieved by GPU\n"
   ]
  },
  {
   "cell_type": "code",
   "execution_count": 13,
   "metadata": {
    "executionInfo": {
     "elapsed": 5,
     "status": "ok",
     "timestamp": 1729289293047,
     "user": {
      "displayName": "Gera Shegalov",
      "userId": "07399839501144323282"
     },
     "user_tz": 420
    },
    "id": "cJxS9Nqi3AQj"
   },
   "outputs": [],
   "source": [
    "res = pd.merge(cpu_grouped_results, gpu_grouped_results, on='query', how='inner', suffixes=['_cpu', '_gpu'])\n",
    "res['speedup'] = res['elapsedTime_cpu'] / res['elapsedTime_gpu']\n",
    "res = res.sort_values(by='elapsedTime_cpu', ascending=False)"
   ]
  },
  {
   "cell_type": "code",
   "execution_count": 14,
   "metadata": {},
   "outputs": [
    {
     "name": "stdout",
     "output_type": "stream",
     "text": [
      "CPU and GPU run took: demo_dur=70.06181907653809 seconds\n"
     ]
    }
   ],
   "source": [
    "demo_dur = time.time() - demo_start\n",
    "print(f\"CPU and GPU run took: {demo_dur=} seconds\")"
   ]
  },
  {
   "cell_type": "code",
   "execution_count": 15,
   "metadata": {
    "colab": {
     "base_uri": "https://localhost:8080/",
     "height": 510
    },
    "executionInfo": {
     "elapsed": 1041,
     "status": "ok",
     "timestamp": 1729289294084,
     "user": {
      "displayName": "Gera Shegalov",
      "userId": "07399839501144323282"
     },
     "user_tz": 420
    },
    "id": "wn7u33fZlUJL",
    "outputId": "8d1ef757-e5c2-4761-fc58-f65f833bdffc"
   },
   "outputs": [
    {
     "data": {
      "text/plain": [
       "<Axes: title={'center': 'TPC-DS query elapsedTime on CPU vs GPU (lower is better)'}, xlabel='query'>"
      ]
     },
     "execution_count": 15,
     "metadata": {},
     "output_type": "execute_result"
    },
    {
     "data": {
      "image/png": "[encoded data removed]",
      "text/plain": [
       "<Figure size 640x480 with 1 Axes>"
      ]
     },
     "metadata": {},
     "output_type": "display_data"
    }
   ],
   "source": [
    "res.plot(title='TPC-DS query elapsedTime on CPU vs GPU (lower is better)', kind='bar', x='query', y=['elapsedTime_cpu', 'elapsedTime_gpu'])"
   ]
  },
  {
   "cell_type": "code",
   "execution_count": 16,
   "metadata": {
    "colab": {
     "base_uri": "https://localhost:8080/",
     "height": 510
    },
    "executionInfo": {
     "elapsed": 381,
     "status": "ok",
     "timestamp": 1729289294462,
     "user": {
      "displayName": "Gera Shegalov",
      "userId": "07399839501144323282"
     },
     "user_tz": 420
    },
    "id": "hW-LZponwGQE",
    "outputId": "ed456120-ca7f-4c91-a2bf-de87c2401f0c"
   },
   "outputs": [
    {
     "data": {
      "text/plain": [
       "<Axes: title={'center': 'Speedup factors of TPC-DS queries on GPU'}, xlabel='query'>"
      ]
     },
     "execution_count": 16,
     "metadata": {},
     "output_type": "execute_result"
    },
    {
     "data": {
      "image/png": "[encoded data removed]",
      "text/plain": [
       "<Figure size 640x480 with 1 Axes>"
      ]
     },
     "metadata": {},
     "output_type": "display_data"
    }
   ],
   "source": [
    "res.plot(title='Speedup factors of TPC-DS queries on GPU', kind='bar', x='query', y='speedup' )"
   ]
  },
  {
   "cell_type": "markdown",
   "metadata": {
    "id": "Pk2TR4yimNqP"
   },
   "source": [
    "# Run Queries interactively"
   ]
  },
  {
   "cell_type": "code",
   "execution_count": 17,
   "metadata": {
    "executionInfo": {
     "elapsed": 4,
     "status": "ok",
     "timestamp": 1729289294462,
     "user": {
      "displayName": "Gera Shegalov",
      "userId": "07399839501144323282"
     },
     "user_tz": 420
    },
    "id": "RpIl6NyNzqYU"
   },
   "outputs": [],
   "source": [
    "query = 'q88'\n",
    "with open(f\"{tpcds_pyspark_files}/Queries/{query}.sql\") as f:\n",
    "  q = f.read()"
   ]
  },
  {
   "cell_type": "code",
   "execution_count": 18,
   "metadata": {
    "colab": {
     "base_uri": "https://localhost:8080/",
     "height": 0
    },
    "executionInfo": {
     "elapsed": 3,
     "status": "ok",
     "timestamp": 1729289294462,
     "user": {
      "displayName": "Gera Shegalov",
      "userId": "07399839501144323282"
     },
     "user_tz": 420
    },
    "id": "cuCVL1Ed1lQd",
    "outputId": "d256f4b7-e0e2-450c-ba88-aff0d7571510"
   },
   "outputs": [
    {
     "name": "stdout",
     "output_type": "stream",
     "text": [
      "SELECT *\n",
      "FROM\n",
      "  (SELECT count(*) h8_30_to_9\n",
      "  FROM store_sales, household_demographics, time_dim, store\n",
      "  WHERE ss_sold_time_sk = time_dim.t_time_sk\n",
      "    AND ss_hdemo_sk = household_demographics.hd_demo_sk\n",
      "    AND ss_store_sk = s_store_sk\n",
      "    AND time_dim.t_hour = 8\n",
      "    AND time_dim.t_minute >= 30\n",
      "    AND (\n",
      "    (household_demographics.hd_dep_count = 4 AND household_demographics.hd_vehicle_count <= 4 + 2)\n",
      "      OR\n",
      "      (household_demographics.hd_dep_count = 2 AND household_demographics.hd_vehicle_count <= 2 + 2)\n",
      "      OR\n",
      "      (household_demographics.hd_dep_count = 0 AND\n",
      "        household_demographics.hd_vehicle_count <= 0 + 2))\n",
      "    AND store.s_store_name = 'ese') s1,\n",
      "  (SELECT count(*) h9_to_9_30\n",
      "  FROM store_sales, household_demographics, time_dim, store\n",
      "  WHERE ss_sold_time_sk = time_dim.t_time_sk\n",
      "    AND ss_hdemo_sk = household_demographics.hd_demo_sk\n",
      "    AND ss_store_sk = s_store_sk\n",
      "    AND time_dim.t_hour = 9\n",
      "    AND time_dim.t_minute < 30\n",
      "    AND (\n",
      "    (household_demographics.hd_dep_count = 4 AND household_demographics.hd_vehicle_count <= 4 + 2)\n",
      "      OR\n",
      "      (household_demographics.hd_dep_count = 2 AND household_demographics.hd_vehicle_count <= 2 + 2)\n",
      "      OR\n",
      "      (household_demographics.hd_dep_count = 0 AND\n",
      "        household_demographics.hd_vehicle_count <= 0 + 2))\n",
      "    AND store.s_store_name = 'ese') s2,\n",
      "  (SELECT count(*) h9_30_to_10\n",
      "  FROM store_sales, household_demographics, time_dim, store\n",
      "  WHERE ss_sold_time_sk = time_dim.t_time_sk\n",
      "    AND ss_hdemo_sk = household_demographics.hd_demo_sk\n",
      "    AND ss_store_sk = s_store_sk\n",
      "    AND time_dim.t_hour = 9\n",
      "    AND time_dim.t_minute >= 30\n",
      "    AND (\n",
      "    (household_demographics.hd_dep_count = 4 AND household_demographics.hd_vehicle_count <= 4 + 2)\n",
      "      OR\n",
      "      (household_demographics.hd_dep_count = 2 AND household_demographics.hd_vehicle_count <= 2 + 2)\n",
      "      OR\n",
      "      (household_demographics.hd_dep_count = 0 AND\n",
      "        household_demographics.hd_vehicle_count <= 0 + 2))\n",
      "    AND store.s_store_name = 'ese') s3,\n",
      "  (SELECT count(*) h10_to_10_30\n",
      "  FROM store_sales, household_demographics, time_dim, store\n",
      "  WHERE ss_sold_time_sk = time_dim.t_time_sk\n",
      "    AND ss_hdemo_sk = household_demographics.hd_demo_sk\n",
      "    AND ss_store_sk = s_store_sk\n",
      "    AND time_dim.t_hour = 10\n",
      "    AND time_dim.t_minute < 30\n",
      "    AND (\n",
      "    (household_demographics.hd_dep_count = 4 AND household_demographics.hd_vehicle_count <= 4 + 2)\n",
      "      OR\n",
      "      (household_demographics.hd_dep_count = 2 AND household_demographics.hd_vehicle_count <= 2 + 2)\n",
      "      OR\n",
      "      (household_demographics.hd_dep_count = 0 AND\n",
      "        household_demographics.hd_vehicle_count <= 0 + 2))\n",
      "    AND store.s_store_name = 'ese') s4,\n",
      "  (SELECT count(*) h10_30_to_11\n",
      "  FROM store_sales, household_demographics, time_dim, store\n",
      "  WHERE ss_sold_time_sk = time_dim.t_time_sk\n",
      "    AND ss_hdemo_sk = household_demographics.hd_demo_sk\n",
      "    AND ss_store_sk = s_store_sk\n",
      "    AND time_dim.t_hour = 10\n",
      "    AND time_dim.t_minute >= 30\n",
      "    AND (\n",
      "    (household_demographics.hd_dep_count = 4 AND household_demographics.hd_vehicle_count <= 4 + 2)\n",
      "      OR\n",
      "      (household_demographics.hd_dep_count = 2 AND household_demographics.hd_vehicle_count <= 2 + 2)\n",
      "      OR\n",
      "      (household_demographics.hd_dep_count = 0 AND\n",
      "        household_demographics.hd_vehicle_count <= 0 + 2))\n",
      "    AND store.s_store_name = 'ese') s5,\n",
      "  (SELECT count(*) h11_to_11_30\n",
      "  FROM store_sales, household_demographics, time_dim, store\n",
      "  WHERE ss_sold_time_sk = time_dim.t_time_sk\n",
      "    AND ss_hdemo_sk = household_demographics.hd_demo_sk\n",
      "    AND ss_store_sk = s_store_sk\n",
      "    AND time_dim.t_hour = 11\n",
      "    AND time_dim.t_minute < 30\n",
      "    AND (\n",
      "    (household_demographics.hd_dep_count = 4 AND household_demographics.hd_vehicle_count <= 4 + 2)\n",
      "      OR\n",
      "      (household_demographics.hd_dep_count = 2 AND household_demographics.hd_vehicle_count <= 2 + 2)\n",
      "      OR\n",
      "      (household_demographics.hd_dep_count = 0 AND\n",
      "        household_demographics.hd_vehicle_count <= 0 + 2))\n",
      "    AND store.s_store_name = 'ese') s6,\n",
      "  (SELECT count(*) h11_30_to_12\n",
      "  FROM store_sales, household_demographics, time_dim, store\n",
      "  WHERE ss_sold_time_sk = time_dim.t_time_sk\n",
      "    AND ss_hdemo_sk = household_demographics.hd_demo_sk\n",
      "    AND ss_store_sk = s_store_sk\n",
      "    AND time_dim.t_hour = 11\n",
      "    AND time_dim.t_minute >= 30\n",
      "    AND (\n",
      "    (household_demographics.hd_dep_count = 4 AND household_demographics.hd_vehicle_count <= 4 + 2)\n",
      "      OR\n",
      "      (household_demographics.hd_dep_count = 2 AND household_demographics.hd_vehicle_count <= 2 + 2)\n",
      "      OR\n",
      "      (household_demographics.hd_dep_count = 0 AND\n",
      "        household_demographics.hd_vehicle_count <= 0 + 2))\n",
      "    AND store.s_store_name = 'ese') s7,\n",
      "  (SELECT count(*) h12_to_12_30\n",
      "  FROM store_sales, household_demographics, time_dim, store\n",
      "  WHERE ss_sold_time_sk = time_dim.t_time_sk\n",
      "    AND ss_hdemo_sk = household_demographics.hd_demo_sk\n",
      "    AND ss_store_sk = s_store_sk\n",
      "    AND time_dim.t_hour = 12\n",
      "    AND time_dim.t_minute < 30\n",
      "    AND (\n",
      "    (household_demographics.hd_dep_count = 4 AND household_demographics.hd_vehicle_count <= 4 + 2)\n",
      "      OR\n",
      "      (household_demographics.hd_dep_count = 2 AND household_demographics.hd_vehicle_count <= 2 + 2)\n",
      "      OR\n",
      "      (household_demographics.hd_dep_count = 0 AND\n",
      "        household_demographics.hd_vehicle_count <= 0 + 2))\n",
      "    AND store.s_store_name = 'ese') s8\n",
      "\n"
     ]
    }
   ],
   "source": [
    "print(q)"
   ]
  },
  {
   "cell_type": "code",
   "execution_count": 19,
   "metadata": {
    "colab": {
     "base_uri": "https://localhost:8080/",
     "height": 0
    },
    "editable": true,
    "executionInfo": {
     "elapsed": 1470,
     "status": "ok",
     "timestamp": 1729289295930,
     "user": {
      "displayName": "Gera Shegalov",
      "userId": "07399839501144323282"
     },
     "user_tz": 420
    },
    "id": "n4QUdq17040i",
    "outputId": "7d7c7562-fae6-4426-97a7-ec23b8fe2f0d",
    "slideshow": {
     "slide_type": ""
    },
    "tags": []
   },
   "outputs": [
    {
     "name": "stderr",
     "output_type": "stream",
     "text": [
      "[Stage 448:>(5 + 59) / 64][Stage 450:>  (0 + 1) / 1][Stage 452:>  (0 + 1) / 1]\r"
     ]
    },
    {
     "name": "stdout",
     "output_type": "stream",
     "text": [
      "CPU times: user 4.61 ms, sys: 1.07 ms, total: 5.69 ms\n",
      "Wall time: 2.01 s\n"
     ]
    },
    {
     "name": "stderr",
     "output_type": "stream",
     "text": [
      "                                                                                \r"
     ]
    },
    {
     "data": {
      "text/plain": [
       "[Row(h8_30_to_9=18440, h9_to_9_30=39156, h9_30_to_10=38666, h10_to_10_30=58037, h10_30_to_11=58313, h11_to_11_30=34436, h11_30_to_12=33322, h12_to_12_30=39142)]"
      ]
     },
     "execution_count": 19,
     "metadata": {},
     "output_type": "execute_result"
    }
   ],
   "source": [
    "spark.conf.set('spark.rapids.sql.enabled', True)\n",
    "df  = spark.sql(q)\n",
    "%time df.collect()"
   ]
  }
 ],
 "metadata": {
  "accelerator": "GPU",
  "colab": {
   "gpuType": "T4",
   "machine_shape": "hm",
   "provenance": []
  },
  "kernelspec": {
   "display_name": ".venv",
   "language": "python",
   "name": "python3"
  },
  "language_info": {
   "codemirror_mode": {
    "name": "ipython",
    "version": 3
   },
   "file_extension": ".py",
   "mimetype": "text/x-python",
   "name": "python",
   "nbconvert_exporter": "python",
   "pygments_lexer": "ipython3",
   "version": "3.10.12"
  }
 },
 "nbformat": 4,
 "nbformat_minor": 4
}
