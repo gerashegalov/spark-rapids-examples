{
 "cells": [
  {
   "cell_type": "markdown",
   "metadata": {
    "editable": true,
    "id": "HtgYO0bXEBrN",
    "slideshow": {
     "slide_type": ""
    },
    "tags": []
   },
   "source": [
    "# TPC DS scale factor 10 - Apache Spark acceleration on GPU with RAPIDS Spark\n",
    "\n",
    "based on https://colab.research.google.com/github/LucaCanali/Miscellaneous/blob/master/Performance_Testing/TPCDS_PySpark/Labs_and_Notes/TPCDS_PySpark_getstarted.ipynb#scrollTo=6bab7772"
   ]
  },
  {
   "cell_type": "markdown",
   "metadata": {},
   "source": [
    "# Install packages"
   ]
  },
  {
   "cell_type": "code",
   "execution_count": 36,
   "metadata": {},
   "outputs": [],
   "source": [
    "spark_version='3.5.0'\n",
    "rapids_version='24.10.0'\n",
    "scala_version='2.12'"
   ]
  },
  {
   "cell_type": "code",
   "execution_count": 37,
   "metadata": {
    "executionInfo": {
     "elapsed": 1630,
     "status": "ok",
     "timestamp": 1729291037060,
     "user": {
      "displayName": "Gera Shegalov",
      "userId": "07399839501144323282"
     },
     "user_tz": 420
    },
    "id": "Yq230e1Nho_M"
   },
   "outputs": [
    {
     "name": "stdout",
     "output_type": "stream",
     "text": [
      "Note: you may need to restart the kernel to use updated packages.\n"
     ]
    }
   ],
   "source": [
    "%pip install --quiet \\\n",
    "  tpcds_pyspark \\\n",
    "  pyspark=={spark_version} \\\n",
    "  sparkmeasure \\\n",
    "  pandas \\\n",
    "  matplotlib"
   ]
  },
  {
   "cell_type": "markdown",
   "metadata": {},
   "source": [
    "# Import modules"
   ]
  },
  {
   "cell_type": "code",
   "execution_count": 38,
   "metadata": {
    "executionInfo": {
     "elapsed": 1052,
     "status": "ok",
     "timestamp": 1729291488008,
     "user": {
      "displayName": "Gera Shegalov",
      "userId": "07399839501144323282"
     },
     "user_tz": 420
    },
    "id": "uq_LmKsB36R_"
   },
   "outputs": [],
   "source": [
    "from importlib.resources import files\n",
    "from pyspark.sql import SparkSession\n",
    "from tpcds_pyspark import TPCDS\n",
    "import os\n",
    "import pandas as pd\n",
    "import time"
   ]
  },
  {
   "cell_type": "code",
   "execution_count": 39,
   "metadata": {
    "executionInfo": {
     "elapsed": 12,
     "status": "ok",
     "timestamp": 1729291037060,
     "user": {
      "displayName": "Gera Shegalov",
      "userId": "07399839501144323282"
     },
     "user_tz": 420
    },
    "id": "CWaokrdGfsyo"
   },
   "outputs": [],
   "source": [
    "tpcds_pyspark_files = files('tpcds_pyspark')"
   ]
  },
  {
   "cell_type": "markdown",
   "metadata": {
    "id": "edMCFrhvgDS8"
   },
   "source": [
    "# Download TPC-DS 10GiB Scale Parquet Dataset"
   ]
  },
  {
   "cell_type": "code",
   "execution_count": 40,
   "metadata": {
    "executionInfo": {
     "elapsed": 41530,
     "status": "ok",
     "timestamp": 1729292943990,
     "user": {
      "displayName": "Gera Shegalov",
      "userId": "07399839501144323282"
     },
     "user_tz": 420
    },
    "id": "DY8TkhPQTjbB"
   },
   "outputs": [],
   "source": [
    "if not os.path.isdir('tpcds_10'):\n",
    "  if not os.path.isfile('tpcds_10.zip'):\n",
    "    !wget https://sparkdltrigger.web.cern.ch/sparkdltrigger/TPCDS/tpcds_10.zip\n",
    "  !unzip -q tpcds_10.zip"
   ]
  },
  {
   "cell_type": "markdown",
   "metadata": {
    "id": "6tgF9LWcgUEs"
   },
   "source": [
    "# Init a SparkSession with RAPIDS Spark"
   ]
  },
  {
   "cell_type": "code",
   "execution_count": 41,
   "metadata": {
    "executionInfo": {
     "elapsed": 39420,
     "status": "ok",
     "timestamp": 1729289098419,
     "user": {
      "displayName": "Gera Shegalov",
      "userId": "07399839501144323282"
     },
     "user_tz": 420
    },
    "id": "-L-wMZTpfYxs"
   },
   "outputs": [
    {
     "name": "stderr",
     "output_type": "stream",
     "text": [
      "24/10/22 18:16:40 WARN SparkSession: Using an existing Spark session; only runtime SQL configurations will take effect.\n"
     ]
    }
   ],
   "source": [
    "spark = (\n",
    "    SparkSession.builder\n",
    "      .appName('TPCDS PySpark RAPIDS=ON/OFF')\n",
    "      .config('spark.driver.memory', '5g')\n",
    "      .config('spark.plugins', 'com.nvidia.spark.SQLPlugin')\n",
    "      .config('spark.jars', tpcds_pyspark_files.joinpath(f\"spark-measure_{scala_version}-0.24.jar\"))\n",
    "      .config('spark.jars.packages', f\"com.nvidia:rapids-4-spark_{scala_version}:{rapids_version}\")\n",
    "      .getOrCreate()\n",
    ")\n"
   ]
  },
  {
   "cell_type": "markdown",
   "metadata": {
    "id": "_4sYje2NiNA7"
   },
   "source": [
    "# Verify SQL Acceleration on GPU can be enabled by checking the query plan and the GPU RAM in the \"Resources\" tab"
   ]
  },
  {
   "cell_type": "code",
   "execution_count": 42,
   "metadata": {
    "colab": {
     "base_uri": "https://localhost:8080/",
     "height": 0
    },
    "executionInfo": {
     "elapsed": 5921,
     "status": "ok",
     "timestamp": 1729289104337,
     "user": {
      "displayName": "Gera Shegalov",
      "userId": "07399839501144323282"
     },
     "user_tz": 420
    },
    "id": "nUyQBKtkga9y",
    "outputId": "5d493a51-58de-4aed-bbaf-d73c82769836"
   },
   "outputs": [
    {
     "name": "stdout",
     "output_type": "stream",
     "text": [
      "== Physical Plan ==\n",
      "AdaptiveSparkPlan isFinalPlan=true\n",
      "+- == Final Plan ==\n",
      "   GpuColumnarToRow false, [loreId=22]\n",
      "   +- GpuHashAggregate (keys=[], functions=[gpubasicsum(id#182218L, LongType, false)]), filters=ArrayBuffer(None)) [loreId=21]\n",
      "      +- GpuShuffleCoalesce 1073741824, [loreId=20]\n",
      "         +- ShuffleQueryStage 0\n",
      "            +- GpuColumnarExchange gpusinglepartitioning$(), ENSURE_REQUIREMENTS, [plan_id=886390], [loreId=17]\n",
      "               +- GpuHashAggregate (keys=[], functions=[partial_gpubasicsum(id#182218L, LongType, false)]), filters=ArrayBuffer(None)) [loreId=16]\n",
      "                  +- GpuRange (0, 1000, step=1, splits=64)\n",
      "+- == Initial Plan ==\n",
      "   HashAggregate(keys=[], functions=[sum(id#182218L)])\n",
      "   +- Exchange SinglePartition, ENSURE_REQUIREMENTS, [plan_id=886337]\n",
      "      +- HashAggregate(keys=[], functions=[partial_sum(id#182218L)])\n",
      "         +- Range (0, 1000, step=1, splits=64)\n",
      "\n",
      "\n"
     ]
    }
   ],
   "source": [
    "spark.conf.set('spark.rapids.sql.enabled', True)\n",
    "sum_df = spark.range(1000).selectExpr('SUM(*)')\n",
    "sum_df.collect()\n",
    "sum_df.explain()"
   ]
  },
  {
   "cell_type": "code",
   "execution_count": 43,
   "metadata": {
    "executionInfo": {
     "elapsed": 5,
     "status": "ok",
     "timestamp": 1729289104337,
     "user": {
      "displayName": "Gera Shegalov",
      "userId": "07399839501144323282"
     },
     "user_tz": 420
    },
    "id": "t7kj9OQnPuWA"
   },
   "outputs": [],
   "source": [
    "# https://github.com/LucaCanali/Miscellaneous/tree/master/Performance_Testing/TPCDS_PySpark/tpcds_pyspark/Queries\n",
    "\n",
    "# queries = None to run all (takes much longer)\n",
    "queries = None\n",
    "queries = [\n",
    "    'q14a',\n",
    "    'q14b',\n",
    "    'q23a',\n",
    "    'q23b',\n",
    "    # 'q24a',\n",
    "    # 'q24b',\n",
    "    'q88',\n",
    "]\n"
   ]
  },
  {
   "cell_type": "markdown",
   "metadata": {},
   "source": [
    "# TPCDS App"
   ]
  },
  {
   "cell_type": "code",
   "execution_count": 44,
   "metadata": {
    "colab": {
     "base_uri": "https://localhost:8080/",
     "height": 0
    },
    "executionInfo": {
     "elapsed": 4,
     "status": "ok",
     "timestamp": 1729289104337,
     "user": {
      "displayName": "Gera Shegalov",
      "userId": "07399839501144323282"
     },
     "user_tz": 420
    },
    "id": "BYPgafupcxaY",
    "outputId": "fdfb427f-6cc0-4dff-9295-dc44e6ead132"
   },
   "outputs": [
    {
     "name": "stdout",
     "output_type": "stream",
     "text": [
      "sparkMeasure jar path: /home/gshegalov/.local/share/virtualenvs/jupyterlab-E-itHfrh/lib/python3.10/site-packages/tpcds_pyspark/spark-measure_2.12-0.24.jar\n",
      "TPCDS queries path: /home/gshegalov/.local/share/virtualenvs/jupyterlab-E-itHfrh/lib/python3.10/site-packages/tpcds_pyspark/Queries\n"
     ]
    },
    {
     "name": "stderr",
     "output_type": "stream",
     "text": [
      "24/10/22 18:17:25 WARN SparkSession: Using an existing Spark session; only runtime SQL configurations will take effect.\n"
     ]
    }
   ],
   "source": [
    "demo_start = time.time()\n",
    "tpcds = TPCDS(data_path='./tpcds_10', num_runs=1, queries_repeat_times=1, queries=queries)"
   ]
  },
  {
   "cell_type": "markdown",
   "metadata": {
    "id": "0Yaaw2GfliC5"
   },
   "source": [
    "## Register TPC-DS tables before running queries"
   ]
  },
  {
   "cell_type": "code",
   "execution_count": 45,
   "metadata": {
    "colab": {
     "base_uri": "https://localhost:8080/",
     "height": 0
    },
    "executionInfo": {
     "elapsed": 2992,
     "status": "ok",
     "timestamp": 1729289107327,
     "user": {
      "displayName": "Gera Shegalov",
      "userId": "07399839501144323282"
     },
     "user_tz": 420
    },
    "id": "kfsHodFqdDl7",
    "outputId": "5a810f9d-e353-456c-b7bb-48ae3290178a"
   },
   "outputs": [
    {
     "name": "stdout",
     "output_type": "stream",
     "text": [
      "Creating temporary view catalog_returns\n",
      "Creating temporary view catalog_sales\n",
      "Creating temporary view inventory\n",
      "Creating temporary view store_returns\n",
      "Creating temporary view store_sales\n",
      "Creating temporary view web_returns\n",
      "Creating temporary view web_sales\n",
      "Creating temporary view call_center\n",
      "Creating temporary view catalog_page\n",
      "Creating temporary view customer\n",
      "Creating temporary view customer_address\n",
      "Creating temporary view customer_demographics\n",
      "Creating temporary view date_dim\n",
      "Creating temporary view household_demographics\n",
      "Creating temporary view income_band\n",
      "Creating temporary view item\n",
      "Creating temporary view promotion\n",
      "Creating temporary view reason\n",
      "Creating temporary view ship_mode\n",
      "Creating temporary view store\n",
      "Creating temporary view time_dim\n",
      "Creating temporary view warehouse\n",
      "Creating temporary view web_page\n",
      "Creating temporary view web_site\n"
     ]
    }
   ],
   "source": [
    "tpcds.map_tables()"
   ]
  },
  {
   "cell_type": "markdown",
   "metadata": {
    "id": "ulyFidEPhg_l"
   },
   "source": [
    "## Measure Apache Spark CPU"
   ]
  },
  {
   "cell_type": "code",
   "execution_count": 46,
   "metadata": {
    "colab": {
     "base_uri": "https://localhost:8080/",
     "height": 0
    },
    "executionInfo": {
     "elapsed": 135425,
     "status": "ok",
     "timestamp": 1729289242749,
     "user": {
      "displayName": "Gera Shegalov",
      "userId": "07399839501144323282"
     },
     "user_tz": 420
    },
    "id": "Dg0itS7cdIf4",
    "outputId": "4ce1f8a2-5ac7-4805-e6f6-37a8acb7e039"
   },
   "outputs": [
    {
     "name": "stdout",
     "output_type": "stream",
     "text": [
      "\n",
      "Run 0 - query q14a - attempt 0 - starting...\n"
     ]
    },
    {
     "name": "stderr",
     "output_type": "stream",
     "text": [
      "                                                                                \r"
     ]
    },
    {
     "name": "stdout",
     "output_type": "stream",
     "text": [
      "Job finished\n",
      "...Start Time = 2024-10-22 18:18:36\n",
      "...Elapsed Time = 7.42 sec\n",
      "...Executors Run Time = 115.76 sec\n",
      "...Executors CPU Time = 63.91 sec\n",
      "...Executors JVM GC Time = 39.27 sec\n",
      "...Average Active Tasks = 15.6\n",
      "\n",
      "Run 0 - query q14b - attempt 0 - starting...\n"
     ]
    },
    {
     "name": "stderr",
     "output_type": "stream",
     "text": [
      "                                                                                \r"
     ]
    },
    {
     "name": "stdout",
     "output_type": "stream",
     "text": [
      "Job finished\n",
      "...Start Time = 2024-10-22 18:18:46\n",
      "...Elapsed Time = 4.53 sec\n",
      "...Executors Run Time = 76.36 sec\n",
      "...Executors CPU Time = 49.59 sec\n",
      "...Executors JVM GC Time = 18.49 sec\n",
      "...Average Active Tasks = 16.9\n",
      "\n",
      "Run 0 - query q23a - attempt 0 - starting...\n"
     ]
    },
    {
     "name": "stderr",
     "output_type": "stream",
     "text": [
      "                                                                                \r"
     ]
    },
    {
     "name": "stdout",
     "output_type": "stream",
     "text": [
      "Job finished\n",
      "...Start Time = 2024-10-22 18:18:52\n",
      "...Elapsed Time = 7.78 sec\n",
      "...Executors Run Time = 169.37 sec\n",
      "...Executors CPU Time = 109.71 sec\n",
      "...Executors JVM GC Time = 43.06 sec\n",
      "...Average Active Tasks = 21.8\n",
      "\n",
      "Run 0 - query q23b - attempt 0 - starting...\n"
     ]
    },
    {
     "name": "stderr",
     "output_type": "stream",
     "text": [
      "                                                                                \r"
     ]
    },
    {
     "name": "stdout",
     "output_type": "stream",
     "text": [
      "Job finished\n",
      "...Start Time = 2024-10-22 18:19:01\n",
      "...Elapsed Time = 8.04 sec\n",
      "...Executors Run Time = 207.58 sec\n",
      "...Executors CPU Time = 124.36 sec\n",
      "...Executors JVM GC Time = 65.38 sec\n",
      "...Average Active Tasks = 25.8\n",
      "\n",
      "Run 0 - query q88 - attempt 0 - starting...\n",
      "Job finished\n",
      "...Start Time = 2024-10-22 18:19:10\n",
      "...Elapsed Time = 0.77 sec\n",
      "...Executors Run Time = 31.51 sec\n",
      "...Executors CPU Time = 20.43 sec\n",
      "...Executors JVM GC Time = 7.06 sec\n",
      "...Average Active Tasks = 40.8\n",
      "CPU times: user 99.8 ms, sys: 22.9 ms, total: 123 ms\n",
      "Wall time: 36 s\n"
     ]
    },
    {
     "data": {
      "text/html": [
       "<div>\n",
       "<style scoped>\n",
       "    .dataframe tbody tr th:only-of-type {\n",
       "        vertical-align: middle;\n",
       "    }\n",
       "\n",
       "    .dataframe tbody tr th {\n",
       "        vertical-align: top;\n",
       "    }\n",
       "\n",
       "    .dataframe thead th {\n",
       "        text-align: right;\n",
       "    }\n",
       "</style>\n",
       "<table border=\"1\" class=\"dataframe\">\n",
       "  <thead>\n",
       "    <tr style=\"text-align: right;\">\n",
       "      <th></th>\n",
       "      <th>query</th>\n",
       "      <th>numStages</th>\n",
       "      <th>numTasks</th>\n",
       "      <th>elapsedTime</th>\n",
       "      <th>stageDuration</th>\n",
       "      <th>executorRunTime</th>\n",
       "      <th>executorCpuTime</th>\n",
       "      <th>executorDeserializeTime</th>\n",
       "      <th>executorDeserializeCpuTime</th>\n",
       "      <th>resultSerializationTime</th>\n",
       "      <th>...</th>\n",
       "      <th>shuffleLocalBlocksFetched</th>\n",
       "      <th>shuffleRemoteBlocksFetched</th>\n",
       "      <th>shuffleTotalBytesRead</th>\n",
       "      <th>shuffleLocalBytesRead</th>\n",
       "      <th>shuffleRemoteBytesRead</th>\n",
       "      <th>shuffleRemoteBytesReadToDisk</th>\n",
       "      <th>shuffleBytesWritten</th>\n",
       "      <th>shuffleRecordsWritten</th>\n",
       "      <th>avg_active_tasks</th>\n",
       "      <th>elapsed_time_seconds</th>\n",
       "    </tr>\n",
       "  </thead>\n",
       "  <tbody>\n",
       "    <tr>\n",
       "      <th>0</th>\n",
       "      <td>q14a</td>\n",
       "      <td>30</td>\n",
       "      <td>838</td>\n",
       "      <td>7417</td>\n",
       "      <td>12274</td>\n",
       "      <td>115758</td>\n",
       "      <td>63907</td>\n",
       "      <td>2393</td>\n",
       "      <td>1634</td>\n",
       "      <td>924</td>\n",
       "      <td>...</td>\n",
       "      <td>551</td>\n",
       "      <td>0</td>\n",
       "      <td>878437913</td>\n",
       "      <td>878437913</td>\n",
       "      <td>0</td>\n",
       "      <td>0</td>\n",
       "      <td>875325021</td>\n",
       "      <td>62516924</td>\n",
       "      <td>15</td>\n",
       "      <td>7</td>\n",
       "    </tr>\n",
       "    <tr>\n",
       "      <th>1</th>\n",
       "      <td>q14b</td>\n",
       "      <td>24</td>\n",
       "      <td>636</td>\n",
       "      <td>4526</td>\n",
       "      <td>6859</td>\n",
       "      <td>76362</td>\n",
       "      <td>49588</td>\n",
       "      <td>1629</td>\n",
       "      <td>1198</td>\n",
       "      <td>87</td>\n",
       "      <td>...</td>\n",
       "      <td>513</td>\n",
       "      <td>0</td>\n",
       "      <td>1013592969</td>\n",
       "      <td>1013592969</td>\n",
       "      <td>0</td>\n",
       "      <td>0</td>\n",
       "      <td>529675847</td>\n",
       "      <td>40865273</td>\n",
       "      <td>16</td>\n",
       "      <td>4</td>\n",
       "    </tr>\n",
       "    <tr>\n",
       "      <th>2</th>\n",
       "      <td>q23a</td>\n",
       "      <td>18</td>\n",
       "      <td>621</td>\n",
       "      <td>7783</td>\n",
       "      <td>13629</td>\n",
       "      <td>169367</td>\n",
       "      <td>109709</td>\n",
       "      <td>1557</td>\n",
       "      <td>1048</td>\n",
       "      <td>75</td>\n",
       "      <td>...</td>\n",
       "      <td>2269</td>\n",
       "      <td>0</td>\n",
       "      <td>1115089630</td>\n",
       "      <td>1115089630</td>\n",
       "      <td>0</td>\n",
       "      <td>0</td>\n",
       "      <td>1085198863</td>\n",
       "      <td>41990073</td>\n",
       "      <td>21</td>\n",
       "      <td>7</td>\n",
       "    </tr>\n",
       "    <tr>\n",
       "      <th>3</th>\n",
       "      <td>q23b</td>\n",
       "      <td>21</td>\n",
       "      <td>690</td>\n",
       "      <td>8045</td>\n",
       "      <td>15676</td>\n",
       "      <td>207577</td>\n",
       "      <td>124362</td>\n",
       "      <td>4056</td>\n",
       "      <td>1347</td>\n",
       "      <td>27</td>\n",
       "      <td>...</td>\n",
       "      <td>4779</td>\n",
       "      <td>0</td>\n",
       "      <td>1200330085</td>\n",
       "      <td>1200330085</td>\n",
       "      <td>0</td>\n",
       "      <td>0</td>\n",
       "      <td>1097570340</td>\n",
       "      <td>42452502</td>\n",
       "      <td>25</td>\n",
       "      <td>8</td>\n",
       "    </tr>\n",
       "    <tr>\n",
       "      <th>4</th>\n",
       "      <td>q88</td>\n",
       "      <td>26</td>\n",
       "      <td>530</td>\n",
       "      <td>773</td>\n",
       "      <td>4281</td>\n",
       "      <td>31512</td>\n",
       "      <td>20433</td>\n",
       "      <td>196</td>\n",
       "      <td>359</td>\n",
       "      <td>0</td>\n",
       "      <td>...</td>\n",
       "      <td>512</td>\n",
       "      <td>0</td>\n",
       "      <td>28912</td>\n",
       "      <td>28912</td>\n",
       "      <td>0</td>\n",
       "      <td>0</td>\n",
       "      <td>28912</td>\n",
       "      <td>512</td>\n",
       "      <td>40</td>\n",
       "      <td>0</td>\n",
       "    </tr>\n",
       "  </tbody>\n",
       "</table>\n",
       "<p>5 rows × 33 columns</p>\n",
       "</div>"
      ],
      "text/plain": [
       "  query  numStages  numTasks  elapsedTime  stageDuration  executorRunTime  \\\n",
       "0  q14a         30       838         7417          12274           115758   \n",
       "1  q14b         24       636         4526           6859            76362   \n",
       "2  q23a         18       621         7783          13629           169367   \n",
       "3  q23b         21       690         8045          15676           207577   \n",
       "4   q88         26       530          773           4281            31512   \n",
       "\n",
       "   executorCpuTime  executorDeserializeTime  executorDeserializeCpuTime  \\\n",
       "0            63907                     2393                        1634   \n",
       "1            49588                     1629                        1198   \n",
       "2           109709                     1557                        1048   \n",
       "3           124362                     4056                        1347   \n",
       "4            20433                      196                         359   \n",
       "\n",
       "   resultSerializationTime  ...  shuffleLocalBlocksFetched  \\\n",
       "0                      924  ...                        551   \n",
       "1                       87  ...                        513   \n",
       "2                       75  ...                       2269   \n",
       "3                       27  ...                       4779   \n",
       "4                        0  ...                        512   \n",
       "\n",
       "   shuffleRemoteBlocksFetched  shuffleTotalBytesRead  shuffleLocalBytesRead  \\\n",
       "0                           0              878437913              878437913   \n",
       "1                           0             1013592969             1013592969   \n",
       "2                           0             1115089630             1115089630   \n",
       "3                           0             1200330085             1200330085   \n",
       "4                           0                  28912                  28912   \n",
       "\n",
       "   shuffleRemoteBytesRead  shuffleRemoteBytesReadToDisk  shuffleBytesWritten  \\\n",
       "0                       0                             0            875325021   \n",
       "1                       0                             0            529675847   \n",
       "2                       0                             0           1085198863   \n",
       "3                       0                             0           1097570340   \n",
       "4                       0                             0                28912   \n",
       "\n",
       "   shuffleRecordsWritten  avg_active_tasks  elapsed_time_seconds  \n",
       "0               62516924                15                     7  \n",
       "1               40865273                16                     4  \n",
       "2               41990073                21                     7  \n",
       "3               42452502                25                     8  \n",
       "4                    512                40                     0  \n",
       "\n",
       "[5 rows x 33 columns]"
      ]
     },
     "execution_count": 46,
     "metadata": {},
     "output_type": "execute_result"
    }
   ],
   "source": [
    "tpcds.spark.conf.set('spark.rapids.sql.enabled', False)\n",
    "%time tpcds.run_TPCDS()\n",
    "cpu_grouped_results = tpcds.grouped_results_pdf.copy()\n",
    "cpu_grouped_results"
   ]
  },
  {
   "cell_type": "markdown",
   "metadata": {
    "id": "bs6X_54UhuqJ"
   },
   "source": [
    "## Measure Apache Spark GPU"
   ]
  },
  {
   "cell_type": "code",
   "execution_count": 47,
   "metadata": {
    "colab": {
     "base_uri": "https://localhost:8080/",
     "height": 0
    },
    "executionInfo": {
     "elapsed": 45658,
     "status": "ok",
     "timestamp": 1729290819190,
     "user": {
      "displayName": "Gera Shegalov",
      "userId": "07399839501144323282"
     },
     "user_tz": 420
    },
    "id": "8vXDasUom70g",
    "outputId": "adccdd7f-99f0-4c82-d600-056b59f53933"
   },
   "outputs": [
    {
     "name": "stdout",
     "output_type": "stream",
     "text": [
      "\n",
      "Run 0 - query q14a - attempt 0 - starting...\n"
     ]
    },
    {
     "name": "stderr",
     "output_type": "stream",
     "text": [
      "24/10/22 18:19:13 WARN GpuOverrides: \n",
      "! <OverwriteByExpressionExec> cannot run on GPU because GPU does not currently support the operator class org.apache.spark.sql.execution.datasources.v2.OverwriteByExpressionExec\n",
      "\n",
      "                                                                                \r"
     ]
    },
    {
     "name": "stdout",
     "output_type": "stream",
     "text": [
      "Job finished\n",
      "...Start Time = 2024-10-22 18:19:12\n",
      "...Elapsed Time = 4.66 sec\n",
      "...Executors Run Time = 88.34 sec\n",
      "...Executors CPU Time = 14.61 sec\n",
      "...Executors JVM GC Time = 7.65 sec\n",
      "...Average Active Tasks = 19.0\n",
      "\n",
      "Run 0 - query q14b - attempt 0 - starting...\n"
     ]
    },
    {
     "name": "stderr",
     "output_type": "stream",
     "text": [
      "24/10/22 18:19:20 WARN GpuOverrides: \n",
      "! <OverwriteByExpressionExec> cannot run on GPU because GPU does not currently support the operator class org.apache.spark.sql.execution.datasources.v2.OverwriteByExpressionExec\n",
      "\n"
     ]
    },
    {
     "name": "stdout",
     "output_type": "stream",
     "text": [
      "Job finished\n",
      "...Start Time = 2024-10-22 18:19:20\n",
      "...Elapsed Time = 2.38 sec\n",
      "...Executors Run Time = 66.28 sec\n",
      "...Executors CPU Time = 11.44 sec\n",
      "...Executors JVM GC Time = 6.65 sec\n",
      "...Average Active Tasks = 27.8\n",
      "\n",
      "Run 0 - query q23a - attempt 0 - starting...\n"
     ]
    },
    {
     "name": "stderr",
     "output_type": "stream",
     "text": [
      "24/10/22 18:19:23 WARN GpuOverrides: \n",
      "! <OverwriteByExpressionExec> cannot run on GPU because GPU does not currently support the operator class org.apache.spark.sql.execution.datasources.v2.OverwriteByExpressionExec\n",
      "\n",
      "                                                                                \r"
     ]
    },
    {
     "name": "stdout",
     "output_type": "stream",
     "text": [
      "Job finished\n",
      "...Start Time = 2024-10-22 18:19:23\n",
      "...Elapsed Time = 2.9 sec\n",
      "...Executors Run Time = 88.17 sec\n",
      "...Executors CPU Time = 19.27 sec\n",
      "...Executors JVM GC Time = 6.89 sec\n",
      "...Average Active Tasks = 30.4\n",
      "\n",
      "Run 0 - query q23b - attempt 0 - starting...\n"
     ]
    },
    {
     "name": "stderr",
     "output_type": "stream",
     "text": [
      "24/10/22 18:19:28 WARN GpuOverrides: \n",
      "! <OverwriteByExpressionExec> cannot run on GPU because GPU does not currently support the operator class org.apache.spark.sql.execution.datasources.v2.OverwriteByExpressionExec\n",
      "\n",
      "                                                                                \r"
     ]
    },
    {
     "name": "stdout",
     "output_type": "stream",
     "text": [
      "Job finished\n",
      "...Start Time = 2024-10-22 18:19:27\n",
      "...Elapsed Time = 4.53 sec\n",
      "...Executors Run Time = 170.1 sec\n",
      "...Executors CPU Time = 21.97 sec\n",
      "...Executors JVM GC Time = 4.99 sec\n",
      "...Average Active Tasks = 37.5\n",
      "\n",
      "Run 0 - query q88 - attempt 0 - starting...\n"
     ]
    },
    {
     "name": "stderr",
     "output_type": "stream",
     "text": [
      "24/10/22 18:19:33 WARN GpuOverrides: \n",
      "! <OverwriteByExpressionExec> cannot run on GPU because GPU does not currently support the operator class org.apache.spark.sql.execution.datasources.v2.OverwriteByExpressionExec\n",
      "\n",
      "[Stage 1583:(26 + 38) / 64][Stage 1585:> (0 + 1) / 1][Stage 1587:> (0 + 1) / 1]\r"
     ]
    },
    {
     "name": "stdout",
     "output_type": "stream",
     "text": [
      "Job finished\n",
      "...Start Time = 2024-10-22 18:19:33\n",
      "...Elapsed Time = 1.5 sec\n",
      "...Executors Run Time = 78.1 sec\n",
      "...Executors CPU Time = 3.1 sec\n",
      "...Executors JVM GC Time = 1.92 sec\n",
      "...Average Active Tasks = 52.0\n",
      "CPU times: user 63.7 ms, sys: 20.5 ms, total: 84.1 ms\n",
      "Wall time: 23.8 s\n"
     ]
    },
    {
     "name": "stderr",
     "output_type": "stream",
     "text": [
      "                                                                                \r"
     ]
    },
    {
     "data": {
      "text/html": [
       "<div>\n",
       "<style scoped>\n",
       "    .dataframe tbody tr th:only-of-type {\n",
       "        vertical-align: middle;\n",
       "    }\n",
       "\n",
       "    .dataframe tbody tr th {\n",
       "        vertical-align: top;\n",
       "    }\n",
       "\n",
       "    .dataframe thead th {\n",
       "        text-align: right;\n",
       "    }\n",
       "</style>\n",
       "<table border=\"1\" class=\"dataframe\">\n",
       "  <thead>\n",
       "    <tr style=\"text-align: right;\">\n",
       "      <th></th>\n",
       "      <th>query</th>\n",
       "      <th>numStages</th>\n",
       "      <th>numTasks</th>\n",
       "      <th>elapsedTime</th>\n",
       "      <th>stageDuration</th>\n",
       "      <th>executorRunTime</th>\n",
       "      <th>executorCpuTime</th>\n",
       "      <th>executorDeserializeTime</th>\n",
       "      <th>executorDeserializeCpuTime</th>\n",
       "      <th>resultSerializationTime</th>\n",
       "      <th>...</th>\n",
       "      <th>shuffleLocalBlocksFetched</th>\n",
       "      <th>shuffleRemoteBlocksFetched</th>\n",
       "      <th>shuffleTotalBytesRead</th>\n",
       "      <th>shuffleLocalBytesRead</th>\n",
       "      <th>shuffleRemoteBytesRead</th>\n",
       "      <th>shuffleRemoteBytesReadToDisk</th>\n",
       "      <th>shuffleBytesWritten</th>\n",
       "      <th>shuffleRecordsWritten</th>\n",
       "      <th>avg_active_tasks</th>\n",
       "      <th>elapsed_time_seconds</th>\n",
       "    </tr>\n",
       "  </thead>\n",
       "  <tbody>\n",
       "    <tr>\n",
       "      <th>0</th>\n",
       "      <td>q14a</td>\n",
       "      <td>30</td>\n",
       "      <td>862</td>\n",
       "      <td>4655</td>\n",
       "      <td>6288</td>\n",
       "      <td>88338</td>\n",
       "      <td>14607</td>\n",
       "      <td>3734</td>\n",
       "      <td>3113</td>\n",
       "      <td>40</td>\n",
       "      <td>...</td>\n",
       "      <td>718</td>\n",
       "      <td>0</td>\n",
       "      <td>696333940</td>\n",
       "      <td>696333940</td>\n",
       "      <td>0</td>\n",
       "      <td>0</td>\n",
       "      <td>693777744</td>\n",
       "      <td>18794</td>\n",
       "      <td>18</td>\n",
       "      <td>4</td>\n",
       "    </tr>\n",
       "    <tr>\n",
       "      <th>1</th>\n",
       "      <td>q14b</td>\n",
       "      <td>24</td>\n",
       "      <td>661</td>\n",
       "      <td>2380</td>\n",
       "      <td>4161</td>\n",
       "      <td>66275</td>\n",
       "      <td>11443</td>\n",
       "      <td>3381</td>\n",
       "      <td>2148</td>\n",
       "      <td>6</td>\n",
       "      <td>...</td>\n",
       "      <td>695</td>\n",
       "      <td>0</td>\n",
       "      <td>767468189</td>\n",
       "      <td>767468189</td>\n",
       "      <td>0</td>\n",
       "      <td>0</td>\n",
       "      <td>421611887</td>\n",
       "      <td>15346</td>\n",
       "      <td>27</td>\n",
       "      <td>2</td>\n",
       "    </tr>\n",
       "    <tr>\n",
       "      <th>2</th>\n",
       "      <td>q23a</td>\n",
       "      <td>18</td>\n",
       "      <td>589</td>\n",
       "      <td>2903</td>\n",
       "      <td>4713</td>\n",
       "      <td>88169</td>\n",
       "      <td>19265</td>\n",
       "      <td>3262</td>\n",
       "      <td>1785</td>\n",
       "      <td>82</td>\n",
       "      <td>...</td>\n",
       "      <td>1727</td>\n",
       "      <td>0</td>\n",
       "      <td>897090067</td>\n",
       "      <td>897090067</td>\n",
       "      <td>0</td>\n",
       "      <td>0</td>\n",
       "      <td>878982786</td>\n",
       "      <td>15223</td>\n",
       "      <td>30</td>\n",
       "      <td>2</td>\n",
       "    </tr>\n",
       "    <tr>\n",
       "      <th>3</th>\n",
       "      <td>q23b</td>\n",
       "      <td>21</td>\n",
       "      <td>650</td>\n",
       "      <td>4530</td>\n",
       "      <td>7651</td>\n",
       "      <td>170098</td>\n",
       "      <td>21974</td>\n",
       "      <td>2220</td>\n",
       "      <td>2034</td>\n",
       "      <td>28</td>\n",
       "      <td>...</td>\n",
       "      <td>3748</td>\n",
       "      <td>0</td>\n",
       "      <td>952919369</td>\n",
       "      <td>952919369</td>\n",
       "      <td>0</td>\n",
       "      <td>0</td>\n",
       "      <td>888438360</td>\n",
       "      <td>16353</td>\n",
       "      <td>37</td>\n",
       "      <td>4</td>\n",
       "    </tr>\n",
       "    <tr>\n",
       "      <th>4</th>\n",
       "      <td>q88</td>\n",
       "      <td>26</td>\n",
       "      <td>530</td>\n",
       "      <td>1503</td>\n",
       "      <td>8801</td>\n",
       "      <td>78101</td>\n",
       "      <td>3102</td>\n",
       "      <td>1165</td>\n",
       "      <td>1354</td>\n",
       "      <td>0</td>\n",
       "      <td>...</td>\n",
       "      <td>512</td>\n",
       "      <td>0</td>\n",
       "      <td>38560</td>\n",
       "      <td>38560</td>\n",
       "      <td>0</td>\n",
       "      <td>0</td>\n",
       "      <td>38560</td>\n",
       "      <td>512</td>\n",
       "      <td>51</td>\n",
       "      <td>1</td>\n",
       "    </tr>\n",
       "  </tbody>\n",
       "</table>\n",
       "<p>5 rows × 33 columns</p>\n",
       "</div>"
      ],
      "text/plain": [
       "  query  numStages  numTasks  elapsedTime  stageDuration  executorRunTime  \\\n",
       "0  q14a         30       862         4655           6288            88338   \n",
       "1  q14b         24       661         2380           4161            66275   \n",
       "2  q23a         18       589         2903           4713            88169   \n",
       "3  q23b         21       650         4530           7651           170098   \n",
       "4   q88         26       530         1503           8801            78101   \n",
       "\n",
       "   executorCpuTime  executorDeserializeTime  executorDeserializeCpuTime  \\\n",
       "0            14607                     3734                        3113   \n",
       "1            11443                     3381                        2148   \n",
       "2            19265                     3262                        1785   \n",
       "3            21974                     2220                        2034   \n",
       "4             3102                     1165                        1354   \n",
       "\n",
       "   resultSerializationTime  ...  shuffleLocalBlocksFetched  \\\n",
       "0                       40  ...                        718   \n",
       "1                        6  ...                        695   \n",
       "2                       82  ...                       1727   \n",
       "3                       28  ...                       3748   \n",
       "4                        0  ...                        512   \n",
       "\n",
       "   shuffleRemoteBlocksFetched  shuffleTotalBytesRead  shuffleLocalBytesRead  \\\n",
       "0                           0              696333940              696333940   \n",
       "1                           0              767468189              767468189   \n",
       "2                           0              897090067              897090067   \n",
       "3                           0              952919369              952919369   \n",
       "4                           0                  38560                  38560   \n",
       "\n",
       "   shuffleRemoteBytesRead  shuffleRemoteBytesReadToDisk  shuffleBytesWritten  \\\n",
       "0                       0                             0            693777744   \n",
       "1                       0                             0            421611887   \n",
       "2                       0                             0            878982786   \n",
       "3                       0                             0            888438360   \n",
       "4                       0                             0                38560   \n",
       "\n",
       "   shuffleRecordsWritten  avg_active_tasks  elapsed_time_seconds  \n",
       "0                  18794                18                     4  \n",
       "1                  15346                27                     2  \n",
       "2                  15223                30                     2  \n",
       "3                  16353                37                     4  \n",
       "4                    512                51                     1  \n",
       "\n",
       "[5 rows x 33 columns]"
      ]
     },
     "execution_count": 47,
     "metadata": {},
     "output_type": "execute_result"
    }
   ],
   "source": [
    "tpcds.spark.conf.set('spark.rapids.sql.enabled', True)\n",
    "%time tpcds.run_TPCDS()\n",
    "gpu_grouped_results = tpcds.grouped_results_pdf.copy()\n",
    "gpu_grouped_results"
   ]
  },
  {
   "cell_type": "markdown",
   "metadata": {
    "id": "PcZ12b13h3cq"
   },
   "source": [
    "## Show Speedup Factors achieved by GPU\n"
   ]
  },
  {
   "cell_type": "code",
   "execution_count": 13,
   "metadata": {
    "executionInfo": {
     "elapsed": 5,
     "status": "ok",
     "timestamp": 1729289293047,
     "user": {
      "displayName": "Gera Shegalov",
      "userId": "07399839501144323282"
     },
     "user_tz": 420
    },
    "id": "cJxS9Nqi3AQj"
   },
   "outputs": [],
   "source": [
    "res = pd.merge(cpu_grouped_results, gpu_grouped_results, on='query', how='inner', suffixes=['_cpu', '_gpu'])\n",
    "res['speedup'] = res['elapsedTime_cpu'] / res['elapsedTime_gpu']\n",
    "res = res.sort_values(by='elapsedTime_cpu', ascending=False)"
   ]
  },
  {
   "cell_type": "code",
   "execution_count": 14,
   "metadata": {},
   "outputs": [
    {
     "name": "stdout",
     "output_type": "stream",
     "text": [
      "CPU and GPU run took: demo_dur=65.33285164833069 seconds\n"
     ]
    }
   ],
   "source": [
    "demo_dur = time.time() - demo_start\n",
    "print(f\"CPU and GPU run took: {demo_dur=} seconds\")"
   ]
  },
  {
   "cell_type": "code",
   "execution_count": 15,
   "metadata": {
    "colab": {
     "base_uri": "https://localhost:8080/",
     "height": 510
    },
    "executionInfo": {
     "elapsed": 1041,
     "status": "ok",
     "timestamp": 1729289294084,
     "user": {
      "displayName": "Gera Shegalov",
      "userId": "07399839501144323282"
     },
     "user_tz": 420
    },
    "id": "wn7u33fZlUJL",
    "outputId": "8d1ef757-e5c2-4761-fc58-f65f833bdffc"
   },
   "outputs": [
    {
     "data": {
      "text/plain": [
       "<Axes: title={'center': 'TPC-DS query elapsedTime on CPU vs GPU (lower is better)'}, xlabel='query'>"
      ]
     },
     "execution_count": 15,
     "metadata": {},
     "output_type": "execute_result"
    },
    {
     "data": {
      "image/png": "[encoded data removed]",
      "text/plain": [
       "<Figure size 640x480 with 1 Axes>"
      ]
     },
     "metadata": {},
     "output_type": "display_data"
    }
   ],
   "source": [
    "res.plot(title='TPC-DS query elapsedTime on CPU vs GPU (lower is better)', kind='bar', x='query', y=['elapsedTime_cpu', 'elapsedTime_gpu'])"
   ]
  },
  {
   "cell_type": "code",
   "execution_count": 16,
   "metadata": {
    "colab": {
     "base_uri": "https://localhost:8080/",
     "height": 510
    },
    "executionInfo": {
     "elapsed": 381,
     "status": "ok",
     "timestamp": 1729289294462,
     "user": {
      "displayName": "Gera Shegalov",
      "userId": "07399839501144323282"
     },
     "user_tz": 420
    },
    "id": "hW-LZponwGQE",
    "outputId": "ed456120-ca7f-4c91-a2bf-de87c2401f0c"
   },
   "outputs": [
    {
     "data": {
      "text/plain": [
       "<Axes: title={'center': 'Speedup factors of TPC-DS queries on GPU'}, xlabel='query'>"
      ]
     },
     "execution_count": 16,
     "metadata": {},
     "output_type": "execute_result"
    },
    {
     "data": {
      "image/png": "[encoded data removed]",
      "text/plain": [
       "<Figure size 640x480 with 1 Axes>"
      ]
     },
     "metadata": {},
     "output_type": "display_data"
    }
   ],
   "source": [
    "res.plot(title='Speedup factors of TPC-DS queries on GPU', kind='bar', x='query', y='speedup' )"
   ]
  },
  {
   "cell_type": "markdown",
   "metadata": {
    "id": "Pk2TR4yimNqP"
   },
   "source": [
    "# Run Queries interactively"
   ]
  },
  {
   "cell_type": "code",
   "execution_count": 17,
   "metadata": {
    "executionInfo": {
     "elapsed": 4,
     "status": "ok",
     "timestamp": 1729289294462,
     "user": {
      "displayName": "Gera Shegalov",
      "userId": "07399839501144323282"
     },
     "user_tz": 420
    },
    "id": "RpIl6NyNzqYU"
   },
   "outputs": [],
   "source": [
    "query = 'q88'\n",
    "with open(f\"{tpcds_pyspark_files}/Queries/{query}.sql\") as f:\n",
    "  q = f.read()"
   ]
  },
  {
   "cell_type": "code",
   "execution_count": 18,
   "metadata": {
    "colab": {
     "base_uri": "https://localhost:8080/",
     "height": 0
    },
    "executionInfo": {
     "elapsed": 3,
     "status": "ok",
     "timestamp": 1729289294462,
     "user": {
      "displayName": "Gera Shegalov",
      "userId": "07399839501144323282"
     },
     "user_tz": 420
    },
    "id": "cuCVL1Ed1lQd",
    "outputId": "d256f4b7-e0e2-450c-ba88-aff0d7571510"
   },
   "outputs": [
    {
     "name": "stdout",
     "output_type": "stream",
     "text": [
      "SELECT *\n",
      "FROM\n",
      "  (SELECT count(*) h8_30_to_9\n",
      "  FROM store_sales, household_demographics, time_dim, store\n",
      "  WHERE ss_sold_time_sk = time_dim.t_time_sk\n",
      "    AND ss_hdemo_sk = household_demographics.hd_demo_sk\n",
      "    AND ss_store_sk = s_store_sk\n",
      "    AND time_dim.t_hour = 8\n",
      "    AND time_dim.t_minute >= 30\n",
      "    AND (\n",
      "    (household_demographics.hd_dep_count = 4 AND household_demographics.hd_vehicle_count <= 4 + 2)\n",
      "      OR\n",
      "      (household_demographics.hd_dep_count = 2 AND household_demographics.hd_vehicle_count <= 2 + 2)\n",
      "      OR\n",
      "      (household_demographics.hd_dep_count = 0 AND\n",
      "        household_demographics.hd_vehicle_count <= 0 + 2))\n",
      "    AND store.s_store_name = 'ese') s1,\n",
      "  (SELECT count(*) h9_to_9_30\n",
      "  FROM store_sales, household_demographics, time_dim, store\n",
      "  WHERE ss_sold_time_sk = time_dim.t_time_sk\n",
      "    AND ss_hdemo_sk = household_demographics.hd_demo_sk\n",
      "    AND ss_store_sk = s_store_sk\n",
      "    AND time_dim.t_hour = 9\n",
      "    AND time_dim.t_minute < 30\n",
      "    AND (\n",
      "    (household_demographics.hd_dep_count = 4 AND household_demographics.hd_vehicle_count <= 4 + 2)\n",
      "      OR\n",
      "      (household_demographics.hd_dep_count = 2 AND household_demographics.hd_vehicle_count <= 2 + 2)\n",
      "      OR\n",
      "      (household_demographics.hd_dep_count = 0 AND\n",
      "        household_demographics.hd_vehicle_count <= 0 + 2))\n",
      "    AND store.s_store_name = 'ese') s2,\n",
      "  (SELECT count(*) h9_30_to_10\n",
      "  FROM store_sales, household_demographics, time_dim, store\n",
      "  WHERE ss_sold_time_sk = time_dim.t_time_sk\n",
      "    AND ss_hdemo_sk = household_demographics.hd_demo_sk\n",
      "    AND ss_store_sk = s_store_sk\n",
      "    AND time_dim.t_hour = 9\n",
      "    AND time_dim.t_minute >= 30\n",
      "    AND (\n",
      "    (household_demographics.hd_dep_count = 4 AND household_demographics.hd_vehicle_count <= 4 + 2)\n",
      "      OR\n",
      "      (household_demographics.hd_dep_count = 2 AND household_demographics.hd_vehicle_count <= 2 + 2)\n",
      "      OR\n",
      "      (household_demographics.hd_dep_count = 0 AND\n",
      "        household_demographics.hd_vehicle_count <= 0 + 2))\n",
      "    AND store.s_store_name = 'ese') s3,\n",
      "  (SELECT count(*) h10_to_10_30\n",
      "  FROM store_sales, household_demographics, time_dim, store\n",
      "  WHERE ss_sold_time_sk = time_dim.t_time_sk\n",
      "    AND ss_hdemo_sk = household_demographics.hd_demo_sk\n",
      "    AND ss_store_sk = s_store_sk\n",
      "    AND time_dim.t_hour = 10\n",
      "    AND time_dim.t_minute < 30\n",
      "    AND (\n",
      "    (household_demographics.hd_dep_count = 4 AND household_demographics.hd_vehicle_count <= 4 + 2)\n",
      "      OR\n",
      "      (household_demographics.hd_dep_count = 2 AND household_demographics.hd_vehicle_count <= 2 + 2)\n",
      "      OR\n",
      "      (household_demographics.hd_dep_count = 0 AND\n",
      "        household_demographics.hd_vehicle_count <= 0 + 2))\n",
      "    AND store.s_store_name = 'ese') s4,\n",
      "  (SELECT count(*) h10_30_to_11\n",
      "  FROM store_sales, household_demographics, time_dim, store\n",
      "  WHERE ss_sold_time_sk = time_dim.t_time_sk\n",
      "    AND ss_hdemo_sk = household_demographics.hd_demo_sk\n",
      "    AND ss_store_sk = s_store_sk\n",
      "    AND time_dim.t_hour = 10\n",
      "    AND time_dim.t_minute >= 30\n",
      "    AND (\n",
      "    (household_demographics.hd_dep_count = 4 AND household_demographics.hd_vehicle_count <= 4 + 2)\n",
      "      OR\n",
      "      (household_demographics.hd_dep_count = 2 AND household_demographics.hd_vehicle_count <= 2 + 2)\n",
      "      OR\n",
      "      (household_demographics.hd_dep_count = 0 AND\n",
      "        household_demographics.hd_vehicle_count <= 0 + 2))\n",
      "    AND store.s_store_name = 'ese') s5,\n",
      "  (SELECT count(*) h11_to_11_30\n",
      "  FROM store_sales, household_demographics, time_dim, store\n",
      "  WHERE ss_sold_time_sk = time_dim.t_time_sk\n",
      "    AND ss_hdemo_sk = household_demographics.hd_demo_sk\n",
      "    AND ss_store_sk = s_store_sk\n",
      "    AND time_dim.t_hour = 11\n",
      "    AND time_dim.t_minute < 30\n",
      "    AND (\n",
      "    (household_demographics.hd_dep_count = 4 AND household_demographics.hd_vehicle_count <= 4 + 2)\n",
      "      OR\n",
      "      (household_demographics.hd_dep_count = 2 AND household_demographics.hd_vehicle_count <= 2 + 2)\n",
      "      OR\n",
      "      (household_demographics.hd_dep_count = 0 AND\n",
      "        household_demographics.hd_vehicle_count <= 0 + 2))\n",
      "    AND store.s_store_name = 'ese') s6,\n",
      "  (SELECT count(*) h11_30_to_12\n",
      "  FROM store_sales, household_demographics, time_dim, store\n",
      "  WHERE ss_sold_time_sk = time_dim.t_time_sk\n",
      "    AND ss_hdemo_sk = household_demographics.hd_demo_sk\n",
      "    AND ss_store_sk = s_store_sk\n",
      "    AND time_dim.t_hour = 11\n",
      "    AND time_dim.t_minute >= 30\n",
      "    AND (\n",
      "    (household_demographics.hd_dep_count = 4 AND household_demographics.hd_vehicle_count <= 4 + 2)\n",
      "      OR\n",
      "      (household_demographics.hd_dep_count = 2 AND household_demographics.hd_vehicle_count <= 2 + 2)\n",
      "      OR\n",
      "      (household_demographics.hd_dep_count = 0 AND\n",
      "        household_demographics.hd_vehicle_count <= 0 + 2))\n",
      "    AND store.s_store_name = 'ese') s7,\n",
      "  (SELECT count(*) h12_to_12_30\n",
      "  FROM store_sales, household_demographics, time_dim, store\n",
      "  WHERE ss_sold_time_sk = time_dim.t_time_sk\n",
      "    AND ss_hdemo_sk = household_demographics.hd_demo_sk\n",
      "    AND ss_store_sk = s_store_sk\n",
      "    AND time_dim.t_hour = 12\n",
      "    AND time_dim.t_minute < 30\n",
      "    AND (\n",
      "    (household_demographics.hd_dep_count = 4 AND household_demographics.hd_vehicle_count <= 4 + 2)\n",
      "      OR\n",
      "      (household_demographics.hd_dep_count = 2 AND household_demographics.hd_vehicle_count <= 2 + 2)\n",
      "      OR\n",
      "      (household_demographics.hd_dep_count = 0 AND\n",
      "        household_demographics.hd_vehicle_count <= 0 + 2))\n",
      "    AND store.s_store_name = 'ese') s8\n",
      "\n"
     ]
    }
   ],
   "source": [
    "print(q)"
   ]
  },
  {
   "cell_type": "code",
   "execution_count": 19,
   "metadata": {
    "colab": {
     "base_uri": "https://localhost:8080/",
     "height": 0
    },
    "editable": true,
    "executionInfo": {
     "elapsed": 1470,
     "status": "ok",
     "timestamp": 1729289295930,
     "user": {
      "displayName": "Gera Shegalov",
      "userId": "07399839501144323282"
     },
     "user_tz": 420
    },
    "id": "n4QUdq17040i",
    "outputId": "7d7c7562-fae6-4426-97a7-ec23b8fe2f0d",
    "slideshow": {
     "slide_type": ""
    },
    "tags": []
   },
   "outputs": [
    {
     "name": "stderr",
     "output_type": "stream",
     "text": [
      "                                                                                \r"
     ]
    },
    {
     "name": "stdout",
     "output_type": "stream",
     "text": [
      "CPU times: user 3.84 ms, sys: 2.88 ms, total: 6.73 ms\n",
      "Wall time: 2.13 s\n"
     ]
    },
    {
     "data": {
      "text/plain": [
       "[Row(h8_30_to_9=18440, h9_to_9_30=39156, h9_30_to_10=38666, h10_to_10_30=58037, h10_30_to_11=58313, h11_to_11_30=34436, h11_30_to_12=33322, h12_to_12_30=39142)]"
      ]
     },
     "execution_count": 19,
     "metadata": {},
     "output_type": "execute_result"
    }
   ],
   "source": [
    "spark.conf.set('spark.rapids.sql.enabled', True)\n",
    "df  = spark.sql(q)\n",
    "%time df.collect()"
   ]
  },
  {
   "cell_type": "code",
   "execution_count": null,
   "metadata": {},
   "outputs": [],
   "source": []
  }
 ],
 "metadata": {
  "accelerator": "GPU",
  "colab": {
   "gpuType": "T4",
   "machine_shape": "hm",
   "provenance": []
  },
  "kernelspec": {
   "display_name": "Python 3 (ipykernel)",
   "language": "python",
   "name": "python3"
  },
  "language_info": {
   "codemirror_mode": {
    "name": "ipython",
    "version": 3
   },
   "file_extension": ".py",
   "mimetype": "text/x-python",
   "name": "python",
   "nbconvert_exporter": "python",
   "pygments_lexer": "ipython3",
   "version": "3.10.12"
  }
 },
 "nbformat": 4,
 "nbformat_minor": 4
}
