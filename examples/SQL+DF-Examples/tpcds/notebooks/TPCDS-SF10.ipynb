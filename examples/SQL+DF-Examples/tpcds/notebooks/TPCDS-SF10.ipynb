{
 "cells": [
  {
   "cell_type": "markdown",
   "metadata": {
    "editable": true,
    "id": "HtgYO0bXEBrN",
    "jp-MarkdownHeadingCollapsed": true,
    "slideshow": {
     "slide_type": ""
    },
    "tags": []
   },
   "source": [
    "# TPC-DS 10GiB - Apache Spark acceleration on GPU with RAPIDS Spark\n",
    "\n",
    "based on https://colab.research.google.com/github/LucaCanali/Miscellaneous/blob/master/Performance_Testing/TPCDS_PySpark/Labs_and_Notes/TPCDS_PySpark_getstarted.ipynb#scrollTo=6bab7772"
   ]
  },
  {
   "cell_type": "markdown",
   "metadata": {},
   "source": [
    "# Install packages"
   ]
  },
  {
   "cell_type": "code",
   "execution_count": 1,
   "metadata": {},
   "outputs": [],
   "source": [
    "spark_version='3.5.0'\n",
    "rapids_version='24.10.0'"
   ]
  },
  {
   "cell_type": "code",
   "execution_count": 2,
   "metadata": {
    "executionInfo": {
     "elapsed": 1630,
     "status": "ok",
     "timestamp": 1729291037060,
     "user": {
      "displayName": "Gera Shegalov",
      "userId": "07399839501144323282"
     },
     "user_tz": 420
    },
    "id": "Yq230e1Nho_M"
   },
   "outputs": [
    {
     "name": "stdout",
     "output_type": "stream",
     "text": [
      "Note: you may need to restart the kernel to use updated packages.\n"
     ]
    }
   ],
   "source": [
    "%pip install --quiet \\\n",
    "  tpcds_pyspark \\\n",
    "  pyspark=={spark_version} \\\n",
    "  sparkmeasure \\\n",
    "  pandas \\\n",
    "  matplotlib"
   ]
  },
  {
   "cell_type": "markdown",
   "metadata": {},
   "source": [
    "# Import modules"
   ]
  },
  {
   "cell_type": "code",
   "execution_count": 3,
   "metadata": {
    "executionInfo": {
     "elapsed": 1052,
     "status": "ok",
     "timestamp": 1729291488008,
     "user": {
      "displayName": "Gera Shegalov",
      "userId": "07399839501144323282"
     },
     "user_tz": 420
    },
    "id": "uq_LmKsB36R_"
   },
   "outputs": [],
   "source": [
    "from importlib.resources import files\n",
    "from pyspark.sql import SparkSession\n",
    "from tpcds_pyspark import TPCDS\n",
    "import glob\n",
    "import os\n",
    "import pandas as pd\n",
    "import re\n",
    "import time"
   ]
  },
  {
   "cell_type": "markdown",
   "metadata": {
    "id": "edMCFrhvgDS8"
   },
   "source": [
    "# Download TPC-DS 10GiB Scale Parquet Dataset"
   ]
  },
  {
   "cell_type": "code",
   "execution_count": 4,
   "metadata": {
    "executionInfo": {
     "elapsed": 41530,
     "status": "ok",
     "timestamp": 1729292943990,
     "user": {
      "displayName": "Gera Shegalov",
      "userId": "07399839501144323282"
     },
     "user_tz": 420
    },
    "id": "DY8TkhPQTjbB"
   },
   "outputs": [],
   "source": [
    "if not os.path.isdir('tpcds_10'):\n",
    "  if not os.path.isfile('tpcds_10.zip'):\n",
    "    !wget https://sparkdltrigger.web.cern.ch/sparkdltrigger/TPCDS/tpcds_10.zip\n",
    "  !unzip -q tpcds_10.zip"
   ]
  },
  {
   "cell_type": "markdown",
   "metadata": {
    "id": "6tgF9LWcgUEs"
   },
   "source": [
    "# Init a SparkSession with RAPIDS Spark"
   ]
  },
  {
   "cell_type": "markdown",
   "metadata": {},
   "source": [
    "## Detect Scala Version used in PySpark package"
   ]
  },
  {
   "cell_type": "code",
   "execution_count": 5,
   "metadata": {},
   "outputs": [],
   "source": [
    "pyspark_files = files('pyspark')\n",
    "spark_sql_jar_path, *_ = glob.glob(f\"{pyspark_files}/*/spark-sql_*jar\")\n",
    "spark_sql_jar = os.path.basename(spark_sql_jar_path)\n",
    "scala_version = re.search(r'^spark-sql_(\\d+.\\d+)-.*\\.jar$', spark_sql_jar).group(1)"
   ]
  },
  {
   "cell_type": "markdown",
   "metadata": {},
   "source": [
    "## Find spark-measure artifact"
   ]
  },
  {
   "cell_type": "code",
   "execution_count": 6,
   "metadata": {},
   "outputs": [],
   "source": [
    "tpcds_pyspark_files = files('tpcds_pyspark')\n",
    "spark_measure_jar_paths = glob.glob(f\"{tpcds_pyspark_files}/spark-measure_{scala_version}-*.jar\")\n",
    "assert spark_measure_jar_paths, f\"No spark-measure artifact built for Pyspark's Scala version {scala_version}\"\n",
    "spark_measure_jar_paths.sort(reverse=True)\n",
    "spark_measure_jar_path, *_ = spark_measure_jar_paths"
   ]
  },
  {
   "cell_type": "code",
   "execution_count": 8,
   "metadata": {
    "executionInfo": {
     "elapsed": 39420,
     "status": "ok",
     "timestamp": 1729289098419,
     "user": {
      "displayName": "Gera Shegalov",
      "userId": "07399839501144323282"
     },
     "user_tz": 420
    },
    "id": "-L-wMZTpfYxs"
   },
   "outputs": [
    {
     "data": {
      "text/html": [
       "\n",
       "            <div>\n",
       "                <p><b>SparkSession - in-memory</b></p>\n",
       "                \n",
       "        <div>\n",
       "            <p><b>SparkContext</b></p>\n",
       "\n",
       "            <p><a href=\"http://10.112.215.249:4040\">Spark UI</a></p>\n",
       "\n",
       "            <dl>\n",
       "              <dt>Version</dt>\n",
       "                <dd><code>v3.5.0</code></dd>\n",
       "              <dt>Master</dt>\n",
       "                <dd><code>local[*]</code></dd>\n",
       "              <dt>AppName</dt>\n",
       "                <dd><code>TPCDS PySpark RAPIDS=ON/OFF</code></dd>\n",
       "            </dl>\n",
       "        </div>\n",
       "        \n",
       "            </div>\n",
       "        "
      ],
      "text/plain": [
       "<pyspark.sql.session.SparkSession at 0x7c6358fe3e50>"
      ]
     },
     "execution_count": 8,
     "metadata": {},
     "output_type": "execute_result"
    }
   ],
   "source": [
    "spark = (\n",
    "    SparkSession.builder\n",
    "      .appName('TPCDS PySpark RAPIDS=ON/OFF')\n",
    "      .config('spark.driver.memory', '5g')\n",
    "      .config('spark.plugins', 'com.nvidia.spark.SQLPlugin')\n",
    "      .config('spark.jars', spark_measure_jar_path)\n",
    "      .config('spark.jars.packages', f\"com.nvidia:rapids-4-spark_{scala_version}:{rapids_version}\")\n",
    "      .getOrCreate()\n",
    ")\n",
    "spark\n"
   ]
  },
  {
   "cell_type": "markdown",
   "metadata": {
    "id": "_4sYje2NiNA7"
   },
   "source": [
    "# Verify SQL Acceleration on GPU can be enabled by checking the query plan"
   ]
  },
  {
   "cell_type": "code",
   "execution_count": 10,
   "metadata": {
    "colab": {
     "base_uri": "https://localhost:8080/",
     "height": 0
    },
    "executionInfo": {
     "elapsed": 5921,
     "status": "ok",
     "timestamp": 1729289104337,
     "user": {
      "displayName": "Gera Shegalov",
      "userId": "07399839501144323282"
     },
     "user_tz": 420
    },
    "id": "nUyQBKtkga9y",
    "outputId": "5d493a51-58de-4aed-bbaf-d73c82769836"
   },
   "outputs": [
    {
     "name": "stdout",
     "output_type": "stream",
     "text": [
      "== Physical Plan ==\n",
      "AdaptiveSparkPlan isFinalPlan=true\n",
      "+- == Final Plan ==\n",
      "   GpuColumnarToRow false, [loreId=22]\n",
      "   +- GpuHashAggregate (keys=[], functions=[gpubasicsum(id#27L, LongType, false)]), filters=ArrayBuffer(None)) [loreId=21]\n",
      "      +- GpuShuffleCoalesce 1073741824, [loreId=20]\n",
      "         +- ShuffleQueryStage 0\n",
      "            +- GpuColumnarExchange gpusinglepartitioning$(), ENSURE_REQUIREMENTS, [plan_id=163], [loreId=17]\n",
      "               +- GpuHashAggregate (keys=[], functions=[partial_gpubasicsum(id#27L, LongType, false)]), filters=ArrayBuffer(None)) [loreId=16]\n",
      "                  +- GpuRange (0, 1000, step=1, splits=64)\n",
      "+- == Initial Plan ==\n",
      "   HashAggregate(keys=[], functions=[sum(id#27L)])\n",
      "   +- Exchange SinglePartition, ENSURE_REQUIREMENTS, [plan_id=110]\n",
      "      +- HashAggregate(keys=[], functions=[partial_sum(id#27L)])\n",
      "         +- Range (0, 1000, step=1, splits=64)\n",
      "\n",
      "\n"
     ]
    }
   ],
   "source": [
    "spark.conf.set('spark.rapids.sql.enabled', True)\n",
    "sum_df = spark.range(1000).selectExpr('SUM(*)')\n",
    "sum_df.collect()\n",
    "sum_df.explain()"
   ]
  },
  {
   "cell_type": "markdown",
   "metadata": {},
   "source": [
    "# TPCDS App"
   ]
  },
  {
   "cell_type": "code",
   "execution_count": 11,
   "metadata": {
    "colab": {
     "base_uri": "https://localhost:8080/",
     "height": 0
    },
    "executionInfo": {
     "elapsed": 4,
     "status": "ok",
     "timestamp": 1729289104337,
     "user": {
      "displayName": "Gera Shegalov",
      "userId": "07399839501144323282"
     },
     "user_tz": 420
    },
    "id": "BYPgafupcxaY",
    "outputId": "fdfb427f-6cc0-4dff-9295-dc44e6ead132"
   },
   "outputs": [
    {
     "name": "stdout",
     "output_type": "stream",
     "text": [
      "sparkMeasure jar path: /home/gshegalov/gits/NVIDIA/spark-rapids-examples/.venv/lib/python3.10/site-packages/tpcds_pyspark/spark-measure_2.12-0.24.jar\n",
      "TPCDS queries path: /home/gshegalov/gits/NVIDIA/spark-rapids-examples/.venv/lib/python3.10/site-packages/tpcds_pyspark/Queries\n"
     ]
    },
    {
     "name": "stderr",
     "output_type": "stream",
     "text": [
      "24/10/23 22:09:47 WARN SparkSession: Using an existing Spark session; only runtime SQL configurations will take effect.\n"
     ]
    }
   ],
   "source": [
    "# https://github.com/LucaCanali/Miscellaneous/tree/master/Performance_Testing/TPCDS_PySpark/tpcds_pyspark/Queries\n",
    "\n",
    "# queries = None to run all (takes much longer)\n",
    "queries = None\n",
    "queries = [\n",
    "    'q14a',\n",
    "    'q14b',\n",
    "    'q23a',\n",
    "    'q23b',\n",
    "    # 'q24a',\n",
    "    # 'q24b',\n",
    "    # 'q88',\n",
    "]\n",
    "\n",
    "demo_start = time.time()\n",
    "tpcds = TPCDS(data_path='./tpcds_10', num_runs=1, queries_repeat_times=1, queries=queries)"
   ]
  },
  {
   "cell_type": "markdown",
   "metadata": {
    "id": "0Yaaw2GfliC5"
   },
   "source": [
    "## Register TPC-DS tables before running queries"
   ]
  },
  {
   "cell_type": "code",
   "execution_count": 12,
   "metadata": {
    "colab": {
     "base_uri": "https://localhost:8080/",
     "height": 0
    },
    "executionInfo": {
     "elapsed": 2992,
     "status": "ok",
     "timestamp": 1729289107327,
     "user": {
      "displayName": "Gera Shegalov",
      "userId": "07399839501144323282"
     },
     "user_tz": 420
    },
    "id": "kfsHodFqdDl7",
    "outputId": "5a810f9d-e353-456c-b7bb-48ae3290178a"
   },
   "outputs": [
    {
     "name": "stdout",
     "output_type": "stream",
     "text": [
      "Creating temporary view catalog_returns\n"
     ]
    },
    {
     "name": "stderr",
     "output_type": "stream",
     "text": [
      "24/10/23 22:09:52 WARN SparkStringUtils: Truncated the string representation of a plan since it was too large. This behavior can be adjusted by setting 'spark.sql.debug.maxToStringFields'.\n"
     ]
    },
    {
     "name": "stdout",
     "output_type": "stream",
     "text": [
      "Creating temporary view catalog_sales\n",
      "Creating temporary view inventory\n",
      "Creating temporary view store_returns\n",
      "Creating temporary view store_sales\n",
      "Creating temporary view web_returns\n",
      "Creating temporary view web_sales\n",
      "Creating temporary view call_center\n",
      "Creating temporary view catalog_page\n",
      "Creating temporary view customer\n",
      "Creating temporary view customer_address\n",
      "Creating temporary view customer_demographics\n",
      "Creating temporary view date_dim\n",
      "Creating temporary view household_demographics\n",
      "Creating temporary view income_band\n",
      "Creating temporary view item\n",
      "Creating temporary view promotion\n",
      "Creating temporary view reason\n",
      "Creating temporary view ship_mode\n",
      "Creating temporary view store\n",
      "Creating temporary view time_dim\n",
      "Creating temporary view warehouse\n",
      "Creating temporary view web_page\n",
      "Creating temporary view web_site\n"
     ]
    }
   ],
   "source": [
    "tpcds.map_tables()"
   ]
  },
  {
   "cell_type": "markdown",
   "metadata": {
    "id": "bs6X_54UhuqJ"
   },
   "source": [
    "## Measure Apache Spark GPU"
   ]
  },
  {
   "cell_type": "code",
   "execution_count": 13,
   "metadata": {
    "colab": {
     "base_uri": "https://localhost:8080/",
     "height": 0
    },
    "executionInfo": {
     "elapsed": 45658,
     "status": "ok",
     "timestamp": 1729290819190,
     "user": {
      "displayName": "Gera Shegalov",
      "userId": "07399839501144323282"
     },
     "user_tz": 420
    },
    "id": "8vXDasUom70g",
    "outputId": "adccdd7f-99f0-4c82-d600-056b59f53933"
   },
   "outputs": [
    {
     "name": "stdout",
     "output_type": "stream",
     "text": [
      "\n",
      "Run 0 - query q14a - attempt 0 - starting...\n"
     ]
    },
    {
     "name": "stderr",
     "output_type": "stream",
     "text": [
      "24/10/23 22:10:24 WARN GpuOverrides: \n",
      "! <OverwriteByExpressionExec> cannot run on GPU because GPU does not currently support the operator class org.apache.spark.sql.execution.datasources.v2.OverwriteByExpressionExec\n",
      "\n",
      "24/10/23 22:10:25 WARN MultiFileReaderThreadPool: Configuring the file reader thread pool with a max of 64 threads instead of spark.rapids.sql.multiThreadedRead.numThreads = 20\n",
      "24/10/23 22:10:25 WARN MultiFileReaderThreadPool: Configuring the file reader thread pool with a max of 64 threads instead of spark.rapids.sql.multiThreadedRead.numThreads = 20\n",
      "24/10/23 22:10:25 WARN MultiFileReaderThreadPool: Configuring the file reader thread pool with a max of 64 threads instead of spark.rapids.sql.multiThreadedRead.numThreads = 20\n",
      "24/10/23 22:10:25 WARN MultiFileReaderThreadPool: Configuring the file reader thread pool with a max of 64 threads instead of spark.rapids.sql.multiThreadedRead.numThreads = 20\n",
      "24/10/23 22:10:25 WARN MultiFileReaderThreadPool: Configuring the file reader thread pool with a max of 64 threads instead of spark.rapids.sql.multiThreadedRead.numThreads = 20\n",
      "24/10/23 22:10:25 WARN MultiFileReaderThreadPool: Configuring the file reader thread pool with a max of 64 threads instead of spark.rapids.sql.multiThreadedRead.numThreads = 20\n",
      "24/10/23 22:10:25 WARN MultiFileReaderThreadPool: Configuring the file reader thread pool with a max of 64 threads instead of spark.rapids.sql.multiThreadedRead.numThreads = 20\n",
      "24/10/23 22:10:25 WARN MultiFileReaderThreadPool: Configuring the file reader thread pool with a max of 64 threads instead of spark.rapids.sql.multiThreadedRead.numThreads = 20\n",
      "24/10/23 22:10:25 WARN MultiFileReaderThreadPool: Configuring the file reader thread pool with a max of 64 threads instead of spark.rapids.sql.multiThreadedRead.numThreads = 20\n",
      "24/10/23 22:10:25 WARN MultiFileReaderThreadPool: Configuring the file reader thread pool with a max of 64 threads instead of spark.rapids.sql.multiThreadedRead.numThreads = 20\n",
      "24/10/23 22:10:25 WARN MultiFileReaderThreadPool: Configuring the file reader thread pool with a max of 64 threads instead of spark.rapids.sql.multiThreadedRead.numThreads = 20\n"
     ]
    },
    {
     "name": "stdout",
     "output_type": "stream",
     "text": [
      "Job finished\n",
      "...Start Time = 2024-10-23 22:10:21\n",
      "...Elapsed Time = 6.73 sec\n",
      "...Executors Run Time = 131.31 sec\n",
      "...Executors CPU Time = 19.05 sec\n",
      "...Executors JVM GC Time = 8.83 sec\n",
      "...Average Active Tasks = 19.5\n",
      "\n",
      "Run 0 - query q14b - attempt 0 - starting...\n"
     ]
    },
    {
     "name": "stderr",
     "output_type": "stream",
     "text": [
      "24/10/23 22:10:33 WARN GpuOverrides: \n",
      "! <OverwriteByExpressionExec> cannot run on GPU because GPU does not currently support the operator class org.apache.spark.sql.execution.datasources.v2.OverwriteByExpressionExec\n",
      "\n"
     ]
    },
    {
     "name": "stdout",
     "output_type": "stream",
     "text": [
      "Job finished\n",
      "...Start Time = 2024-10-23 22:10:32\n",
      "...Elapsed Time = 2.93 sec\n",
      "...Executors Run Time = 82.99 sec\n",
      "...Executors CPU Time = 13.61 sec\n",
      "...Executors JVM GC Time = 4.98 sec\n",
      "...Average Active Tasks = 28.3\n",
      "\n",
      "Run 0 - query q23a - attempt 0 - starting...\n"
     ]
    },
    {
     "name": "stderr",
     "output_type": "stream",
     "text": [
      "24/10/23 22:10:37 WARN GpuOverrides: \n",
      "! <OverwriteByExpressionExec> cannot run on GPU because GPU does not currently support the operator class org.apache.spark.sql.execution.datasources.v2.OverwriteByExpressionExec\n",
      "\n",
      "                                                                                \r"
     ]
    },
    {
     "name": "stdout",
     "output_type": "stream",
     "text": [
      "Job finished\n",
      "...Start Time = 2024-10-23 22:10:37\n",
      "...Elapsed Time = 3.12 sec\n",
      "...Executors Run Time = 91.86 sec\n",
      "...Executors CPU Time = 21.42 sec\n",
      "...Executors JVM GC Time = 3.83 sec\n",
      "...Average Active Tasks = 29.5\n",
      "\n",
      "Run 0 - query q23b - attempt 0 - starting...\n"
     ]
    },
    {
     "name": "stderr",
     "output_type": "stream",
     "text": [
      "24/10/23 22:10:41 WARN GpuOverrides: \n",
      "! <OverwriteByExpressionExec> cannot run on GPU because GPU does not currently support the operator class org.apache.spark.sql.execution.datasources.v2.OverwriteByExpressionExec\n",
      "\n",
      "[Stage 221:=========================================>            (38 + 11) / 49]\r"
     ]
    },
    {
     "name": "stdout",
     "output_type": "stream",
     "text": [
      "Job finished\n",
      "...Start Time = 2024-10-23 22:10:41\n",
      "...Elapsed Time = 4.86 sec\n",
      "...Executors Run Time = 181.75 sec\n",
      "...Executors CPU Time = 23.94 sec\n",
      "...Executors JVM GC Time = 5.48 sec\n",
      "...Average Active Tasks = 37.4\n",
      "CPU times: user 48.4 ms, sys: 23.1 ms, total: 71.5 ms\n",
      "Wall time: 26.6 s\n"
     ]
    },
    {
     "name": "stderr",
     "output_type": "stream",
     "text": [
      "                                                                                \r"
     ]
    },
    {
     "data": {
      "text/html": [
       "<div>\n",
       "<style scoped>\n",
       "    .dataframe tbody tr th:only-of-type {\n",
       "        vertical-align: middle;\n",
       "    }\n",
       "\n",
       "    .dataframe tbody tr th {\n",
       "        vertical-align: top;\n",
       "    }\n",
       "\n",
       "    .dataframe thead th {\n",
       "        text-align: right;\n",
       "    }\n",
       "</style>\n",
       "<table border=\"1\" class=\"dataframe\">\n",
       "  <thead>\n",
       "    <tr style=\"text-align: right;\">\n",
       "      <th></th>\n",
       "      <th>query</th>\n",
       "      <th>numStages</th>\n",
       "      <th>numTasks</th>\n",
       "      <th>elapsedTime</th>\n",
       "      <th>stageDuration</th>\n",
       "      <th>executorRunTime</th>\n",
       "      <th>executorCpuTime</th>\n",
       "      <th>executorDeserializeTime</th>\n",
       "      <th>executorDeserializeCpuTime</th>\n",
       "      <th>resultSerializationTime</th>\n",
       "      <th>...</th>\n",
       "      <th>shuffleLocalBlocksFetched</th>\n",
       "      <th>shuffleRemoteBlocksFetched</th>\n",
       "      <th>shuffleTotalBytesRead</th>\n",
       "      <th>shuffleLocalBytesRead</th>\n",
       "      <th>shuffleRemoteBytesRead</th>\n",
       "      <th>shuffleRemoteBytesReadToDisk</th>\n",
       "      <th>shuffleBytesWritten</th>\n",
       "      <th>shuffleRecordsWritten</th>\n",
       "      <th>avg_active_tasks</th>\n",
       "      <th>elapsed_time_seconds</th>\n",
       "    </tr>\n",
       "  </thead>\n",
       "  <tbody>\n",
       "    <tr>\n",
       "      <th>0</th>\n",
       "      <td>q14a</td>\n",
       "      <td>30</td>\n",
       "      <td>862</td>\n",
       "      <td>6727</td>\n",
       "      <td>12592</td>\n",
       "      <td>131307</td>\n",
       "      <td>19054</td>\n",
       "      <td>15096</td>\n",
       "      <td>5036</td>\n",
       "      <td>160</td>\n",
       "      <td>...</td>\n",
       "      <td>718</td>\n",
       "      <td>0</td>\n",
       "      <td>696345851</td>\n",
       "      <td>696345851</td>\n",
       "      <td>0</td>\n",
       "      <td>0</td>\n",
       "      <td>693789927</td>\n",
       "      <td>18794</td>\n",
       "      <td>19</td>\n",
       "      <td>6</td>\n",
       "    </tr>\n",
       "    <tr>\n",
       "      <th>1</th>\n",
       "      <td>q14b</td>\n",
       "      <td>24</td>\n",
       "      <td>661</td>\n",
       "      <td>2929</td>\n",
       "      <td>5271</td>\n",
       "      <td>82990</td>\n",
       "      <td>13609</td>\n",
       "      <td>3617</td>\n",
       "      <td>2791</td>\n",
       "      <td>109</td>\n",
       "      <td>...</td>\n",
       "      <td>695</td>\n",
       "      <td>0</td>\n",
       "      <td>767440959</td>\n",
       "      <td>767440959</td>\n",
       "      <td>0</td>\n",
       "      <td>0</td>\n",
       "      <td>421596829</td>\n",
       "      <td>15346</td>\n",
       "      <td>28</td>\n",
       "      <td>2</td>\n",
       "    </tr>\n",
       "    <tr>\n",
       "      <th>2</th>\n",
       "      <td>q23a</td>\n",
       "      <td>18</td>\n",
       "      <td>589</td>\n",
       "      <td>3119</td>\n",
       "      <td>4880</td>\n",
       "      <td>91863</td>\n",
       "      <td>21423</td>\n",
       "      <td>2460</td>\n",
       "      <td>1931</td>\n",
       "      <td>105</td>\n",
       "      <td>...</td>\n",
       "      <td>1727</td>\n",
       "      <td>0</td>\n",
       "      <td>897023696</td>\n",
       "      <td>897023696</td>\n",
       "      <td>0</td>\n",
       "      <td>0</td>\n",
       "      <td>878917388</td>\n",
       "      <td>15223</td>\n",
       "      <td>29</td>\n",
       "      <td>3</td>\n",
       "    </tr>\n",
       "    <tr>\n",
       "      <th>3</th>\n",
       "      <td>q23b</td>\n",
       "      <td>21</td>\n",
       "      <td>650</td>\n",
       "      <td>4857</td>\n",
       "      <td>8011</td>\n",
       "      <td>181751</td>\n",
       "      <td>23936</td>\n",
       "      <td>4140</td>\n",
       "      <td>2315</td>\n",
       "      <td>72</td>\n",
       "      <td>...</td>\n",
       "      <td>3748</td>\n",
       "      <td>0</td>\n",
       "      <td>952886306</td>\n",
       "      <td>952886306</td>\n",
       "      <td>0</td>\n",
       "      <td>0</td>\n",
       "      <td>888400822</td>\n",
       "      <td>16353</td>\n",
       "      <td>37</td>\n",
       "      <td>4</td>\n",
       "    </tr>\n",
       "  </tbody>\n",
       "</table>\n",
       "<p>4 rows × 33 columns</p>\n",
       "</div>"
      ],
      "text/plain": [
       "  query  numStages  numTasks  elapsedTime  stageDuration  executorRunTime  \\\n",
       "0  q14a         30       862         6727          12592           131307   \n",
       "1  q14b         24       661         2929           5271            82990   \n",
       "2  q23a         18       589         3119           4880            91863   \n",
       "3  q23b         21       650         4857           8011           181751   \n",
       "\n",
       "   executorCpuTime  executorDeserializeTime  executorDeserializeCpuTime  \\\n",
       "0            19054                    15096                        5036   \n",
       "1            13609                     3617                        2791   \n",
       "2            21423                     2460                        1931   \n",
       "3            23936                     4140                        2315   \n",
       "\n",
       "   resultSerializationTime  ...  shuffleLocalBlocksFetched  \\\n",
       "0                      160  ...                        718   \n",
       "1                      109  ...                        695   \n",
       "2                      105  ...                       1727   \n",
       "3                       72  ...                       3748   \n",
       "\n",
       "   shuffleRemoteBlocksFetched  shuffleTotalBytesRead  shuffleLocalBytesRead  \\\n",
       "0                           0              696345851              696345851   \n",
       "1                           0              767440959              767440959   \n",
       "2                           0              897023696              897023696   \n",
       "3                           0              952886306              952886306   \n",
       "\n",
       "   shuffleRemoteBytesRead  shuffleRemoteBytesReadToDisk  shuffleBytesWritten  \\\n",
       "0                       0                             0            693789927   \n",
       "1                       0                             0            421596829   \n",
       "2                       0                             0            878917388   \n",
       "3                       0                             0            888400822   \n",
       "\n",
       "   shuffleRecordsWritten  avg_active_tasks  elapsed_time_seconds  \n",
       "0                  18794                19                     6  \n",
       "1                  15346                28                     2  \n",
       "2                  15223                29                     3  \n",
       "3                  16353                37                     4  \n",
       "\n",
       "[4 rows x 33 columns]"
      ]
     },
     "execution_count": 13,
     "metadata": {},
     "output_type": "execute_result"
    }
   ],
   "source": [
    "tpcds.spark.conf.set('spark.rapids.sql.enabled', True)\n",
    "%time tpcds.run_TPCDS()\n",
    "gpu_grouped_results = tpcds.grouped_results_pdf.copy()\n",
    "gpu_grouped_results"
   ]
  },
  {
   "cell_type": "markdown",
   "metadata": {
    "id": "ulyFidEPhg_l"
   },
   "source": [
    "## Measure Apache Spark CPU"
   ]
  },
  {
   "cell_type": "code",
   "execution_count": 14,
   "metadata": {
    "colab": {
     "base_uri": "https://localhost:8080/",
     "height": 0
    },
    "executionInfo": {
     "elapsed": 135425,
     "status": "ok",
     "timestamp": 1729289242749,
     "user": {
      "displayName": "Gera Shegalov",
      "userId": "07399839501144323282"
     },
     "user_tz": 420
    },
    "id": "Dg0itS7cdIf4",
    "outputId": "4ce1f8a2-5ac7-4805-e6f6-37a8acb7e039"
   },
   "outputs": [
    {
     "name": "stdout",
     "output_type": "stream",
     "text": [
      "\n",
      "Run 0 - query q14a - attempt 0 - starting...\n"
     ]
    },
    {
     "name": "stderr",
     "output_type": "stream",
     "text": [
      "                                                                                \r"
     ]
    },
    {
     "name": "stdout",
     "output_type": "stream",
     "text": [
      "Job finished\n",
      "...Start Time = 2024-10-23 22:11:37\n",
      "...Elapsed Time = 8.89 sec\n",
      "...Executors Run Time = 165.03 sec\n",
      "...Executors CPU Time = 93.22 sec\n",
      "...Executors JVM GC Time = 41.57 sec\n",
      "...Average Active Tasks = 18.6\n",
      "\n",
      "Run 0 - query q14b - attempt 0 - starting...\n"
     ]
    },
    {
     "name": "stderr",
     "output_type": "stream",
     "text": [
      "                                                                                \r"
     ]
    },
    {
     "name": "stdout",
     "output_type": "stream",
     "text": [
      "Job finished\n",
      "...Start Time = 2024-10-23 22:11:49\n",
      "...Elapsed Time = 5.34 sec\n",
      "...Executors Run Time = 107.22 sec\n",
      "...Executors CPU Time = 57.35 sec\n",
      "...Executors JVM GC Time = 37.78 sec\n",
      "...Average Active Tasks = 20.1\n",
      "\n",
      "Run 0 - query q23a - attempt 0 - starting...\n"
     ]
    },
    {
     "name": "stderr",
     "output_type": "stream",
     "text": [
      "                                                                                \r"
     ]
    },
    {
     "name": "stdout",
     "output_type": "stream",
     "text": [
      "Job finished\n",
      "...Start Time = 2024-10-23 22:11:56\n",
      "...Elapsed Time = 8.76 sec\n",
      "...Executors Run Time = 201.77 sec\n",
      "...Executors CPU Time = 132.8 sec\n",
      "...Executors JVM GC Time = 53.02 sec\n",
      "...Average Active Tasks = 23.0\n",
      "\n",
      "Run 0 - query q23b - attempt 0 - starting...\n"
     ]
    },
    {
     "name": "stderr",
     "output_type": "stream",
     "text": [
      "[Stage 423:========>                                             (10 + 56) / 66]\r"
     ]
    },
    {
     "name": "stdout",
     "output_type": "stream",
     "text": [
      "Job finished\n",
      "...Start Time = 2024-10-23 22:12:06\n",
      "...Elapsed Time = 9.1 sec\n",
      "...Executors Run Time = 226.17 sec\n",
      "...Executors CPU Time = 147.83 sec\n",
      "...Executors JVM GC Time = 56.85 sec\n",
      "...Average Active Tasks = 24.9\n",
      "CPU times: user 104 ms, sys: 19.7 ms, total: 124 ms\n",
      "Wall time: 38.6 s\n"
     ]
    },
    {
     "name": "stderr",
     "output_type": "stream",
     "text": [
      "                                                                                \r"
     ]
    },
    {
     "data": {
      "text/html": [
       "<div>\n",
       "<style scoped>\n",
       "    .dataframe tbody tr th:only-of-type {\n",
       "        vertical-align: middle;\n",
       "    }\n",
       "\n",
       "    .dataframe tbody tr th {\n",
       "        vertical-align: top;\n",
       "    }\n",
       "\n",
       "    .dataframe thead th {\n",
       "        text-align: right;\n",
       "    }\n",
       "</style>\n",
       "<table border=\"1\" class=\"dataframe\">\n",
       "  <thead>\n",
       "    <tr style=\"text-align: right;\">\n",
       "      <th></th>\n",
       "      <th>query</th>\n",
       "      <th>numStages</th>\n",
       "      <th>numTasks</th>\n",
       "      <th>elapsedTime</th>\n",
       "      <th>stageDuration</th>\n",
       "      <th>executorRunTime</th>\n",
       "      <th>executorCpuTime</th>\n",
       "      <th>executorDeserializeTime</th>\n",
       "      <th>executorDeserializeCpuTime</th>\n",
       "      <th>resultSerializationTime</th>\n",
       "      <th>...</th>\n",
       "      <th>shuffleLocalBlocksFetched</th>\n",
       "      <th>shuffleRemoteBlocksFetched</th>\n",
       "      <th>shuffleTotalBytesRead</th>\n",
       "      <th>shuffleLocalBytesRead</th>\n",
       "      <th>shuffleRemoteBytesRead</th>\n",
       "      <th>shuffleRemoteBytesReadToDisk</th>\n",
       "      <th>shuffleBytesWritten</th>\n",
       "      <th>shuffleRecordsWritten</th>\n",
       "      <th>avg_active_tasks</th>\n",
       "      <th>elapsed_time_seconds</th>\n",
       "    </tr>\n",
       "  </thead>\n",
       "  <tbody>\n",
       "    <tr>\n",
       "      <th>0</th>\n",
       "      <td>q14a</td>\n",
       "      <td>30</td>\n",
       "      <td>838</td>\n",
       "      <td>8893</td>\n",
       "      <td>18832</td>\n",
       "      <td>165030</td>\n",
       "      <td>93225</td>\n",
       "      <td>5046</td>\n",
       "      <td>2073</td>\n",
       "      <td>173</td>\n",
       "      <td>...</td>\n",
       "      <td>551</td>\n",
       "      <td>0</td>\n",
       "      <td>878437913</td>\n",
       "      <td>878437913</td>\n",
       "      <td>0</td>\n",
       "      <td>0</td>\n",
       "      <td>875325021</td>\n",
       "      <td>62516924</td>\n",
       "      <td>18</td>\n",
       "      <td>8</td>\n",
       "    </tr>\n",
       "    <tr>\n",
       "      <th>1</th>\n",
       "      <td>q14b</td>\n",
       "      <td>24</td>\n",
       "      <td>636</td>\n",
       "      <td>5345</td>\n",
       "      <td>8296</td>\n",
       "      <td>107216</td>\n",
       "      <td>57348</td>\n",
       "      <td>1333</td>\n",
       "      <td>1279</td>\n",
       "      <td>137</td>\n",
       "      <td>...</td>\n",
       "      <td>513</td>\n",
       "      <td>0</td>\n",
       "      <td>1013592969</td>\n",
       "      <td>1013592969</td>\n",
       "      <td>0</td>\n",
       "      <td>0</td>\n",
       "      <td>529675847</td>\n",
       "      <td>40865273</td>\n",
       "      <td>20</td>\n",
       "      <td>5</td>\n",
       "    </tr>\n",
       "    <tr>\n",
       "      <th>2</th>\n",
       "      <td>q23a</td>\n",
       "      <td>18</td>\n",
       "      <td>621</td>\n",
       "      <td>8756</td>\n",
       "      <td>15658</td>\n",
       "      <td>201773</td>\n",
       "      <td>132801</td>\n",
       "      <td>4843</td>\n",
       "      <td>1201</td>\n",
       "      <td>341</td>\n",
       "      <td>...</td>\n",
       "      <td>2269</td>\n",
       "      <td>0</td>\n",
       "      <td>1115089630</td>\n",
       "      <td>1115089630</td>\n",
       "      <td>0</td>\n",
       "      <td>0</td>\n",
       "      <td>1085198863</td>\n",
       "      <td>41990073</td>\n",
       "      <td>23</td>\n",
       "      <td>8</td>\n",
       "    </tr>\n",
       "    <tr>\n",
       "      <th>3</th>\n",
       "      <td>q23b</td>\n",
       "      <td>21</td>\n",
       "      <td>690</td>\n",
       "      <td>9098</td>\n",
       "      <td>17390</td>\n",
       "      <td>226174</td>\n",
       "      <td>147829</td>\n",
       "      <td>3850</td>\n",
       "      <td>1652</td>\n",
       "      <td>323</td>\n",
       "      <td>...</td>\n",
       "      <td>4779</td>\n",
       "      <td>0</td>\n",
       "      <td>1200330085</td>\n",
       "      <td>1200330085</td>\n",
       "      <td>0</td>\n",
       "      <td>0</td>\n",
       "      <td>1097570340</td>\n",
       "      <td>42452502</td>\n",
       "      <td>24</td>\n",
       "      <td>9</td>\n",
       "    </tr>\n",
       "  </tbody>\n",
       "</table>\n",
       "<p>4 rows × 33 columns</p>\n",
       "</div>"
      ],
      "text/plain": [
       "  query  numStages  numTasks  elapsedTime  stageDuration  executorRunTime  \\\n",
       "0  q14a         30       838         8893          18832           165030   \n",
       "1  q14b         24       636         5345           8296           107216   \n",
       "2  q23a         18       621         8756          15658           201773   \n",
       "3  q23b         21       690         9098          17390           226174   \n",
       "\n",
       "   executorCpuTime  executorDeserializeTime  executorDeserializeCpuTime  \\\n",
       "0            93225                     5046                        2073   \n",
       "1            57348                     1333                        1279   \n",
       "2           132801                     4843                        1201   \n",
       "3           147829                     3850                        1652   \n",
       "\n",
       "   resultSerializationTime  ...  shuffleLocalBlocksFetched  \\\n",
       "0                      173  ...                        551   \n",
       "1                      137  ...                        513   \n",
       "2                      341  ...                       2269   \n",
       "3                      323  ...                       4779   \n",
       "\n",
       "   shuffleRemoteBlocksFetched  shuffleTotalBytesRead  shuffleLocalBytesRead  \\\n",
       "0                           0              878437913              878437913   \n",
       "1                           0             1013592969             1013592969   \n",
       "2                           0             1115089630             1115089630   \n",
       "3                           0             1200330085             1200330085   \n",
       "\n",
       "   shuffleRemoteBytesRead  shuffleRemoteBytesReadToDisk  shuffleBytesWritten  \\\n",
       "0                       0                             0            875325021   \n",
       "1                       0                             0            529675847   \n",
       "2                       0                             0           1085198863   \n",
       "3                       0                             0           1097570340   \n",
       "\n",
       "   shuffleRecordsWritten  avg_active_tasks  elapsed_time_seconds  \n",
       "0               62516924                18                     8  \n",
       "1               40865273                20                     5  \n",
       "2               41990073                23                     8  \n",
       "3               42452502                24                     9  \n",
       "\n",
       "[4 rows x 33 columns]"
      ]
     },
     "execution_count": 14,
     "metadata": {},
     "output_type": "execute_result"
    }
   ],
   "source": [
    "tpcds.spark.conf.set('spark.rapids.sql.enabled', False)\n",
    "%time tpcds.run_TPCDS()\n",
    "cpu_grouped_results = tpcds.grouped_results_pdf.copy()\n",
    "cpu_grouped_results"
   ]
  },
  {
   "cell_type": "markdown",
   "metadata": {
    "id": "PcZ12b13h3cq"
   },
   "source": [
    "## Show Speedup Factors achieved by GPU\n"
   ]
  },
  {
   "cell_type": "code",
   "execution_count": 16,
   "metadata": {
    "executionInfo": {
     "elapsed": 5,
     "status": "ok",
     "timestamp": 1729289293047,
     "user": {
      "displayName": "Gera Shegalov",
      "userId": "07399839501144323282"
     },
     "user_tz": 420
    },
    "id": "cJxS9Nqi3AQj"
   },
   "outputs": [
    {
     "data": {
      "text/html": [
       "<div>\n",
       "<style scoped>\n",
       "    .dataframe tbody tr th:only-of-type {\n",
       "        vertical-align: middle;\n",
       "    }\n",
       "\n",
       "    .dataframe tbody tr th {\n",
       "        vertical-align: top;\n",
       "    }\n",
       "\n",
       "    .dataframe thead th {\n",
       "        text-align: right;\n",
       "    }\n",
       "</style>\n",
       "<table border=\"1\" class=\"dataframe\">\n",
       "  <thead>\n",
       "    <tr style=\"text-align: right;\">\n",
       "      <th></th>\n",
       "      <th>query</th>\n",
       "      <th>numStages_cpu</th>\n",
       "      <th>numTasks_cpu</th>\n",
       "      <th>elapsedTime_cpu</th>\n",
       "      <th>stageDuration_cpu</th>\n",
       "      <th>executorRunTime_cpu</th>\n",
       "      <th>executorCpuTime_cpu</th>\n",
       "      <th>executorDeserializeTime_cpu</th>\n",
       "      <th>executorDeserializeCpuTime_cpu</th>\n",
       "      <th>resultSerializationTime_cpu</th>\n",
       "      <th>...</th>\n",
       "      <th>shuffleRemoteBlocksFetched_gpu</th>\n",
       "      <th>shuffleTotalBytesRead_gpu</th>\n",
       "      <th>shuffleLocalBytesRead_gpu</th>\n",
       "      <th>shuffleRemoteBytesRead_gpu</th>\n",
       "      <th>shuffleRemoteBytesReadToDisk_gpu</th>\n",
       "      <th>shuffleBytesWritten_gpu</th>\n",
       "      <th>shuffleRecordsWritten_gpu</th>\n",
       "      <th>avg_active_tasks_gpu</th>\n",
       "      <th>elapsed_time_seconds_gpu</th>\n",
       "      <th>speedup</th>\n",
       "    </tr>\n",
       "  </thead>\n",
       "  <tbody>\n",
       "    <tr>\n",
       "      <th>3</th>\n",
       "      <td>q23b</td>\n",
       "      <td>21</td>\n",
       "      <td>690</td>\n",
       "      <td>9098</td>\n",
       "      <td>17390</td>\n",
       "      <td>226174</td>\n",
       "      <td>147829</td>\n",
       "      <td>3850</td>\n",
       "      <td>1652</td>\n",
       "      <td>323</td>\n",
       "      <td>...</td>\n",
       "      <td>0</td>\n",
       "      <td>952886306</td>\n",
       "      <td>952886306</td>\n",
       "      <td>0</td>\n",
       "      <td>0</td>\n",
       "      <td>888400822</td>\n",
       "      <td>16353</td>\n",
       "      <td>37</td>\n",
       "      <td>4</td>\n",
       "      <td>1.873173</td>\n",
       "    </tr>\n",
       "    <tr>\n",
       "      <th>0</th>\n",
       "      <td>q14a</td>\n",
       "      <td>30</td>\n",
       "      <td>838</td>\n",
       "      <td>8893</td>\n",
       "      <td>18832</td>\n",
       "      <td>165030</td>\n",
       "      <td>93225</td>\n",
       "      <td>5046</td>\n",
       "      <td>2073</td>\n",
       "      <td>173</td>\n",
       "      <td>...</td>\n",
       "      <td>0</td>\n",
       "      <td>696345851</td>\n",
       "      <td>696345851</td>\n",
       "      <td>0</td>\n",
       "      <td>0</td>\n",
       "      <td>693789927</td>\n",
       "      <td>18794</td>\n",
       "      <td>19</td>\n",
       "      <td>6</td>\n",
       "      <td>1.321986</td>\n",
       "    </tr>\n",
       "    <tr>\n",
       "      <th>2</th>\n",
       "      <td>q23a</td>\n",
       "      <td>18</td>\n",
       "      <td>621</td>\n",
       "      <td>8756</td>\n",
       "      <td>15658</td>\n",
       "      <td>201773</td>\n",
       "      <td>132801</td>\n",
       "      <td>4843</td>\n",
       "      <td>1201</td>\n",
       "      <td>341</td>\n",
       "      <td>...</td>\n",
       "      <td>0</td>\n",
       "      <td>897023696</td>\n",
       "      <td>897023696</td>\n",
       "      <td>0</td>\n",
       "      <td>0</td>\n",
       "      <td>878917388</td>\n",
       "      <td>15223</td>\n",
       "      <td>29</td>\n",
       "      <td>3</td>\n",
       "      <td>2.807310</td>\n",
       "    </tr>\n",
       "    <tr>\n",
       "      <th>1</th>\n",
       "      <td>q14b</td>\n",
       "      <td>24</td>\n",
       "      <td>636</td>\n",
       "      <td>5345</td>\n",
       "      <td>8296</td>\n",
       "      <td>107216</td>\n",
       "      <td>57348</td>\n",
       "      <td>1333</td>\n",
       "      <td>1279</td>\n",
       "      <td>137</td>\n",
       "      <td>...</td>\n",
       "      <td>0</td>\n",
       "      <td>767440959</td>\n",
       "      <td>767440959</td>\n",
       "      <td>0</td>\n",
       "      <td>0</td>\n",
       "      <td>421596829</td>\n",
       "      <td>15346</td>\n",
       "      <td>28</td>\n",
       "      <td>2</td>\n",
       "      <td>1.824855</td>\n",
       "    </tr>\n",
       "  </tbody>\n",
       "</table>\n",
       "<p>4 rows × 66 columns</p>\n",
       "</div>"
      ],
      "text/plain": [
       "  query  numStages_cpu  numTasks_cpu  elapsedTime_cpu  stageDuration_cpu  \\\n",
       "3  q23b             21           690             9098              17390   \n",
       "0  q14a             30           838             8893              18832   \n",
       "2  q23a             18           621             8756              15658   \n",
       "1  q14b             24           636             5345               8296   \n",
       "\n",
       "   executorRunTime_cpu  executorCpuTime_cpu  executorDeserializeTime_cpu  \\\n",
       "3               226174               147829                         3850   \n",
       "0               165030                93225                         5046   \n",
       "2               201773               132801                         4843   \n",
       "1               107216                57348                         1333   \n",
       "\n",
       "   executorDeserializeCpuTime_cpu  resultSerializationTime_cpu  ...  \\\n",
       "3                            1652                          323  ...   \n",
       "0                            2073                          173  ...   \n",
       "2                            1201                          341  ...   \n",
       "1                            1279                          137  ...   \n",
       "\n",
       "   shuffleRemoteBlocksFetched_gpu  shuffleTotalBytesRead_gpu  \\\n",
       "3                               0                  952886306   \n",
       "0                               0                  696345851   \n",
       "2                               0                  897023696   \n",
       "1                               0                  767440959   \n",
       "\n",
       "   shuffleLocalBytesRead_gpu  shuffleRemoteBytesRead_gpu  \\\n",
       "3                  952886306                           0   \n",
       "0                  696345851                           0   \n",
       "2                  897023696                           0   \n",
       "1                  767440959                           0   \n",
       "\n",
       "   shuffleRemoteBytesReadToDisk_gpu  shuffleBytesWritten_gpu  \\\n",
       "3                                 0                888400822   \n",
       "0                                 0                693789927   \n",
       "2                                 0                878917388   \n",
       "1                                 0                421596829   \n",
       "\n",
       "   shuffleRecordsWritten_gpu  avg_active_tasks_gpu  elapsed_time_seconds_gpu  \\\n",
       "3                      16353                    37                         4   \n",
       "0                      18794                    19                         6   \n",
       "2                      15223                    29                         3   \n",
       "1                      15346                    28                         2   \n",
       "\n",
       "    speedup  \n",
       "3  1.873173  \n",
       "0  1.321986  \n",
       "2  2.807310  \n",
       "1  1.824855  \n",
       "\n",
       "[4 rows x 66 columns]"
      ]
     },
     "execution_count": 16,
     "metadata": {},
     "output_type": "execute_result"
    }
   ],
   "source": [
    "res = pd.merge(cpu_grouped_results, gpu_grouped_results, on='query', how='inner', suffixes=['_cpu', '_gpu'])\n",
    "res['speedup'] = res['elapsedTime_cpu'] / res['elapsedTime_gpu']\n",
    "res = res.sort_values(by='elapsedTime_cpu', ascending=False)\n",
    "res"
   ]
  },
  {
   "cell_type": "code",
   "execution_count": 17,
   "metadata": {},
   "outputs": [
    {
     "name": "stdout",
     "output_type": "stream",
     "text": [
      "CPU and GPU run took: demo_dur=204.26533198356628 seconds\n"
     ]
    }
   ],
   "source": [
    "demo_dur = time.time() - demo_start\n",
    "print(f\"CPU and GPU run took: {demo_dur=} seconds\")"
   ]
  },
  {
   "cell_type": "code",
   "execution_count": 20,
   "metadata": {
    "colab": {
     "base_uri": "https://localhost:8080/",
     "height": 510
    },
    "executionInfo": {
     "elapsed": 1041,
     "status": "ok",
     "timestamp": 1729289294084,
     "user": {
      "displayName": "Gera Shegalov",
      "userId": "07399839501144323282"
     },
     "user_tz": 420
    },
    "id": "wn7u33fZlUJL",
    "outputId": "8d1ef757-e5c2-4761-fc58-f65f833bdffc"
   },
   "outputs": [
    {
     "data": {
      "text/plain": [
       "<Axes: title={'center': 'TPC-DS query elapsedTime on CPU vs GPU (lower is better)'}, xlabel='query'>"
      ]
     },
     "execution_count": 20,
     "metadata": {},
     "output_type": "execute_result"
    },
    {
     "data": {
      "image/png": "[encoded data removed]",
      "text/plain": [
       "<Figure size 640x480 with 1 Axes>"
      ]
     },
     "metadata": {},
     "output_type": "display_data"
    }
   ],
   "source": [
    "res.plot(title='TPC-DS query elapsedTime on CPU vs GPU (lower is better)', kind='bar', x='query', y=['elapsedTime_cpu', 'elapsedTime_gpu'])"
   ]
  },
  {
   "cell_type": "code",
   "execution_count": 21,
   "metadata": {
    "colab": {
     "base_uri": "https://localhost:8080/",
     "height": 510
    },
    "executionInfo": {
     "elapsed": 381,
     "status": "ok",
     "timestamp": 1729289294462,
     "user": {
      "displayName": "Gera Shegalov",
      "userId": "07399839501144323282"
     },
     "user_tz": 420
    },
    "id": "hW-LZponwGQE",
    "outputId": "ed456120-ca7f-4c91-a2bf-de87c2401f0c"
   },
   "outputs": [
    {
     "data": {
      "text/plain": [
       "<Axes: title={'center': 'Speedup factors of TPC-DS queries on GPU'}, xlabel='query'>"
      ]
     },
     "execution_count": 21,
     "metadata": {},
     "output_type": "execute_result"
    },
    {
     "data": {
      "image/png": "[encoded data removed]",
      "text/plain": [
       "<Figure size 640x480 with 1 Axes>"
      ]
     },
     "metadata": {},
     "output_type": "display_data"
    }
   ],
   "source": [
    "res.plot(title='Speedup factors of TPC-DS queries on GPU', kind='bar', x='query', y='speedup' )"
   ]
  },
  {
   "cell_type": "markdown",
   "metadata": {
    "id": "Pk2TR4yimNqP"
   },
   "source": [
    "# Run Queries interactively"
   ]
  },
  {
   "cell_type": "code",
   "execution_count": 22,
   "metadata": {
    "executionInfo": {
     "elapsed": 4,
     "status": "ok",
     "timestamp": 1729289294462,
     "user": {
      "displayName": "Gera Shegalov",
      "userId": "07399839501144323282"
     },
     "user_tz": 420
    },
    "id": "RpIl6NyNzqYU"
   },
   "outputs": [],
   "source": [
    "query = 'q88'\n",
    "with open(f\"{tpcds_pyspark_files}/Queries/{query}.sql\") as f:\n",
    "  q = f.read()"
   ]
  },
  {
   "cell_type": "code",
   "execution_count": 23,
   "metadata": {
    "colab": {
     "base_uri": "https://localhost:8080/",
     "height": 0
    },
    "executionInfo": {
     "elapsed": 3,
     "status": "ok",
     "timestamp": 1729289294462,
     "user": {
      "displayName": "Gera Shegalov",
      "userId": "07399839501144323282"
     },
     "user_tz": 420
    },
    "id": "cuCVL1Ed1lQd",
    "outputId": "d256f4b7-e0e2-450c-ba88-aff0d7571510"
   },
   "outputs": [
    {
     "name": "stdout",
     "output_type": "stream",
     "text": [
      "SELECT *\n",
      "FROM\n",
      "  (SELECT count(*) h8_30_to_9\n",
      "  FROM store_sales, household_demographics, time_dim, store\n",
      "  WHERE ss_sold_time_sk = time_dim.t_time_sk\n",
      "    AND ss_hdemo_sk = household_demographics.hd_demo_sk\n",
      "    AND ss_store_sk = s_store_sk\n",
      "    AND time_dim.t_hour = 8\n",
      "    AND time_dim.t_minute >= 30\n",
      "    AND (\n",
      "    (household_demographics.hd_dep_count = 4 AND household_demographics.hd_vehicle_count <= 4 + 2)\n",
      "      OR\n",
      "      (household_demographics.hd_dep_count = 2 AND household_demographics.hd_vehicle_count <= 2 + 2)\n",
      "      OR\n",
      "      (household_demographics.hd_dep_count = 0 AND\n",
      "        household_demographics.hd_vehicle_count <= 0 + 2))\n",
      "    AND store.s_store_name = 'ese') s1,\n",
      "  (SELECT count(*) h9_to_9_30\n",
      "  FROM store_sales, household_demographics, time_dim, store\n",
      "  WHERE ss_sold_time_sk = time_dim.t_time_sk\n",
      "    AND ss_hdemo_sk = household_demographics.hd_demo_sk\n",
      "    AND ss_store_sk = s_store_sk\n",
      "    AND time_dim.t_hour = 9\n",
      "    AND time_dim.t_minute < 30\n",
      "    AND (\n",
      "    (household_demographics.hd_dep_count = 4 AND household_demographics.hd_vehicle_count <= 4 + 2)\n",
      "      OR\n",
      "      (household_demographics.hd_dep_count = 2 AND household_demographics.hd_vehicle_count <= 2 + 2)\n",
      "      OR\n",
      "      (household_demographics.hd_dep_count = 0 AND\n",
      "        household_demographics.hd_vehicle_count <= 0 + 2))\n",
      "    AND store.s_store_name = 'ese') s2,\n",
      "  (SELECT count(*) h9_30_to_10\n",
      "  FROM store_sales, household_demographics, time_dim, store\n",
      "  WHERE ss_sold_time_sk = time_dim.t_time_sk\n",
      "    AND ss_hdemo_sk = household_demographics.hd_demo_sk\n",
      "    AND ss_store_sk = s_store_sk\n",
      "    AND time_dim.t_hour = 9\n",
      "    AND time_dim.t_minute >= 30\n",
      "    AND (\n",
      "    (household_demographics.hd_dep_count = 4 AND household_demographics.hd_vehicle_count <= 4 + 2)\n",
      "      OR\n",
      "      (household_demographics.hd_dep_count = 2 AND household_demographics.hd_vehicle_count <= 2 + 2)\n",
      "      OR\n",
      "      (household_demographics.hd_dep_count = 0 AND\n",
      "        household_demographics.hd_vehicle_count <= 0 + 2))\n",
      "    AND store.s_store_name = 'ese') s3,\n",
      "  (SELECT count(*) h10_to_10_30\n",
      "  FROM store_sales, household_demographics, time_dim, store\n",
      "  WHERE ss_sold_time_sk = time_dim.t_time_sk\n",
      "    AND ss_hdemo_sk = household_demographics.hd_demo_sk\n",
      "    AND ss_store_sk = s_store_sk\n",
      "    AND time_dim.t_hour = 10\n",
      "    AND time_dim.t_minute < 30\n",
      "    AND (\n",
      "    (household_demographics.hd_dep_count = 4 AND household_demographics.hd_vehicle_count <= 4 + 2)\n",
      "      OR\n",
      "      (household_demographics.hd_dep_count = 2 AND household_demographics.hd_vehicle_count <= 2 + 2)\n",
      "      OR\n",
      "      (household_demographics.hd_dep_count = 0 AND\n",
      "        household_demographics.hd_vehicle_count <= 0 + 2))\n",
      "    AND store.s_store_name = 'ese') s4,\n",
      "  (SELECT count(*) h10_30_to_11\n",
      "  FROM store_sales, household_demographics, time_dim, store\n",
      "  WHERE ss_sold_time_sk = time_dim.t_time_sk\n",
      "    AND ss_hdemo_sk = household_demographics.hd_demo_sk\n",
      "    AND ss_store_sk = s_store_sk\n",
      "    AND time_dim.t_hour = 10\n",
      "    AND time_dim.t_minute >= 30\n",
      "    AND (\n",
      "    (household_demographics.hd_dep_count = 4 AND household_demographics.hd_vehicle_count <= 4 + 2)\n",
      "      OR\n",
      "      (household_demographics.hd_dep_count = 2 AND household_demographics.hd_vehicle_count <= 2 + 2)\n",
      "      OR\n",
      "      (household_demographics.hd_dep_count = 0 AND\n",
      "        household_demographics.hd_vehicle_count <= 0 + 2))\n",
      "    AND store.s_store_name = 'ese') s5,\n",
      "  (SELECT count(*) h11_to_11_30\n",
      "  FROM store_sales, household_demographics, time_dim, store\n",
      "  WHERE ss_sold_time_sk = time_dim.t_time_sk\n",
      "    AND ss_hdemo_sk = household_demographics.hd_demo_sk\n",
      "    AND ss_store_sk = s_store_sk\n",
      "    AND time_dim.t_hour = 11\n",
      "    AND time_dim.t_minute < 30\n",
      "    AND (\n",
      "    (household_demographics.hd_dep_count = 4 AND household_demographics.hd_vehicle_count <= 4 + 2)\n",
      "      OR\n",
      "      (household_demographics.hd_dep_count = 2 AND household_demographics.hd_vehicle_count <= 2 + 2)\n",
      "      OR\n",
      "      (household_demographics.hd_dep_count = 0 AND\n",
      "        household_demographics.hd_vehicle_count <= 0 + 2))\n",
      "    AND store.s_store_name = 'ese') s6,\n",
      "  (SELECT count(*) h11_30_to_12\n",
      "  FROM store_sales, household_demographics, time_dim, store\n",
      "  WHERE ss_sold_time_sk = time_dim.t_time_sk\n",
      "    AND ss_hdemo_sk = household_demographics.hd_demo_sk\n",
      "    AND ss_store_sk = s_store_sk\n",
      "    AND time_dim.t_hour = 11\n",
      "    AND time_dim.t_minute >= 30\n",
      "    AND (\n",
      "    (household_demographics.hd_dep_count = 4 AND household_demographics.hd_vehicle_count <= 4 + 2)\n",
      "      OR\n",
      "      (household_demographics.hd_dep_count = 2 AND household_demographics.hd_vehicle_count <= 2 + 2)\n",
      "      OR\n",
      "      (household_demographics.hd_dep_count = 0 AND\n",
      "        household_demographics.hd_vehicle_count <= 0 + 2))\n",
      "    AND store.s_store_name = 'ese') s7,\n",
      "  (SELECT count(*) h12_to_12_30\n",
      "  FROM store_sales, household_demographics, time_dim, store\n",
      "  WHERE ss_sold_time_sk = time_dim.t_time_sk\n",
      "    AND ss_hdemo_sk = household_demographics.hd_demo_sk\n",
      "    AND ss_store_sk = s_store_sk\n",
      "    AND time_dim.t_hour = 12\n",
      "    AND time_dim.t_minute < 30\n",
      "    AND (\n",
      "    (household_demographics.hd_dep_count = 4 AND household_demographics.hd_vehicle_count <= 4 + 2)\n",
      "      OR\n",
      "      (household_demographics.hd_dep_count = 2 AND household_demographics.hd_vehicle_count <= 2 + 2)\n",
      "      OR\n",
      "      (household_demographics.hd_dep_count = 0 AND\n",
      "        household_demographics.hd_vehicle_count <= 0 + 2))\n",
      "    AND store.s_store_name = 'ese') s8\n",
      "\n"
     ]
    }
   ],
   "source": [
    "print(q)"
   ]
  },
  {
   "cell_type": "code",
   "execution_count": 24,
   "metadata": {
    "colab": {
     "base_uri": "https://localhost:8080/",
     "height": 0
    },
    "editable": true,
    "executionInfo": {
     "elapsed": 1470,
     "status": "ok",
     "timestamp": 1729289295930,
     "user": {
      "displayName": "Gera Shegalov",
      "userId": "07399839501144323282"
     },
     "user_tz": 420
    },
    "id": "n4QUdq17040i",
    "outputId": "7d7c7562-fae6-4426-97a7-ec23b8fe2f0d",
    "slideshow": {
     "slide_type": ""
    },
    "tags": []
   },
   "outputs": [
    {
     "name": "stderr",
     "output_type": "stream",
     "text": [
      "[Stage 451:>(6 + 58) / 64][Stage 453:>  (0 + 1) / 1][Stage 455:>  (0 + 1) / 1]\r"
     ]
    },
    {
     "name": "stdout",
     "output_type": "stream",
     "text": [
      "CPU times: user 4.58 ms, sys: 24 μs, total: 4.61 ms\n",
      "Wall time: 1.86 s\n"
     ]
    },
    {
     "name": "stderr",
     "output_type": "stream",
     "text": [
      "                                                                                \r"
     ]
    },
    {
     "data": {
      "text/plain": [
       "[Row(h8_30_to_9=18440, h9_to_9_30=39156, h9_30_to_10=38666, h10_to_10_30=58037, h10_30_to_11=58313, h11_to_11_30=34436, h11_30_to_12=33322, h12_to_12_30=39142)]"
      ]
     },
     "execution_count": 24,
     "metadata": {},
     "output_type": "execute_result"
    }
   ],
   "source": [
    "spark.conf.set('spark.rapids.sql.enabled', True)\n",
    "df  = spark.sql(q)\n",
    "%time df.collect()"
   ]
  }
 ],
 "metadata": {
  "accelerator": "GPU",
  "colab": {
   "gpuType": "T4",
   "machine_shape": "hm",
   "provenance": []
  },
  "kernelspec": {
   "display_name": "Python 3 (ipykernel)",
   "language": "python",
   "name": "python3"
  },
  "language_info": {
   "codemirror_mode": {
    "name": "ipython",
    "version": 3
   },
   "file_extension": ".py",
   "mimetype": "text/x-python",
   "name": "python",
   "nbconvert_exporter": "python",
   "pygments_lexer": "ipython3",
   "version": "3.10.12"
  }
 },
 "nbformat": 4,
 "nbformat_minor": 4
}
