{
 "cells": [
  {
   "cell_type": "markdown",
   "metadata": {
    "editable": true,
    "id": "HtgYO0bXEBrN",
    "slideshow": {
     "slide_type": ""
    },
    "tags": []
   },
   "source": [
    "# TPC-DS 10GiB - Apache Spark acceleration on GPU with RAPIDS Spark\n",
    "\n",
    "based on https://colab.research.google.com/github/LucaCanali/Miscellaneous/blob/master/Performance_Testing/TPCDS_PySpark/Labs_and_Notes/TPCDS_PySpark_getstarted.ipynb#scrollTo=6bab7772"
   ]
  },
  {
   "cell_type": "markdown",
   "metadata": {},
   "source": [
    "# Install packages"
   ]
  },
  {
   "cell_type": "code",
   "execution_count": 1,
   "metadata": {},
   "outputs": [],
   "source": [
    "spark_version='3.5.0'\n",
    "rapids_version='24.10.0'"
   ]
  },
  {
   "cell_type": "code",
   "execution_count": 3,
   "metadata": {
    "executionInfo": {
     "elapsed": 1630,
     "status": "ok",
     "timestamp": 1729291037060,
     "user": {
      "displayName": "Gera Shegalov",
      "userId": "07399839501144323282"
     },
     "user_tz": 420
    },
    "id": "Yq230e1Nho_M"
   },
   "outputs": [
    {
     "name": "stdout",
     "output_type": "stream",
     "text": [
      "Note: you may need to restart the kernel to use updated packages.\n"
     ]
    }
   ],
   "source": [
    "%pip install --quiet \\\n",
    "  tpcds_pyspark \\\n",
    "  pyspark=={spark_version} \\\n",
    "  sparkmeasure \\\n",
    "  pandas \\\n",
    "  matplotlib"
   ]
  },
  {
   "cell_type": "markdown",
   "metadata": {},
   "source": [
    "# Import modules"
   ]
  },
  {
   "cell_type": "code",
   "execution_count": 4,
   "metadata": {
    "executionInfo": {
     "elapsed": 1052,
     "status": "ok",
     "timestamp": 1729291488008,
     "user": {
      "displayName": "Gera Shegalov",
      "userId": "07399839501144323282"
     },
     "user_tz": 420
    },
    "id": "uq_LmKsB36R_"
   },
   "outputs": [],
   "source": [
    "from importlib.resources import files\n",
    "from pyspark.sql import SparkSession\n",
    "from tpcds_pyspark import TPCDS\n",
    "import glob\n",
    "import os\n",
    "import pandas as pd\n",
    "import re\n",
    "import time"
   ]
  },
  {
   "cell_type": "markdown",
   "metadata": {
    "id": "edMCFrhvgDS8"
   },
   "source": [
    "# Download TPC-DS 10GiB Scale Parquet Dataset"
   ]
  },
  {
   "cell_type": "code",
   "execution_count": 5,
   "metadata": {
    "executionInfo": {
     "elapsed": 41530,
     "status": "ok",
     "timestamp": 1729292943990,
     "user": {
      "displayName": "Gera Shegalov",
      "userId": "07399839501144323282"
     },
     "user_tz": 420
    },
    "id": "DY8TkhPQTjbB"
   },
   "outputs": [],
   "source": [
    "if not os.path.isdir('tpcds_10'):\n",
    "  if not os.path.isfile('tpcds_10.zip'):\n",
    "    !wget https://sparkdltrigger.web.cern.ch/sparkdltrigger/TPCDS/tpcds_10.zip\n",
    "  !unzip -q tpcds_10.zip"
   ]
  },
  {
   "cell_type": "markdown",
   "metadata": {
    "id": "6tgF9LWcgUEs"
   },
   "source": [
    "# Init a SparkSession with RAPIDS Spark"
   ]
  },
  {
   "cell_type": "markdown",
   "metadata": {},
   "source": [
    "## Detect Scala Version used in PySpark package"
   ]
  },
  {
   "cell_type": "code",
   "execution_count": 6,
   "metadata": {},
   "outputs": [],
   "source": [
    "pyspark_files = files('pyspark')\n",
    "spark_sql_jar_path, *_ = glob.glob(f\"{pyspark_files}/*/spark-sql_*jar\")\n",
    "spark_sql_jar = os.path.basename(spark_sql_jar_path)\n",
    "scala_version = re.search(r'^spark-sql_(\\d+.\\d+)-.*\\.jar$', spark_sql_jar).group(1)"
   ]
  },
  {
   "cell_type": "markdown",
   "metadata": {},
   "source": [
    "## Find spark-measure artifact"
   ]
  },
  {
   "cell_type": "code",
   "execution_count": 7,
   "metadata": {},
   "outputs": [],
   "source": [
    "tpcds_pyspark_files = files('tpcds_pyspark')\n",
    "spark_measure_jar_paths = glob.glob(f\"{tpcds_pyspark_files}/spark-measure_{scala_version}-*.jar\")\n",
    "assert spark_measure_jar_paths, f\"No spark-measure artifact built for Pyspark's Scala version {scala_version}\"\n",
    "spark_measure_jar_paths.sort(reverse=True)\n",
    "spark_measure_jar_path, *_ = spark_measure_jar_paths"
   ]
  },
  {
   "cell_type": "code",
   "execution_count": 8,
   "metadata": {
    "executionInfo": {
     "elapsed": 39420,
     "status": "ok",
     "timestamp": 1729289098419,
     "user": {
      "displayName": "Gera Shegalov",
      "userId": "07399839501144323282"
     },
     "user_tz": 420
    },
    "id": "-L-wMZTpfYxs"
   },
   "outputs": [
    {
     "name": "stderr",
     "output_type": "stream",
     "text": [
      "24/10/23 14:46:45 WARN Utils: Your hostname, e780a48-lcedt resolves to a loopback address: 127.0.1.1; using 10.112.215.249 instead (on interface enp36s0f0)\n",
      "24/10/23 14:46:45 WARN Utils: Set SPARK_LOCAL_IP if you need to bind to another address\n"
     ]
    },
    {
     "name": "stdout",
     "output_type": "stream",
     "text": [
      ":: loading settings :: url = jar:file:/home/gshegalov/gits/NVIDIA/spark-rapids-examples/.venv/lib/python3.10/site-packages/pyspark/jars/ivy-2.5.1.jar!/org/apache/ivy/core/settings/ivysettings.xml\n"
     ]
    },
    {
     "name": "stderr",
     "output_type": "stream",
     "text": [
      "Ivy Default Cache set to: /home/gshegalov/.ivy2/cache\n",
      "The jars for the packages stored in: /home/gshegalov/.ivy2/jars\n",
      "com.nvidia#rapids-4-spark_2.12 added as a dependency\n",
      ":: resolving dependencies :: org.apache.spark#spark-submit-parent-93f929a5-5993-4f3d-9421-bd096589e319;1.0\n",
      "\tconfs: [default]\n",
      "\tfound com.nvidia#rapids-4-spark_2.12;24.10.0 in central\n",
      ":: resolution report :: resolve 69ms :: artifacts dl 3ms\n",
      "\t:: modules in use:\n",
      "\tcom.nvidia#rapids-4-spark_2.12;24.10.0 from central in [default]\n",
      "\t---------------------------------------------------------------------\n",
      "\t|                  |            modules            ||   artifacts   |\n",
      "\t|       conf       | number| search|dwnlded|evicted|| number|dwnlded|\n",
      "\t---------------------------------------------------------------------\n",
      "\t|      default     |   1   |   0   |   0   |   0   ||   1   |   0   |\n",
      "\t---------------------------------------------------------------------\n",
      ":: retrieving :: org.apache.spark#spark-submit-parent-93f929a5-5993-4f3d-9421-bd096589e319\n",
      "\tconfs: [default]\n",
      "\t0 artifacts copied, 1 already retrieved (0kB/2ms)\n",
      "24/10/23 14:46:45 WARN NativeCodeLoader: Unable to load native-hadoop library for your platform... using builtin-java classes where applicable\n",
      "Setting default log level to \"WARN\".\n",
      "To adjust logging level use sc.setLogLevel(newLevel). For SparkR, use setLogLevel(newLevel).\n",
      "24/10/23 14:46:47 WARN RapidsPluginUtils: RAPIDS Accelerator 24.10.0 using cudf 24.10.0, private revision bd4e99e18e20234ee0c54f95f4b0bfce18a6255e\n",
      "24/10/23 14:46:47 WARN RapidsPluginUtils: RAPIDS Accelerator is enabled, to disable GPU support set `spark.rapids.sql.enabled` to false.\n",
      "24/10/23 14:46:47 WARN RapidsPluginUtils: spark.rapids.sql.explain is set to `NOT_ON_GPU`. Set it to 'NONE' to suppress the diagnostics logging about the query placement on the GPU.\n"
     ]
    }
   ],
   "source": [
    "spark = (\n",
    "    SparkSession.builder\n",
    "      .appName('TPCDS PySpark RAPIDS=ON/OFF')\n",
    "      .config('spark.driver.memory', '5g')\n",
    "      .config('spark.plugins', 'com.nvidia.spark.SQLPlugin')\n",
    "      .config('spark.jars', spark_measure_jar_path)\n",
    "      .config('spark.jars.packages', f\"com.nvidia:rapids-4-spark_{scala_version}:{rapids_version}\")\n",
    "      .getOrCreate()\n",
    ")\n"
   ]
  },
  {
   "cell_type": "markdown",
   "metadata": {
    "id": "_4sYje2NiNA7"
   },
   "source": [
    "# Verify SQL Acceleration on GPU can be enabled by checking the query plan"
   ]
  },
  {
   "cell_type": "code",
   "execution_count": 9,
   "metadata": {
    "colab": {
     "base_uri": "https://localhost:8080/",
     "height": 0
    },
    "executionInfo": {
     "elapsed": 5921,
     "status": "ok",
     "timestamp": 1729289104337,
     "user": {
      "displayName": "Gera Shegalov",
      "userId": "07399839501144323282"
     },
     "user_tz": 420
    },
    "id": "nUyQBKtkga9y",
    "outputId": "5d493a51-58de-4aed-bbaf-d73c82769836"
   },
   "outputs": [
    {
     "name": "stderr",
     "output_type": "stream",
     "text": [
      "[Stage 0:>                                                        (0 + 64) / 64]\r"
     ]
    },
    {
     "name": "stdout",
     "output_type": "stream",
     "text": [
      "== Physical Plan ==\n",
      "AdaptiveSparkPlan isFinalPlan=true\n",
      "+- == Final Plan ==\n",
      "   GpuColumnarToRow false, [loreId=22]\n",
      "   +- GpuHashAggregate (keys=[], functions=[gpubasicsum(id#0L, LongType, false)]), filters=ArrayBuffer(None)) [loreId=21]\n",
      "      +- GpuShuffleCoalesce 1073741824, [loreId=20]\n",
      "         +- ShuffleQueryStage 0\n",
      "            +- GpuColumnarExchange gpusinglepartitioning$(), ENSURE_REQUIREMENTS, [plan_id=64], [loreId=17]\n",
      "               +- GpuHashAggregate (keys=[], functions=[partial_gpubasicsum(id#0L, LongType, false)]), filters=ArrayBuffer(None)) [loreId=16]\n",
      "                  +- GpuRange (0, 1000, step=1, splits=64)\n",
      "+- == Initial Plan ==\n",
      "   HashAggregate(keys=[], functions=[sum(id#0L)])\n",
      "   +- Exchange SinglePartition, ENSURE_REQUIREMENTS, [plan_id=11]\n",
      "      +- HashAggregate(keys=[], functions=[partial_sum(id#0L)])\n",
      "         +- Range (0, 1000, step=1, splits=64)\n",
      "\n",
      "\n"
     ]
    },
    {
     "name": "stderr",
     "output_type": "stream",
     "text": [
      "                                                                                \r"
     ]
    }
   ],
   "source": [
    "spark.conf.set('spark.rapids.sql.enabled', True)\n",
    "sum_df = spark.range(1000).selectExpr('SUM(*)')\n",
    "sum_df.collect()\n",
    "sum_df.explain()"
   ]
  },
  {
   "cell_type": "markdown",
   "metadata": {},
   "source": [
    "# TPCDS App"
   ]
  },
  {
   "cell_type": "code",
   "execution_count": 10,
   "metadata": {
    "colab": {
     "base_uri": "https://localhost:8080/",
     "height": 0
    },
    "executionInfo": {
     "elapsed": 4,
     "status": "ok",
     "timestamp": 1729289104337,
     "user": {
      "displayName": "Gera Shegalov",
      "userId": "07399839501144323282"
     },
     "user_tz": 420
    },
    "id": "BYPgafupcxaY",
    "outputId": "fdfb427f-6cc0-4dff-9295-dc44e6ead132"
   },
   "outputs": [
    {
     "name": "stdout",
     "output_type": "stream",
     "text": [
      "sparkMeasure jar path: /home/gshegalov/gits/NVIDIA/spark-rapids-examples/.venv/lib/python3.10/site-packages/tpcds_pyspark/spark-measure_2.12-0.24.jar\n",
      "TPCDS queries path: /home/gshegalov/gits/NVIDIA/spark-rapids-examples/.venv/lib/python3.10/site-packages/tpcds_pyspark/Queries\n"
     ]
    },
    {
     "name": "stderr",
     "output_type": "stream",
     "text": [
      "24/10/23 14:47:27 WARN SparkSession: Using an existing Spark session; only runtime SQL configurations will take effect.\n"
     ]
    }
   ],
   "source": [
    "# https://github.com/LucaCanali/Miscellaneous/tree/master/Performance_Testing/TPCDS_PySpark/tpcds_pyspark/Queries\n",
    "\n",
    "# queries = None to run all (takes much longer)\n",
    "queries = None\n",
    "queries = [\n",
    "    'q14a',\n",
    "    'q14b',\n",
    "    'q23a',\n",
    "    'q23b',\n",
    "    # 'q24a',\n",
    "    # 'q24b',\n",
    "    # 'q88',\n",
    "]\n",
    "\n",
    "demo_start = time.time()\n",
    "tpcds = TPCDS(data_path='./tpcds_10', num_runs=1, queries_repeat_times=1, queries=queries)"
   ]
  },
  {
   "cell_type": "markdown",
   "metadata": {
    "id": "0Yaaw2GfliC5"
   },
   "source": [
    "## Register TPC-DS tables before running queries"
   ]
  },
  {
   "cell_type": "code",
   "execution_count": 11,
   "metadata": {
    "colab": {
     "base_uri": "https://localhost:8080/",
     "height": 0
    },
    "executionInfo": {
     "elapsed": 2992,
     "status": "ok",
     "timestamp": 1729289107327,
     "user": {
      "displayName": "Gera Shegalov",
      "userId": "07399839501144323282"
     },
     "user_tz": 420
    },
    "id": "kfsHodFqdDl7",
    "outputId": "5a810f9d-e353-456c-b7bb-48ae3290178a"
   },
   "outputs": [
    {
     "name": "stdout",
     "output_type": "stream",
     "text": [
      "Creating temporary view catalog_returns\n"
     ]
    },
    {
     "name": "stderr",
     "output_type": "stream",
     "text": [
      "24/10/23 14:47:33 WARN SparkStringUtils: Truncated the string representation of a plan since it was too large. This behavior can be adjusted by setting 'spark.sql.debug.maxToStringFields'.\n"
     ]
    },
    {
     "name": "stdout",
     "output_type": "stream",
     "text": [
      "Creating temporary view catalog_sales\n",
      "Creating temporary view inventory\n",
      "Creating temporary view store_returns\n",
      "Creating temporary view store_sales\n",
      "Creating temporary view web_returns\n",
      "Creating temporary view web_sales\n",
      "Creating temporary view call_center\n",
      "Creating temporary view catalog_page\n",
      "Creating temporary view customer\n",
      "Creating temporary view customer_address\n",
      "Creating temporary view customer_demographics\n",
      "Creating temporary view date_dim\n",
      "Creating temporary view household_demographics\n",
      "Creating temporary view income_band\n",
      "Creating temporary view item\n",
      "Creating temporary view promotion\n",
      "Creating temporary view reason\n",
      "Creating temporary view ship_mode\n",
      "Creating temporary view store\n",
      "Creating temporary view time_dim\n",
      "Creating temporary view warehouse\n",
      "Creating temporary view web_page\n",
      "Creating temporary view web_site\n"
     ]
    }
   ],
   "source": [
    "tpcds.map_tables()"
   ]
  },
  {
   "cell_type": "markdown",
   "metadata": {
    "id": "ulyFidEPhg_l"
   },
   "source": [
    "## Measure Apache Spark CPU"
   ]
  },
  {
   "cell_type": "code",
   "execution_count": 12,
   "metadata": {
    "colab": {
     "base_uri": "https://localhost:8080/",
     "height": 0
    },
    "executionInfo": {
     "elapsed": 135425,
     "status": "ok",
     "timestamp": 1729289242749,
     "user": {
      "displayName": "Gera Shegalov",
      "userId": "07399839501144323282"
     },
     "user_tz": 420
    },
    "id": "Dg0itS7cdIf4",
    "outputId": "4ce1f8a2-5ac7-4805-e6f6-37a8acb7e039"
   },
   "outputs": [
    {
     "name": "stdout",
     "output_type": "stream",
     "text": [
      "\n",
      "Run 0 - query q14a - attempt 0 - starting...\n"
     ]
    },
    {
     "name": "stderr",
     "output_type": "stream",
     "text": [
      "                                                                                \r"
     ]
    },
    {
     "name": "stdout",
     "output_type": "stream",
     "text": [
      "Job finished\n",
      "...Start Time = 2024-10-23 14:47:40\n",
      "...Elapsed Time = 9.31 sec\n",
      "...Executors Run Time = 149.86 sec\n",
      "...Executors CPU Time = 85.31 sec\n",
      "...Executors JVM GC Time = 30.7 sec\n",
      "...Average Active Tasks = 16.1\n",
      "\n",
      "Run 0 - query q14b - attempt 0 - starting...\n"
     ]
    },
    {
     "name": "stderr",
     "output_type": "stream",
     "text": [
      "                                                                                \r"
     ]
    },
    {
     "name": "stdout",
     "output_type": "stream",
     "text": [
      "Job finished\n",
      "...Start Time = 2024-10-23 14:47:53\n",
      "...Elapsed Time = 5.27 sec\n",
      "...Executors Run Time = 91.68 sec\n",
      "...Executors CPU Time = 55.95 sec\n",
      "...Executors JVM GC Time = 24.74 sec\n",
      "...Average Active Tasks = 17.4\n",
      "\n",
      "Run 0 - query q23a - attempt 0 - starting...\n"
     ]
    },
    {
     "name": "stderr",
     "output_type": "stream",
     "text": [
      "                                                                                \r"
     ]
    },
    {
     "name": "stdout",
     "output_type": "stream",
     "text": [
      "Job finished\n",
      "...Start Time = 2024-10-23 14:48:00\n",
      "...Elapsed Time = 8.73 sec\n",
      "...Executors Run Time = 199.52 sec\n",
      "...Executors CPU Time = 138.3 sec\n",
      "...Executors JVM GC Time = 42.51 sec\n",
      "...Average Active Tasks = 22.9\n",
      "\n",
      "Run 0 - query q23b - attempt 0 - starting...\n"
     ]
    },
    {
     "name": "stderr",
     "output_type": "stream",
     "text": [
      "[Stage 218:>                                                      (0 + 64) / 66]\r"
     ]
    },
    {
     "name": "stdout",
     "output_type": "stream",
     "text": [
      "Job finished\n",
      "...Start Time = 2024-10-23 14:48:10\n",
      "...Elapsed Time = 8.83 sec\n",
      "...Executors Run Time = 224.27 sec\n",
      "...Executors CPU Time = 145.62 sec\n",
      "...Executors JVM GC Time = 57.8 sec\n",
      "...Average Active Tasks = 25.4\n",
      "CPU times: user 85.1 ms, sys: 25.7 ms, total: 111 ms\n",
      "Wall time: 40.3 s\n"
     ]
    },
    {
     "name": "stderr",
     "output_type": "stream",
     "text": [
      "                                                                                \r"
     ]
    },
    {
     "data": {
      "text/html": [
       "<div>\n",
       "<style scoped>\n",
       "    .dataframe tbody tr th:only-of-type {\n",
       "        vertical-align: middle;\n",
       "    }\n",
       "\n",
       "    .dataframe tbody tr th {\n",
       "        vertical-align: top;\n",
       "    }\n",
       "\n",
       "    .dataframe thead th {\n",
       "        text-align: right;\n",
       "    }\n",
       "</style>\n",
       "<table border=\"1\" class=\"dataframe\">\n",
       "  <thead>\n",
       "    <tr style=\"text-align: right;\">\n",
       "      <th></th>\n",
       "      <th>query</th>\n",
       "      <th>numStages</th>\n",
       "      <th>numTasks</th>\n",
       "      <th>elapsedTime</th>\n",
       "      <th>stageDuration</th>\n",
       "      <th>executorRunTime</th>\n",
       "      <th>executorCpuTime</th>\n",
       "      <th>executorDeserializeTime</th>\n",
       "      <th>executorDeserializeCpuTime</th>\n",
       "      <th>resultSerializationTime</th>\n",
       "      <th>...</th>\n",
       "      <th>shuffleLocalBlocksFetched</th>\n",
       "      <th>shuffleRemoteBlocksFetched</th>\n",
       "      <th>shuffleTotalBytesRead</th>\n",
       "      <th>shuffleLocalBytesRead</th>\n",
       "      <th>shuffleRemoteBytesRead</th>\n",
       "      <th>shuffleRemoteBytesReadToDisk</th>\n",
       "      <th>shuffleBytesWritten</th>\n",
       "      <th>shuffleRecordsWritten</th>\n",
       "      <th>avg_active_tasks</th>\n",
       "      <th>elapsed_time_seconds</th>\n",
       "    </tr>\n",
       "  </thead>\n",
       "  <tbody>\n",
       "    <tr>\n",
       "      <th>0</th>\n",
       "      <td>q14a</td>\n",
       "      <td>30</td>\n",
       "      <td>838</td>\n",
       "      <td>9308</td>\n",
       "      <td>18042</td>\n",
       "      <td>149861</td>\n",
       "      <td>85308</td>\n",
       "      <td>7838</td>\n",
       "      <td>2915</td>\n",
       "      <td>271</td>\n",
       "      <td>...</td>\n",
       "      <td>551</td>\n",
       "      <td>0</td>\n",
       "      <td>878437913</td>\n",
       "      <td>878437913</td>\n",
       "      <td>0</td>\n",
       "      <td>0</td>\n",
       "      <td>875325021</td>\n",
       "      <td>62516924</td>\n",
       "      <td>16</td>\n",
       "      <td>9</td>\n",
       "    </tr>\n",
       "    <tr>\n",
       "      <th>1</th>\n",
       "      <td>q14b</td>\n",
       "      <td>24</td>\n",
       "      <td>636</td>\n",
       "      <td>5272</td>\n",
       "      <td>8360</td>\n",
       "      <td>91678</td>\n",
       "      <td>55951</td>\n",
       "      <td>2927</td>\n",
       "      <td>1578</td>\n",
       "      <td>218</td>\n",
       "      <td>...</td>\n",
       "      <td>513</td>\n",
       "      <td>0</td>\n",
       "      <td>1013592969</td>\n",
       "      <td>1013592969</td>\n",
       "      <td>0</td>\n",
       "      <td>0</td>\n",
       "      <td>529675847</td>\n",
       "      <td>40865273</td>\n",
       "      <td>17</td>\n",
       "      <td>5</td>\n",
       "    </tr>\n",
       "    <tr>\n",
       "      <th>2</th>\n",
       "      <td>q23a</td>\n",
       "      <td>18</td>\n",
       "      <td>621</td>\n",
       "      <td>8730</td>\n",
       "      <td>15069</td>\n",
       "      <td>199518</td>\n",
       "      <td>138301</td>\n",
       "      <td>2173</td>\n",
       "      <td>1338</td>\n",
       "      <td>107</td>\n",
       "      <td>...</td>\n",
       "      <td>2269</td>\n",
       "      <td>0</td>\n",
       "      <td>1115089630</td>\n",
       "      <td>1115089630</td>\n",
       "      <td>0</td>\n",
       "      <td>0</td>\n",
       "      <td>1085198863</td>\n",
       "      <td>41990073</td>\n",
       "      <td>22</td>\n",
       "      <td>8</td>\n",
       "    </tr>\n",
       "    <tr>\n",
       "      <th>3</th>\n",
       "      <td>q23b</td>\n",
       "      <td>21</td>\n",
       "      <td>690</td>\n",
       "      <td>8831</td>\n",
       "      <td>17842</td>\n",
       "      <td>224270</td>\n",
       "      <td>145622</td>\n",
       "      <td>3162</td>\n",
       "      <td>1751</td>\n",
       "      <td>120</td>\n",
       "      <td>...</td>\n",
       "      <td>4779</td>\n",
       "      <td>0</td>\n",
       "      <td>1200330085</td>\n",
       "      <td>1200330085</td>\n",
       "      <td>0</td>\n",
       "      <td>0</td>\n",
       "      <td>1097570340</td>\n",
       "      <td>42452502</td>\n",
       "      <td>25</td>\n",
       "      <td>8</td>\n",
       "    </tr>\n",
       "  </tbody>\n",
       "</table>\n",
       "<p>4 rows × 33 columns</p>\n",
       "</div>"
      ],
      "text/plain": [
       "  query  numStages  numTasks  elapsedTime  stageDuration  executorRunTime  \\\n",
       "0  q14a         30       838         9308          18042           149861   \n",
       "1  q14b         24       636         5272           8360            91678   \n",
       "2  q23a         18       621         8730          15069           199518   \n",
       "3  q23b         21       690         8831          17842           224270   \n",
       "\n",
       "   executorCpuTime  executorDeserializeTime  executorDeserializeCpuTime  \\\n",
       "0            85308                     7838                        2915   \n",
       "1            55951                     2927                        1578   \n",
       "2           138301                     2173                        1338   \n",
       "3           145622                     3162                        1751   \n",
       "\n",
       "   resultSerializationTime  ...  shuffleLocalBlocksFetched  \\\n",
       "0                      271  ...                        551   \n",
       "1                      218  ...                        513   \n",
       "2                      107  ...                       2269   \n",
       "3                      120  ...                       4779   \n",
       "\n",
       "   shuffleRemoteBlocksFetched  shuffleTotalBytesRead  shuffleLocalBytesRead  \\\n",
       "0                           0              878437913              878437913   \n",
       "1                           0             1013592969             1013592969   \n",
       "2                           0             1115089630             1115089630   \n",
       "3                           0             1200330085             1200330085   \n",
       "\n",
       "   shuffleRemoteBytesRead  shuffleRemoteBytesReadToDisk  shuffleBytesWritten  \\\n",
       "0                       0                             0            875325021   \n",
       "1                       0                             0            529675847   \n",
       "2                       0                             0           1085198863   \n",
       "3                       0                             0           1097570340   \n",
       "\n",
       "   shuffleRecordsWritten  avg_active_tasks  elapsed_time_seconds  \n",
       "0               62516924                16                     9  \n",
       "1               40865273                17                     5  \n",
       "2               41990073                22                     8  \n",
       "3               42452502                25                     8  \n",
       "\n",
       "[4 rows x 33 columns]"
      ]
     },
     "execution_count": 12,
     "metadata": {},
     "output_type": "execute_result"
    }
   ],
   "source": [
    "tpcds.spark.conf.set('spark.rapids.sql.enabled', False)\n",
    "%time tpcds.run_TPCDS()\n",
    "cpu_grouped_results = tpcds.grouped_results_pdf.copy()\n",
    "cpu_grouped_results"
   ]
  },
  {
   "cell_type": "markdown",
   "metadata": {
    "id": "bs6X_54UhuqJ"
   },
   "source": [
    "## Measure Apache Spark GPU"
   ]
  },
  {
   "cell_type": "code",
   "execution_count": 13,
   "metadata": {
    "colab": {
     "base_uri": "https://localhost:8080/",
     "height": 0
    },
    "executionInfo": {
     "elapsed": 45658,
     "status": "ok",
     "timestamp": 1729290819190,
     "user": {
      "displayName": "Gera Shegalov",
      "userId": "07399839501144323282"
     },
     "user_tz": 420
    },
    "id": "8vXDasUom70g",
    "outputId": "adccdd7f-99f0-4c82-d600-056b59f53933"
   },
   "outputs": [
    {
     "name": "stdout",
     "output_type": "stream",
     "text": [
      "\n",
      "Run 0 - query q14a - attempt 0 - starting...\n"
     ]
    },
    {
     "name": "stderr",
     "output_type": "stream",
     "text": [
      "24/10/23 14:48:22 WARN GpuOverrides: \n",
      "! <OverwriteByExpressionExec> cannot run on GPU because GPU does not currently support the operator class org.apache.spark.sql.execution.datasources.v2.OverwriteByExpressionExec\n",
      "\n",
      "24/10/23 14:48:23 WARN MultiFileReaderThreadPool: Configuring the file reader thread pool with a max of 64 threads instead of spark.rapids.sql.multiThreadedRead.numThreads = 20\n",
      "24/10/23 14:48:23 WARN MultiFileReaderThreadPool: Configuring the file reader thread pool with a max of 64 threads instead of spark.rapids.sql.multiThreadedRead.numThreads = 20\n",
      "24/10/23 14:48:23 WARN MultiFileReaderThreadPool: Configuring the file reader thread pool with a max of 64 threads instead of spark.rapids.sql.multiThreadedRead.numThreads = 20\n",
      "24/10/23 14:48:23 WARN MultiFileReaderThreadPool: Configuring the file reader thread pool with a max of 64 threads instead of spark.rapids.sql.multiThreadedRead.numThreads = 20\n",
      "24/10/23 14:48:23 WARN MultiFileReaderThreadPool: Configuring the file reader thread pool with a max of 64 threads instead of spark.rapids.sql.multiThreadedRead.numThreads = 20\n",
      "24/10/23 14:48:23 WARN MultiFileReaderThreadPool: Configuring the file reader thread pool with a max of 64 threads instead of spark.rapids.sql.multiThreadedRead.numThreads = 20\n",
      "24/10/23 14:48:23 WARN MultiFileReaderThreadPool: Configuring the file reader thread pool with a max of 64 threads instead of spark.rapids.sql.multiThreadedRead.numThreads = 20\n",
      "24/10/23 14:48:23 WARN MultiFileReaderThreadPool: Configuring the file reader thread pool with a max of 64 threads instead of spark.rapids.sql.multiThreadedRead.numThreads = 20\n",
      "24/10/23 14:48:23 WARN MultiFileReaderThreadPool: Configuring the file reader thread pool with a max of 64 threads instead of spark.rapids.sql.multiThreadedRead.numThreads = 20\n",
      "24/10/23 14:48:23 WARN MultiFileReaderThreadPool: Configuring the file reader thread pool with a max of 64 threads instead of spark.rapids.sql.multiThreadedRead.numThreads = 20\n",
      "24/10/23 14:48:23 WARN MultiFileReaderThreadPool: Configuring the file reader thread pool with a max of 64 threads instead of spark.rapids.sql.multiThreadedRead.numThreads = 20\n",
      "24/10/23 14:48:23 WARN MultiFileReaderThreadPool: Configuring the file reader thread pool with a max of 64 threads instead of spark.rapids.sql.multiThreadedRead.numThreads = 20\n",
      "24/10/23 14:48:23 WARN MultiFileReaderThreadPool: Configuring the file reader thread pool with a max of 64 threads instead of spark.rapids.sql.multiThreadedRead.numThreads = 20\n",
      "24/10/23 14:48:23 WARN MultiFileReaderThreadPool: Configuring the file reader thread pool with a max of 64 threads instead of spark.rapids.sql.multiThreadedRead.numThreads = 20\n",
      "24/10/23 14:48:23 WARN MultiFileReaderThreadPool: Configuring the file reader thread pool with a max of 64 threads instead of spark.rapids.sql.multiThreadedRead.numThreads = 20\n",
      "24/10/23 14:48:23 WARN MultiFileReaderThreadPool: Configuring the file reader thread pool with a max of 64 threads instead of spark.rapids.sql.multiThreadedRead.numThreads = 20\n",
      "24/10/23 14:48:23 WARN MultiFileReaderThreadPool: Configuring the file reader thread pool with a max of 64 threads instead of spark.rapids.sql.multiThreadedRead.numThreads = 20\n",
      "24/10/23 14:48:23 WARN MultiFileReaderThreadPool: Configuring the file reader thread pool with a max of 64 threads instead of spark.rapids.sql.multiThreadedRead.numThreads = 20\n",
      "24/10/23 14:48:23 WARN MultiFileReaderThreadPool: Configuring the file reader thread pool with a max of 64 threads instead of spark.rapids.sql.multiThreadedRead.numThreads = 20\n",
      "24/10/23 14:48:23 WARN MultiFileReaderThreadPool: Configuring the file reader thread pool with a max of 64 threads instead of spark.rapids.sql.multiThreadedRead.numThreads = 20\n",
      "24/10/23 14:48:23 WARN MultiFileReaderThreadPool: Configuring the file reader thread pool with a max of 64 threads instead of spark.rapids.sql.multiThreadedRead.numThreads = 20\n",
      "24/10/23 14:48:23 WARN MultiFileReaderThreadPool: Configuring the file reader thread pool with a max of 64 threads instead of spark.rapids.sql.multiThreadedRead.numThreads = 20\n",
      "24/10/23 14:48:23 WARN MultiFileReaderThreadPool: Configuring the file reader thread pool with a max of 64 threads instead of spark.rapids.sql.multiThreadedRead.numThreads = 20\n"
     ]
    },
    {
     "name": "stdout",
     "output_type": "stream",
     "text": [
      "Job finished\n",
      "...Start Time = 2024-10-23 14:48:20\n",
      "...Elapsed Time = 6.05 sec\n",
      "...Executors Run Time = 123.47 sec\n",
      "...Executors CPU Time = 17.23 sec\n",
      "...Executors JVM GC Time = 7.43 sec\n",
      "...Average Active Tasks = 20.4\n",
      "\n",
      "Run 0 - query q14b - attempt 0 - starting...\n"
     ]
    },
    {
     "name": "stderr",
     "output_type": "stream",
     "text": [
      "24/10/23 14:48:30 WARN GpuOverrides: \n",
      "! <OverwriteByExpressionExec> cannot run on GPU because GPU does not currently support the operator class org.apache.spark.sql.execution.datasources.v2.OverwriteByExpressionExec\n",
      "\n"
     ]
    },
    {
     "name": "stdout",
     "output_type": "stream",
     "text": [
      "Job finished\n",
      "...Start Time = 2024-10-23 14:48:30\n",
      "...Elapsed Time = 2.85 sec\n",
      "...Executors Run Time = 86.64 sec\n",
      "...Executors CPU Time = 12.98 sec\n",
      "...Executors JVM GC Time = 7.06 sec\n",
      "...Average Active Tasks = 30.4\n",
      "\n",
      "Run 0 - query q23a - attempt 0 - starting...\n"
     ]
    },
    {
     "name": "stderr",
     "output_type": "stream",
     "text": [
      "24/10/23 14:48:34 WARN GpuOverrides: \n",
      "! <OverwriteByExpressionExec> cannot run on GPU because GPU does not currently support the operator class org.apache.spark.sql.execution.datasources.v2.OverwriteByExpressionExec\n",
      "\n",
      "                                                                                \r"
     ]
    },
    {
     "name": "stdout",
     "output_type": "stream",
     "text": [
      "Job finished\n",
      "...Start Time = 2024-10-23 14:48:34\n",
      "...Elapsed Time = 3.22 sec\n",
      "...Executors Run Time = 98.1 sec\n",
      "...Executors CPU Time = 22.08 sec\n",
      "...Executors JVM GC Time = 4.58 sec\n",
      "...Average Active Tasks = 30.5\n",
      "\n",
      "Run 0 - query q23b - attempt 0 - starting...\n"
     ]
    },
    {
     "name": "stderr",
     "output_type": "stream",
     "text": [
      "24/10/23 14:48:39 WARN GpuOverrides: \n",
      "! <OverwriteByExpressionExec> cannot run on GPU because GPU does not currently support the operator class org.apache.spark.sql.execution.datasources.v2.OverwriteByExpressionExec\n",
      "\n",
      "[Stage 420:===============================================>       (43 + 7) / 50]\r"
     ]
    },
    {
     "name": "stdout",
     "output_type": "stream",
     "text": [
      "Job finished\n",
      "...Start Time = 2024-10-23 14:48:38\n",
      "...Elapsed Time = 4.79 sec\n",
      "...Executors Run Time = 183.46 sec\n",
      "...Executors CPU Time = 23.68 sec\n",
      "...Executors JVM GC Time = 6.21 sec\n",
      "...Average Active Tasks = 38.3\n",
      "CPU times: user 45.8 ms, sys: 22.7 ms, total: 68.5 ms\n",
      "Wall time: 24.3 s\n"
     ]
    },
    {
     "name": "stderr",
     "output_type": "stream",
     "text": [
      "                                                                                \r"
     ]
    },
    {
     "data": {
      "text/html": [
       "<div>\n",
       "<style scoped>\n",
       "    .dataframe tbody tr th:only-of-type {\n",
       "        vertical-align: middle;\n",
       "    }\n",
       "\n",
       "    .dataframe tbody tr th {\n",
       "        vertical-align: top;\n",
       "    }\n",
       "\n",
       "    .dataframe thead th {\n",
       "        text-align: right;\n",
       "    }\n",
       "</style>\n",
       "<table border=\"1\" class=\"dataframe\">\n",
       "  <thead>\n",
       "    <tr style=\"text-align: right;\">\n",
       "      <th></th>\n",
       "      <th>query</th>\n",
       "      <th>numStages</th>\n",
       "      <th>numTasks</th>\n",
       "      <th>elapsedTime</th>\n",
       "      <th>stageDuration</th>\n",
       "      <th>executorRunTime</th>\n",
       "      <th>executorCpuTime</th>\n",
       "      <th>executorDeserializeTime</th>\n",
       "      <th>executorDeserializeCpuTime</th>\n",
       "      <th>resultSerializationTime</th>\n",
       "      <th>...</th>\n",
       "      <th>shuffleLocalBlocksFetched</th>\n",
       "      <th>shuffleRemoteBlocksFetched</th>\n",
       "      <th>shuffleTotalBytesRead</th>\n",
       "      <th>shuffleLocalBytesRead</th>\n",
       "      <th>shuffleRemoteBytesRead</th>\n",
       "      <th>shuffleRemoteBytesReadToDisk</th>\n",
       "      <th>shuffleBytesWritten</th>\n",
       "      <th>shuffleRecordsWritten</th>\n",
       "      <th>avg_active_tasks</th>\n",
       "      <th>elapsed_time_seconds</th>\n",
       "    </tr>\n",
       "  </thead>\n",
       "  <tbody>\n",
       "    <tr>\n",
       "      <th>0</th>\n",
       "      <td>q14a</td>\n",
       "      <td>30</td>\n",
       "      <td>862</td>\n",
       "      <td>6048</td>\n",
       "      <td>10688</td>\n",
       "      <td>123472</td>\n",
       "      <td>17226</td>\n",
       "      <td>7391</td>\n",
       "      <td>3881</td>\n",
       "      <td>36</td>\n",
       "      <td>...</td>\n",
       "      <td>718</td>\n",
       "      <td>0</td>\n",
       "      <td>696421878</td>\n",
       "      <td>696421878</td>\n",
       "      <td>0</td>\n",
       "      <td>0</td>\n",
       "      <td>693865654</td>\n",
       "      <td>18794</td>\n",
       "      <td>20</td>\n",
       "      <td>6</td>\n",
       "    </tr>\n",
       "    <tr>\n",
       "      <th>1</th>\n",
       "      <td>q14b</td>\n",
       "      <td>24</td>\n",
       "      <td>661</td>\n",
       "      <td>2848</td>\n",
       "      <td>4761</td>\n",
       "      <td>86635</td>\n",
       "      <td>12985</td>\n",
       "      <td>3519</td>\n",
       "      <td>2711</td>\n",
       "      <td>86</td>\n",
       "      <td>...</td>\n",
       "      <td>695</td>\n",
       "      <td>0</td>\n",
       "      <td>767451618</td>\n",
       "      <td>767451618</td>\n",
       "      <td>0</td>\n",
       "      <td>0</td>\n",
       "      <td>421600742</td>\n",
       "      <td>15346</td>\n",
       "      <td>30</td>\n",
       "      <td>2</td>\n",
       "    </tr>\n",
       "    <tr>\n",
       "      <th>2</th>\n",
       "      <td>q23a</td>\n",
       "      <td>18</td>\n",
       "      <td>589</td>\n",
       "      <td>3221</td>\n",
       "      <td>5354</td>\n",
       "      <td>98104</td>\n",
       "      <td>22078</td>\n",
       "      <td>2304</td>\n",
       "      <td>2092</td>\n",
       "      <td>79</td>\n",
       "      <td>...</td>\n",
       "      <td>1727</td>\n",
       "      <td>0</td>\n",
       "      <td>897013287</td>\n",
       "      <td>897013287</td>\n",
       "      <td>0</td>\n",
       "      <td>0</td>\n",
       "      <td>878908228</td>\n",
       "      <td>15223</td>\n",
       "      <td>30</td>\n",
       "      <td>3</td>\n",
       "    </tr>\n",
       "    <tr>\n",
       "      <th>3</th>\n",
       "      <td>q23b</td>\n",
       "      <td>21</td>\n",
       "      <td>651</td>\n",
       "      <td>4794</td>\n",
       "      <td>8100</td>\n",
       "      <td>183457</td>\n",
       "      <td>23683</td>\n",
       "      <td>4522</td>\n",
       "      <td>2527</td>\n",
       "      <td>35</td>\n",
       "      <td>...</td>\n",
       "      <td>3774</td>\n",
       "      <td>0</td>\n",
       "      <td>952869300</td>\n",
       "      <td>952869300</td>\n",
       "      <td>0</td>\n",
       "      <td>0</td>\n",
       "      <td>888393294</td>\n",
       "      <td>16352</td>\n",
       "      <td>38</td>\n",
       "      <td>4</td>\n",
       "    </tr>\n",
       "  </tbody>\n",
       "</table>\n",
       "<p>4 rows × 33 columns</p>\n",
       "</div>"
      ],
      "text/plain": [
       "  query  numStages  numTasks  elapsedTime  stageDuration  executorRunTime  \\\n",
       "0  q14a         30       862         6048          10688           123472   \n",
       "1  q14b         24       661         2848           4761            86635   \n",
       "2  q23a         18       589         3221           5354            98104   \n",
       "3  q23b         21       651         4794           8100           183457   \n",
       "\n",
       "   executorCpuTime  executorDeserializeTime  executorDeserializeCpuTime  \\\n",
       "0            17226                     7391                        3881   \n",
       "1            12985                     3519                        2711   \n",
       "2            22078                     2304                        2092   \n",
       "3            23683                     4522                        2527   \n",
       "\n",
       "   resultSerializationTime  ...  shuffleLocalBlocksFetched  \\\n",
       "0                       36  ...                        718   \n",
       "1                       86  ...                        695   \n",
       "2                       79  ...                       1727   \n",
       "3                       35  ...                       3774   \n",
       "\n",
       "   shuffleRemoteBlocksFetched  shuffleTotalBytesRead  shuffleLocalBytesRead  \\\n",
       "0                           0              696421878              696421878   \n",
       "1                           0              767451618              767451618   \n",
       "2                           0              897013287              897013287   \n",
       "3                           0              952869300              952869300   \n",
       "\n",
       "   shuffleRemoteBytesRead  shuffleRemoteBytesReadToDisk  shuffleBytesWritten  \\\n",
       "0                       0                             0            693865654   \n",
       "1                       0                             0            421600742   \n",
       "2                       0                             0            878908228   \n",
       "3                       0                             0            888393294   \n",
       "\n",
       "   shuffleRecordsWritten  avg_active_tasks  elapsed_time_seconds  \n",
       "0                  18794                20                     6  \n",
       "1                  15346                30                     2  \n",
       "2                  15223                30                     3  \n",
       "3                  16352                38                     4  \n",
       "\n",
       "[4 rows x 33 columns]"
      ]
     },
     "execution_count": 13,
     "metadata": {},
     "output_type": "execute_result"
    }
   ],
   "source": [
    "tpcds.spark.conf.set('spark.rapids.sql.enabled', True)\n",
    "%time tpcds.run_TPCDS()\n",
    "gpu_grouped_results = tpcds.grouped_results_pdf.copy()\n",
    "gpu_grouped_results"
   ]
  },
  {
   "cell_type": "markdown",
   "metadata": {
    "id": "PcZ12b13h3cq"
   },
   "source": [
    "## Show Speedup Factors achieved by GPU\n"
   ]
  },
  {
   "cell_type": "code",
   "execution_count": 14,
   "metadata": {
    "executionInfo": {
     "elapsed": 5,
     "status": "ok",
     "timestamp": 1729289293047,
     "user": {
      "displayName": "Gera Shegalov",
      "userId": "07399839501144323282"
     },
     "user_tz": 420
    },
    "id": "cJxS9Nqi3AQj"
   },
   "outputs": [],
   "source": [
    "res = pd.merge(cpu_grouped_results, gpu_grouped_results, on='query', how='inner', suffixes=['_cpu', '_gpu'])\n",
    "res['speedup'] = res['elapsedTime_cpu'] / res['elapsedTime_gpu']\n",
    "res = res.sort_values(by='elapsedTime_cpu', ascending=False)"
   ]
  },
  {
   "cell_type": "code",
   "execution_count": 15,
   "metadata": {},
   "outputs": [
    {
     "name": "stdout",
     "output_type": "stream",
     "text": [
      "CPU and GPU run took: demo_dur=112.37040138244629 seconds\n"
     ]
    }
   ],
   "source": [
    "demo_dur = time.time() - demo_start\n",
    "print(f\"CPU and GPU run took: {demo_dur=} seconds\")"
   ]
  },
  {
   "cell_type": "code",
   "execution_count": 16,
   "metadata": {
    "colab": {
     "base_uri": "https://localhost:8080/",
     "height": 510
    },
    "executionInfo": {
     "elapsed": 1041,
     "status": "ok",
     "timestamp": 1729289294084,
     "user": {
      "displayName": "Gera Shegalov",
      "userId": "07399839501144323282"
     },
     "user_tz": 420
    },
    "id": "wn7u33fZlUJL",
    "outputId": "8d1ef757-e5c2-4761-fc58-f65f833bdffc"
   },
   "outputs": [
    {
     "data": {
      "text/plain": [
       "<Axes: title={'center': 'TPC-DS query elapsedTime on CPU vs GPU (lower is better)'}, xlabel='query'>"
      ]
     },
     "execution_count": 16,
     "metadata": {},
     "output_type": "execute_result"
    },
    {
     "data": {
      "image/png": "[encoded data removed]",
      "text/plain": [
       "<Figure size 640x480 with 1 Axes>"
      ]
     },
     "metadata": {},
     "output_type": "display_data"
    }
   ],
   "source": [
    "res.plot(title='TPC-DS query elapsedTime on CPU vs GPU (lower is better)', kind='bar', x='query', y=['elapsedTime_cpu', 'elapsedTime_gpu'])"
   ]
  },
  {
   "cell_type": "code",
   "execution_count": 17,
   "metadata": {
    "colab": {
     "base_uri": "https://localhost:8080/",
     "height": 510
    },
    "executionInfo": {
     "elapsed": 381,
     "status": "ok",
     "timestamp": 1729289294462,
     "user": {
      "displayName": "Gera Shegalov",
      "userId": "07399839501144323282"
     },
     "user_tz": 420
    },
    "id": "hW-LZponwGQE",
    "outputId": "ed456120-ca7f-4c91-a2bf-de87c2401f0c"
   },
   "outputs": [
    {
     "data": {
      "text/plain": [
       "<Axes: title={'center': 'Speedup factors of TPC-DS queries on GPU'}, xlabel='query'>"
      ]
     },
     "execution_count": 17,
     "metadata": {},
     "output_type": "execute_result"
    },
    {
     "data": {
      "image/png": "[encoded data removed]",
      "text/plain": [
       "<Figure size 640x480 with 1 Axes>"
      ]
     },
     "metadata": {},
     "output_type": "display_data"
    }
   ],
   "source": [
    "res.plot(title='Speedup factors of TPC-DS queries on GPU', kind='bar', x='query', y='speedup' )"
   ]
  },
  {
   "cell_type": "markdown",
   "metadata": {
    "id": "Pk2TR4yimNqP"
   },
   "source": [
    "# Run Queries interactively"
   ]
  },
  {
   "cell_type": "code",
   "execution_count": 23,
   "metadata": {
    "executionInfo": {
     "elapsed": 4,
     "status": "ok",
     "timestamp": 1729289294462,
     "user": {
      "displayName": "Gera Shegalov",
      "userId": "07399839501144323282"
     },
     "user_tz": 420
    },
    "id": "RpIl6NyNzqYU"
   },
   "outputs": [],
   "source": [
    "query = 'q88'\n",
    "with open(f\"{tpcds_pyspark_files}/Queries/{query}.sql\") as f:\n",
    "  q = f.read()"
   ]
  },
  {
   "cell_type": "code",
   "execution_count": 24,
   "metadata": {
    "colab": {
     "base_uri": "https://localhost:8080/",
     "height": 0
    },
    "executionInfo": {
     "elapsed": 3,
     "status": "ok",
     "timestamp": 1729289294462,
     "user": {
      "displayName": "Gera Shegalov",
      "userId": "07399839501144323282"
     },
     "user_tz": 420
    },
    "id": "cuCVL1Ed1lQd",
    "outputId": "d256f4b7-e0e2-450c-ba88-aff0d7571510"
   },
   "outputs": [
    {
     "name": "stdout",
     "output_type": "stream",
     "text": [
      "SELECT *\n",
      "FROM\n",
      "  (SELECT count(*) h8_30_to_9\n",
      "  FROM store_sales, household_demographics, time_dim, store\n",
      "  WHERE ss_sold_time_sk = time_dim.t_time_sk\n",
      "    AND ss_hdemo_sk = household_demographics.hd_demo_sk\n",
      "    AND ss_store_sk = s_store_sk\n",
      "    AND time_dim.t_hour = 8\n",
      "    AND time_dim.t_minute >= 30\n",
      "    AND (\n",
      "    (household_demographics.hd_dep_count = 4 AND household_demographics.hd_vehicle_count <= 4 + 2)\n",
      "      OR\n",
      "      (household_demographics.hd_dep_count = 2 AND household_demographics.hd_vehicle_count <= 2 + 2)\n",
      "      OR\n",
      "      (household_demographics.hd_dep_count = 0 AND\n",
      "        household_demographics.hd_vehicle_count <= 0 + 2))\n",
      "    AND store.s_store_name = 'ese') s1,\n",
      "  (SELECT count(*) h9_to_9_30\n",
      "  FROM store_sales, household_demographics, time_dim, store\n",
      "  WHERE ss_sold_time_sk = time_dim.t_time_sk\n",
      "    AND ss_hdemo_sk = household_demographics.hd_demo_sk\n",
      "    AND ss_store_sk = s_store_sk\n",
      "    AND time_dim.t_hour = 9\n",
      "    AND time_dim.t_minute < 30\n",
      "    AND (\n",
      "    (household_demographics.hd_dep_count = 4 AND household_demographics.hd_vehicle_count <= 4 + 2)\n",
      "      OR\n",
      "      (household_demographics.hd_dep_count = 2 AND household_demographics.hd_vehicle_count <= 2 + 2)\n",
      "      OR\n",
      "      (household_demographics.hd_dep_count = 0 AND\n",
      "        household_demographics.hd_vehicle_count <= 0 + 2))\n",
      "    AND store.s_store_name = 'ese') s2,\n",
      "  (SELECT count(*) h9_30_to_10\n",
      "  FROM store_sales, household_demographics, time_dim, store\n",
      "  WHERE ss_sold_time_sk = time_dim.t_time_sk\n",
      "    AND ss_hdemo_sk = household_demographics.hd_demo_sk\n",
      "    AND ss_store_sk = s_store_sk\n",
      "    AND time_dim.t_hour = 9\n",
      "    AND time_dim.t_minute >= 30\n",
      "    AND (\n",
      "    (household_demographics.hd_dep_count = 4 AND household_demographics.hd_vehicle_count <= 4 + 2)\n",
      "      OR\n",
      "      (household_demographics.hd_dep_count = 2 AND household_demographics.hd_vehicle_count <= 2 + 2)\n",
      "      OR\n",
      "      (household_demographics.hd_dep_count = 0 AND\n",
      "        household_demographics.hd_vehicle_count <= 0 + 2))\n",
      "    AND store.s_store_name = 'ese') s3,\n",
      "  (SELECT count(*) h10_to_10_30\n",
      "  FROM store_sales, household_demographics, time_dim, store\n",
      "  WHERE ss_sold_time_sk = time_dim.t_time_sk\n",
      "    AND ss_hdemo_sk = household_demographics.hd_demo_sk\n",
      "    AND ss_store_sk = s_store_sk\n",
      "    AND time_dim.t_hour = 10\n",
      "    AND time_dim.t_minute < 30\n",
      "    AND (\n",
      "    (household_demographics.hd_dep_count = 4 AND household_demographics.hd_vehicle_count <= 4 + 2)\n",
      "      OR\n",
      "      (household_demographics.hd_dep_count = 2 AND household_demographics.hd_vehicle_count <= 2 + 2)\n",
      "      OR\n",
      "      (household_demographics.hd_dep_count = 0 AND\n",
      "        household_demographics.hd_vehicle_count <= 0 + 2))\n",
      "    AND store.s_store_name = 'ese') s4,\n",
      "  (SELECT count(*) h10_30_to_11\n",
      "  FROM store_sales, household_demographics, time_dim, store\n",
      "  WHERE ss_sold_time_sk = time_dim.t_time_sk\n",
      "    AND ss_hdemo_sk = household_demographics.hd_demo_sk\n",
      "    AND ss_store_sk = s_store_sk\n",
      "    AND time_dim.t_hour = 10\n",
      "    AND time_dim.t_minute >= 30\n",
      "    AND (\n",
      "    (household_demographics.hd_dep_count = 4 AND household_demographics.hd_vehicle_count <= 4 + 2)\n",
      "      OR\n",
      "      (household_demographics.hd_dep_count = 2 AND household_demographics.hd_vehicle_count <= 2 + 2)\n",
      "      OR\n",
      "      (household_demographics.hd_dep_count = 0 AND\n",
      "        household_demographics.hd_vehicle_count <= 0 + 2))\n",
      "    AND store.s_store_name = 'ese') s5,\n",
      "  (SELECT count(*) h11_to_11_30\n",
      "  FROM store_sales, household_demographics, time_dim, store\n",
      "  WHERE ss_sold_time_sk = time_dim.t_time_sk\n",
      "    AND ss_hdemo_sk = household_demographics.hd_demo_sk\n",
      "    AND ss_store_sk = s_store_sk\n",
      "    AND time_dim.t_hour = 11\n",
      "    AND time_dim.t_minute < 30\n",
      "    AND (\n",
      "    (household_demographics.hd_dep_count = 4 AND household_demographics.hd_vehicle_count <= 4 + 2)\n",
      "      OR\n",
      "      (household_demographics.hd_dep_count = 2 AND household_demographics.hd_vehicle_count <= 2 + 2)\n",
      "      OR\n",
      "      (household_demographics.hd_dep_count = 0 AND\n",
      "        household_demographics.hd_vehicle_count <= 0 + 2))\n",
      "    AND store.s_store_name = 'ese') s6,\n",
      "  (SELECT count(*) h11_30_to_12\n",
      "  FROM store_sales, household_demographics, time_dim, store\n",
      "  WHERE ss_sold_time_sk = time_dim.t_time_sk\n",
      "    AND ss_hdemo_sk = household_demographics.hd_demo_sk\n",
      "    AND ss_store_sk = s_store_sk\n",
      "    AND time_dim.t_hour = 11\n",
      "    AND time_dim.t_minute >= 30\n",
      "    AND (\n",
      "    (household_demographics.hd_dep_count = 4 AND household_demographics.hd_vehicle_count <= 4 + 2)\n",
      "      OR\n",
      "      (household_demographics.hd_dep_count = 2 AND household_demographics.hd_vehicle_count <= 2 + 2)\n",
      "      OR\n",
      "      (household_demographics.hd_dep_count = 0 AND\n",
      "        household_demographics.hd_vehicle_count <= 0 + 2))\n",
      "    AND store.s_store_name = 'ese') s7,\n",
      "  (SELECT count(*) h12_to_12_30\n",
      "  FROM store_sales, household_demographics, time_dim, store\n",
      "  WHERE ss_sold_time_sk = time_dim.t_time_sk\n",
      "    AND ss_hdemo_sk = household_demographics.hd_demo_sk\n",
      "    AND ss_store_sk = s_store_sk\n",
      "    AND time_dim.t_hour = 12\n",
      "    AND time_dim.t_minute < 30\n",
      "    AND (\n",
      "    (household_demographics.hd_dep_count = 4 AND household_demographics.hd_vehicle_count <= 4 + 2)\n",
      "      OR\n",
      "      (household_demographics.hd_dep_count = 2 AND household_demographics.hd_vehicle_count <= 2 + 2)\n",
      "      OR\n",
      "      (household_demographics.hd_dep_count = 0 AND\n",
      "        household_demographics.hd_vehicle_count <= 0 + 2))\n",
      "    AND store.s_store_name = 'ese') s8\n",
      "\n"
     ]
    }
   ],
   "source": [
    "print(q)"
   ]
  },
  {
   "cell_type": "code",
   "execution_count": 25,
   "metadata": {
    "colab": {
     "base_uri": "https://localhost:8080/",
     "height": 0
    },
    "editable": true,
    "executionInfo": {
     "elapsed": 1470,
     "status": "ok",
     "timestamp": 1729289295930,
     "user": {
      "displayName": "Gera Shegalov",
      "userId": "07399839501144323282"
     },
     "user_tz": 420
    },
    "id": "n4QUdq17040i",
    "outputId": "7d7c7562-fae6-4426-97a7-ec23b8fe2f0d",
    "slideshow": {
     "slide_type": ""
    },
    "tags": []
   },
   "outputs": [
    {
     "name": "stderr",
     "output_type": "stream",
     "text": [
      "                                                                                \r"
     ]
    },
    {
     "name": "stdout",
     "output_type": "stream",
     "text": [
      "CPU times: user 2.45 ms, sys: 1.97 ms, total: 4.43 ms\n",
      "Wall time: 1.66 s\n"
     ]
    },
    {
     "data": {
      "text/plain": [
       "[Row(h8_30_to_9=18440, h9_to_9_30=39156, h9_30_to_10=38666, h10_to_10_30=58037, h10_30_to_11=58313, h11_to_11_30=34436, h11_30_to_12=33322, h12_to_12_30=39142)]"
      ]
     },
     "execution_count": 25,
     "metadata": {},
     "output_type": "execute_result"
    }
   ],
   "source": [
    "spark.conf.set('spark.rapids.sql.enabled', True)\n",
    "df  = spark.sql(q)\n",
    "%time df.collect()"
   ]
  }
 ],
 "metadata": {
  "accelerator": "GPU",
  "colab": {
   "gpuType": "T4",
   "machine_shape": "hm",
   "provenance": []
  },
  "kernelspec": {
   "display_name": ".venv",
   "language": "python",
   "name": "python3"
  },
  "language_info": {
   "codemirror_mode": {
    "name": "ipython",
    "version": 3
   },
   "file_extension": ".py",
   "mimetype": "text/x-python",
   "name": "python",
   "nbconvert_exporter": "python",
   "pygments_lexer": "ipython3",
   "version": "3.10.12"
  }
 },
 "nbformat": 4,
 "nbformat_minor": 4
}
