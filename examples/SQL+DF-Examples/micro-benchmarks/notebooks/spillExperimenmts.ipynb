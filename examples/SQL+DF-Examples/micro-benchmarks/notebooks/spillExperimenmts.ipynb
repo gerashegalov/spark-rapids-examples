{
 "cells": [
  {
   "cell_type": "markdown",
   "id": "4146aabb-1c55-415e-b60c-23a1dcc1184a",
   "metadata": {
    "tags": []
   },
   "source": [
    "Start jupyter-lab\n",
    "\n",
    "```bash\n",
    "PYTHONPATH=$HOME/gits/NVIDIA/spark-rapids/integration_tests/src/main/python \\\n",
    "SPARK_HOME=$HOME/dist/spark-3.1.1-bin-hadoop3.2 \\\n",
    "TZ=UTC \\\n",
    "jupyter-lab --notebook-dir=$HOME/gits/NVIDIA/spark-rapids-examples\n",
    "```"
   ]
  },
  {
   "cell_type": "code",
   "execution_count": 1,
   "id": "6c452712-c81c-478b-b54f-e48717d06a4a",
   "metadata": {},
   "outputs": [],
   "source": [
    "should_gen = False"
   ]
  },
  {
   "cell_type": "code",
   "execution_count": 2,
   "id": "a5efd361-41ba-4afa-bfec-4568c00bf0d6",
   "metadata": {},
   "outputs": [],
   "source": [
    "gpu_alloc_size = '5000m' if should_gen else '128m'\n",
    "cores_per_exec = 4\n",
    "dfgen_path = '/tmp/dfgen'\n",
    "data_gen_length = 100*1000*1000 # generate one file \n",
    "num_copies = 10 # and replicate it this many times"
   ]
  },
  {
   "cell_type": "code",
   "execution_count": 3,
   "id": "7c9efd4d-b13c-487d-b086-3c7041f21a62",
   "metadata": {
    "tags": []
   },
   "outputs": [],
   "source": [
    "import findspark\n",
    "findspark.init()\n",
    "findspark.add_jars('/home/gshegalov/gits/NVIDIA/spark-rapids/dist/target/rapids-4-spark_2.12-22.10.0-SNAPSHOT-cuda11.jar') "
   ]
  },
  {
   "cell_type": "code",
   "execution_count": 4,
   "id": "15dd6b39-9f91-4855-ab13-25989937df4e",
   "metadata": {},
   "outputs": [
    {
     "name": "stderr",
     "output_type": "stream",
     "text": [
      "22/09/20 19:45:36 WARN Utils: Your hostname, gshegalov-dual-5760 resolves to a loopback address: 127.0.1.1; using 10.0.0.133 instead (on interface wlp0s20f3)\n",
      "22/09/20 19:45:36 WARN Utils: Set SPARK_LOCAL_IP if you need to bind to another address\n",
      "22/09/20 19:45:36 WARN NativeCodeLoader: Unable to load native-hadoop library for your platform... using builtin-java classes where applicable\n",
      "Using Spark's default log4j profile: org/apache/spark/log4j-defaults.properties\n",
      "Setting default log level to \"WARN\".\n",
      "To adjust logging level use sc.setLogLevel(newLevel). For SparkR, use setLogLevel(newLevel).\n",
      "22/09/20 19:45:37 WARN RapidsPluginUtils: RAPIDS Accelerator 22.10.0-SNAPSHOT using cudf 22.10.0-SNAPSHOT.\n",
      "22/09/20 19:45:37 WARN RapidsPluginUtils: RAPIDS Accelerator is enabled, to disable GPU support set `spark.rapids.sql.enabled` to false.\n",
      "22/09/20 19:45:37 WARN RapidsPluginUtils: spark.rapids.sql.explain is set to `ALL`. Set it to 'NONE' to suppress the diagnostics logging about the query placement on the GPU.\n"
     ]
    }
   ],
   "source": [
    "import pyspark\n",
    "conf = pyspark.SparkConf(loadDefaults=False)\n",
    "conf.setAll([\n",
    "    ('spark.driver.memory', '8g'),\n",
    "    ('spark.executor.memory', '8g'),\n",
    "    # ('spark.executor.extraJavaOptions', \n",
    "    #      '-agentlib:jdwp=transport=dt_socket,server=y,address=localhost:5005'),\n",
    "    ('spark.plugins', 'com.nvidia.spark.SQLPlugin'),\n",
    "    ('spark.rpc.message.maxSize', 1024),\n",
    "    ('spark.task.maxFailures', 1),\n",
    "    # ('spark.rapids.memory.gpu.allocFraction', 0.2),\n",
    "    ('spark.rapids.memory.gpu.allocSize', gpu_alloc_size),\n",
    "    # ('spark.rapids.memory.gpu.minAllocFraction', 0.1),\n",
    "    # ('spark.rapids.memory.gpu.maxAllocFraction', 0.5),\n",
    "    # reader and target batch sizes to avoid running OOM on a single batch \n",
    "    ('spark.rapids.sql.batchSizeBytes', '16m'),\n",
    "    ('spark.rapids.sql.explain', 'ALL'),\n",
    "    ('spark.rapids.sql.reader.batchSizeBytes', '16m'),\n",
    "    ('spark.sql.adaptive.enabled', False),   \n",
    "])\n",
    "spark = pyspark.sql.SparkSession.builder\\\n",
    "    .appName('Spill Experiments Notebook')\\\n",
    "    .master(f\"local-cluster[1,{cores_per_exec},10000]\")\\\n",
    "    .config(conf=conf)\\\n",
    "    .getOrCreate()"
   ]
  },
  {
   "cell_type": "code",
   "execution_count": 5,
   "id": "d2438c36-df9b-4177-85da-b114a0d16f80",
   "metadata": {},
   "outputs": [
    {
     "data": {
      "text/html": [
       "\n",
       "            <div>\n",
       "                <p><b>SparkSession - in-memory</b></p>\n",
       "                \n",
       "        <div>\n",
       "            <p><b>SparkContext</b></p>\n",
       "\n",
       "            <p><a href=\"http://10.0.0.133:4040\">Spark UI</a></p>\n",
       "\n",
       "            <dl>\n",
       "              <dt>Version</dt>\n",
       "                <dd><code>v3.1.1</code></dd>\n",
       "              <dt>Master</dt>\n",
       "                <dd><code>local-cluster[1,4,10000]</code></dd>\n",
       "              <dt>AppName</dt>\n",
       "                <dd><code>Spill Experiments Notebook</code></dd>\n",
       "            </dl>\n",
       "        </div>\n",
       "        \n",
       "            </div>\n",
       "        "
      ],
      "text/plain": [
       "<pyspark.sql.session.SparkSession at 0x7f6ac81e8ca0>"
      ]
     },
     "execution_count": 5,
     "metadata": {},
     "output_type": "execute_result"
    }
   ],
   "source": [
    "spark"
   ]
  },
  {
   "cell_type": "markdown",
   "id": "93760caf-70b4-485e-8b06-43a95e51da29",
   "metadata": {},
   "source": [
    "## Generate Data "
   ]
  },
  {
   "cell_type": "code",
   "execution_count": 6,
   "id": "4bfef7df-37fb-4f38-903e-1e56e949a52a",
   "metadata": {},
   "outputs": [],
   "source": [
    "import spark_init_internal\n",
    "setattr(spark_init_internal, '_spark', spark)\n",
    "from data_gen import *"
   ]
  },
  {
   "cell_type": "code",
   "execution_count": 7,
   "id": "8e05d45d-a11e-4f11-8b31-b179ca797b3f",
   "metadata": {},
   "outputs": [],
   "source": [
    "if should_gen: \n",
    "    dfgen = unary_op_df(\n",
    "        spark=spark, \n",
    "        gen=IntegerGen(nullable=False), \n",
    "        length=data_gen_length, \n",
    "        num_slices=1)"
   ]
  },
  {
   "cell_type": "code",
   "execution_count": 8,
   "id": "75ebf28c-9b1e-4dbb-a70a-7c831c319a59",
   "metadata": {},
   "outputs": [],
   "source": [
    "# if should_gen: dfgen = spark.range(0, 1 << 28)"
   ]
  },
  {
   "cell_type": "code",
   "execution_count": 9,
   "id": "1fb52953-2bfe-4402-ab1e-8653fc611078",
   "metadata": {},
   "outputs": [
    {
     "name": "stderr",
     "output_type": "stream",
     "text": [
      "22/09/20 19:47:59 WARN GpuOverrides: \n",
      "*Exec <DataWritingCommandExec> will run on GPU\n",
      "  *Output <InsertIntoHadoopFsRelationCommand> will run on GPU\n",
      "  ! <RDDScanExec> cannot run on GPU because GPU does not currently support the operator class org.apache.spark.sql.execution.RDDScanExec\n",
      "    @Expression <AttributeReference> a#0 could run on GPU\n",
      "\n",
      "22/09/20 19:48:00 WARN TaskSetManager: Stage 0 contains a task of very large size (680682 KiB). The maximum recommended task size is 1000 KiB.\n",
      "                                                                                \r"
     ]
    },
    {
     "name": "stdout",
     "output_type": "stream",
     "text": [
      "replicating generated file /tmp/dfgen/part-00000-cb555d1b-4438-4e7e-b264-308ca3ff90b9-c000.snappy.parquet\n",
      "\n"
     ]
    }
   ],
   "source": [
    "if should_gen: \n",
    "    dfgen.write.mode('overwrite').parquet(dfgen_path)\n",
    "import glob\n",
    "import shutil\n",
    "generated_files = glob.glob(f\"{dfgen_path}/*.parquet\")\n",
    "if len(generated_files) == 1:\n",
    "    orig_path = generated_files[0]\n",
    "    print(f\"replicating generated file {orig_path}\\n\")\n",
    "    for i in range(num_copies):\n",
    "        shutil.copyfile(src=orig_path, dst=f\"{dfgen_path}/part-00000-copy-{i}.snappy.parquet\")"
   ]
  },
  {
   "cell_type": "markdown",
   "id": "c2912d9f-d387-44d8-b3a0-25769ac2e1c7",
   "metadata": {},
   "source": [
    "## Repro for OutOfCore Sort spilling "
   ]
  },
  {
   "cell_type": "code",
   "execution_count": 10,
   "id": "3f1fb8d4-5cf3-44e8-8dc7-9e5630f58f25",
   "metadata": {},
   "outputs": [],
   "source": [
    "if not should_gen: \n",
    "    from pyspark.sql.functions import *\n",
    "    df = spark.read.parquet(dfgen_path)\n",
    "    df.printSchema()\n",
    "    q2 = df.orderBy(col('a').desc())\n",
    "    q2.write.mode('overwrite').parquet('/tmp/q2')"
   ]
  }
 ],
 "metadata": {
  "kernelspec": {
   "display_name": "Python 3 (ipykernel)",
   "language": "python",
   "name": "python3"
  },
  "language_info": {
   "codemirror_mode": {
    "name": "ipython",
    "version": 3
   },
   "file_extension": ".py",
   "mimetype": "text/x-python",
   "name": "python",
   "nbconvert_exporter": "python",
   "pygments_lexer": "ipython3",
   "version": "3.8.13"
  }
 },
 "nbformat": 4,
 "nbformat_minor": 5
}
