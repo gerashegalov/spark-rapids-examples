{
 "cells": [
  {
   "cell_type": "markdown",
   "id": "4146aabb-1c55-415e-b60c-23a1dcc1184a",
   "metadata": {},
   "source": [
    "```bash\n",
    "export PYTHONPATH=./integration_tests/src/main/python\n",
    "export SPARK_HOME=/home/gshegalov/dist/spark-3.1.1-bin-hadoop3.2\n",
    "export TZ=UTC\n",
    "```"
   ]
  },
  {
   "cell_type": "code",
   "execution_count": 1,
   "id": "7c9efd4d-b13c-487d-b086-3c7041f21a62",
   "metadata": {},
   "outputs": [],
   "source": [
    "import findspark\n",
    "findspark.init()\n",
    "findspark.add_jars('/home/gshegalov/gits/NVIDIA/spark-rapids/dist/target/rapids-4-spark_2.12-22.10.0-SNAPSHOT-cuda11.jar')"
   ]
  },
  {
   "cell_type": "code",
   "execution_count": 2,
   "id": "15dd6b39-9f91-4855-ab13-25989937df4e",
   "metadata": {},
   "outputs": [
    {
     "data": {
      "text/html": [
       "\n",
       "            <div>\n",
       "                <p><b>SparkSession - hive</b></p>\n",
       "                \n",
       "        <div>\n",
       "            <p><b>SparkContext</b></p>\n",
       "\n",
       "            <p><a href=\"http://172.19.246.199:4040\">Spark UI</a></p>\n",
       "\n",
       "            <dl>\n",
       "              <dt>Version</dt>\n",
       "                <dd><code>v3.1.1</code></dd>\n",
       "              <dt>Master</dt>\n",
       "                <dd><code>local[*]</code></dd>\n",
       "              <dt>AppName</dt>\n",
       "                <dd><code>PySparkShell</code></dd>\n",
       "            </dl>\n",
       "        </div>\n",
       "        \n",
       "            </div>\n",
       "        "
      ],
      "text/plain": [
       "<pyspark.sql.session.SparkSession at 0x7f4fe27bcaf0>"
      ]
     },
     "execution_count": 2,
     "metadata": {},
     "output_type": "execute_result"
    }
   ],
   "source": [
    "import pyspark\n",
    "pyspark.sql.SparkSession.builder\\\n",
    "    .config('spark.plugins', 'com.nvidia.spark.SQLPlugin')\\\n",
    "    .config('spark.sql.adaptive.enabled', False)\\\n",
    "    .appName('jupyter notebook')\\\n",
    "    .getOrCreate()"
   ]
  },
  {
   "cell_type": "code",
   "execution_count": 3,
   "id": "4bfef7df-37fb-4f38-903e-1e56e949a52a",
   "metadata": {},
   "outputs": [],
   "source": [
    "import spark_init_internal\n",
    "setattr(spark_init_internal, '_spark', pyspark.sql.SparkSession.getActiveSession())"
   ]
  },
  {
   "cell_type": "code",
   "execution_count": 42,
   "id": "8e05d45d-a11e-4f11-8b31-b179ca797b3f",
   "metadata": {},
   "outputs": [],
   "source": [
    "from pyspark.sql.functions import *"
   ]
  },
  {
   "cell_type": "code",
   "execution_count": 4,
   "id": "e15421a7-70ae-465d-83fc-32a02b47cb5e",
   "metadata": {
    "tags": []
   },
   "outputs": [],
   "source": [
    "from data_gen import *"
   ]
  },
  {
   "cell_type": "code",
   "execution_count": null,
   "id": "b0ac4a6e-ca38-4586-b3c0-682378aedd99",
   "metadata": {},
   "outputs": [],
   "source": [
    "# df = unary_op_df(pyspark.sql.SparkSession.getActiveSession(), IntegerGen(nullable=False), length=1000000000)"
   ]
  },
  {
   "cell_type": "code",
   "execution_count": 65,
   "id": "822dc266-af85-450a-b68a-78851474effb",
   "metadata": {},
   "outputs": [],
   "source": [
    "df = spark.range(0, 1600000000)"
   ]
  },
  {
   "cell_type": "code",
   "execution_count": 66,
   "id": "cca38cda-6c03-40dc-be10-c1f9868849f0",
   "metadata": {},
   "outputs": [
    {
     "name": "stdout",
     "output_type": "stream",
     "text": [
      "root\n",
      " |-- id: long (nullable = false)\n",
      "\n"
     ]
    }
   ],
   "source": [
    "df.printSchema()"
   ]
  },
  {
   "cell_type": "code",
   "execution_count": 67,
   "id": "6970055d-7698-4d5b-a5f3-6290598bcc89",
   "metadata": {},
   "outputs": [
    {
     "data": {
      "text/plain": [
       "1600000000"
      ]
     },
     "execution_count": 67,
     "metadata": {},
     "output_type": "execute_result"
    }
   ],
   "source": [
    "df.count()"
   ]
  },
  {
   "cell_type": "code",
   "execution_count": 68,
   "id": "c2f867ff-a36a-40e9-a146-0caae2dd2705",
   "metadata": {},
   "outputs": [],
   "source": [
    "q2 = df.orderBy(col('id').desc())"
   ]
  },
  {
   "cell_type": "code",
   "execution_count": 69,
   "id": "3692fdb7-dfc3-4d4e-ad49-df0302a24385",
   "metadata": {},
   "outputs": [
    {
     "name": "stderr",
     "output_type": "stream",
     "text": [
      "22/09/15 21:04:56 WARN HeartbeatReceiver: Removing executor driver with no recent heartbeats: 138948 ms exceeds timeout 120000 ms\n",
      "22/09/15 21:04:56 WARN SparkContext: Killing executors is not supported by current scheduler.\n",
      "                                                                                \r"
     ]
    }
   ],
   "source": [
    "q2.write.mode('overwrite').parquet('/tmp/q2')"
   ]
  },
  {
   "cell_type": "code",
   "execution_count": null,
   "id": "d5f0a4e5-15a7-446b-95d1-04a7799de58e",
   "metadata": {},
   "outputs": [],
   "source": []
  }
 ],
 "metadata": {
  "kernelspec": {
   "display_name": "Python 3 (ipykernel)",
   "language": "python",
   "name": "python3"
  },
  "language_info": {
   "codemirror_mode": {
    "name": "ipython",
    "version": 3
   },
   "file_extension": ".py",
   "mimetype": "text/x-python",
   "name": "python",
   "nbconvert_exporter": "python",
   "pygments_lexer": "ipython3",
   "version": "3.9.12"
  }
 },
 "nbformat": 4,
 "nbformat_minor": 5
}
