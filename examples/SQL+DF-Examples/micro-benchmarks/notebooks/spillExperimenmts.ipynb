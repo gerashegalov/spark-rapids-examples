{
 "cells": [
  {
   "cell_type": "markdown",
   "id": "4146aabb-1c55-415e-b60c-23a1dcc1184a",
   "metadata": {
    "tags": []
   },
   "source": [
    "Start jupyter-lab\n",
    "\n",
    "```bash\n",
    "jupyter-lab --notebook-dir=$HOME/gits/NVIDIA/spark-rapids-examples\n",
    "```\n",
    "or simply open in VS Code"
   ]
  },
  {
   "cell_type": "code",
   "execution_count": null,
   "id": "4010da20-e354-4b10-b3ce-000344c59daf",
   "metadata": {},
   "outputs": [],
   "source": [
    "# Easy imports\n",
    "import findspark\n",
    "import glob\n",
    "import os\n",
    "import shutil\n",
    "import sys"
   ]
  },
  {
   "cell_type": "code",
   "execution_count": null,
   "id": "6c452712-c81c-478b-b54f-e48717d06a4a",
   "metadata": {},
   "outputs": [],
   "source": [
    "# \"Feature\" switches \n",
    "should_gen = False\n",
    "should_join = True\n",
    "should_sort = False"
   ]
  },
  {
   "cell_type": "code",
   "execution_count": null,
   "id": "a5efd361-41ba-4afa-bfec-4568c00bf0d6",
   "metadata": {},
   "outputs": [],
   "source": [
    "# Easy settings\n",
    "gpu_alloc_size = '5000m' if should_gen else '512m'\n",
    "cores_per_exec = 4\n",
    "\n",
    "# spark_master = f\"local-cluster[1,{cores_per_exec},10000]\"\n",
    "spark_master = f\"local[{cores_per_exec}]\"\n",
    "\n",
    "# data gen settings\n",
    "data_gen_length = 100*1000*1000 # generate one file \n",
    "num_copies = 10 # and replicate it this many times\n",
    "\n",
    "home_dir = os.environ['HOME']\n",
    "work_dir = f\"{home_dir}/jupyter_run_dir\"\n",
    "dfgen_path = f\"{work_dir}/dfgen\"\n",
    "\n",
    "# debugger string\n",
    "# jdwp = '-agentlib:jdwp=transport=dt_socket,server=n,address=localhost:5005'\n",
    "jdwp = ''"
   ]
  },
  {
   "cell_type": "code",
   "execution_count": null,
   "id": "ab907e62",
   "metadata": {},
   "outputs": [],
   "source": [
    "# Environment\n",
    "os.environ['TZ'] = 'UTC'\n",
    "os.environ['SPARK_HOME'] = f\"{home_dir}/dist/spark-3.1.1-bin-hadoop3.2\"\n",
    "sys.path.append(f\"{home_dir}/gits/NVIDIA/spark-rapids/integration_tests/src/main/python\")"
   ]
  },
  {
   "cell_type": "code",
   "execution_count": null,
   "id": "7c9efd4d-b13c-487d-b086-3c7041f21a62",
   "metadata": {
    "tags": []
   },
   "outputs": [],
   "source": [
    "findspark.init()\n",
    "findspark.add_jars(f\"{home_dir}/gits/NVIDIA/spark-rapids/dist/target/rapids-4-spark_2.12-22.10.0-SNAPSHOT-cuda11.jar\") "
   ]
  },
  {
   "cell_type": "code",
   "execution_count": null,
   "id": "15dd6b39-9f91-4855-ab13-25989937df4e",
   "metadata": {},
   "outputs": [],
   "source": [
    "import pyspark\n",
    "from pyspark.sql.functions import *\n",
    "conf = pyspark.SparkConf(loadDefaults=False)\n",
    "conf.setAll([\n",
    "    ('spark.driver.extraJavaOptions', f\"-Dai.rapids.refcount.debug=true {jdwp}\"),\n",
    "    ('spark.driver.memory', '8g'),\n",
    "    ('spark.driver.maxResultSize', '2g'),\n",
    "    ('spark.executor.memory', '8g'),\n",
    "    # ('spark.executor.extraJavaOptions', jdwp ),\n",
    "    ('spark.plugins', 'com.nvidia.spark.SQLPlugin'),\n",
    "    ('spark.rpc.message.maxSize', 2047),\n",
    "    ('spark.task.maxFailures', 1),\n",
    "    # ('spark.rapids.memory.gpu.allocFraction', 0.2),\n",
    "    ('spark.rapids.memory.gpu.allocSize', gpu_alloc_size),\n",
    "    ('spark.rapids.memory.gpu.oomDumpDir', f\"{work_dir}/gpuOoms\"),\n",
    "    # ('spark.rapids.memory.gpu.minAllocFraction', 0.1),\n",
    "    # ('spark.rapids.memory.gpu.maxAllocFraction', 0.5),\n",
    "    # reader and target batch sizes to avoid running OOM on a single batch \n",
    "    ('spark.rapids.sql.batchSizeBytes', '16m'),\n",
    "    ('spark.rapids.sql.explain', 'ALL'),\n",
    "    ('spark.rapids.sql.reader.batchSizeBytes', '16m'),\n",
    "    ('spark.sql.adaptive.enabled', False),   \n",
    "])\n",
    "spark = pyspark.sql.SparkSession.builder\\\n",
    "    .appName('Spill Experiments Notebook')\\\n",
    "    .master(spark_master)\\\n",
    "    .config(conf=conf)\\\n",
    "    .getOrCreate()"
   ]
  },
  {
   "cell_type": "code",
   "execution_count": null,
   "id": "d2438c36-df9b-4177-85da-b114a0d16f80",
   "metadata": {},
   "outputs": [],
   "source": [
    "spark"
   ]
  },
  {
   "cell_type": "code",
   "execution_count": null,
   "id": "bbdd7645",
   "metadata": {},
   "outputs": [],
   "source": [
    "spark._jvm.com.nvidia.spark.rapids.RapidsPluginUtils.loadProps(\"cudf-java-version-info.properties\")"
   ]
  },
  {
   "cell_type": "code",
   "execution_count": null,
   "id": "b02e4d46",
   "metadata": {},
   "outputs": [],
   "source": [
    "spark._jvm.com.nvidia.spark.rapids.RapidsPluginUtils.loadProps(\"spark-rapids-jni-version-info.properties\")"
   ]
  },
  {
   "cell_type": "code",
   "execution_count": null,
   "id": "241032c5",
   "metadata": {},
   "outputs": [],
   "source": [
    "spark._jvm.com.nvidia.spark.rapids.RapidsPluginUtils.loadProps(\"rapids4spark-version-info.properties\")"
   ]
  },
  {
   "cell_type": "code",
   "execution_count": null,
   "id": "2f107f11-35b3-4843-a36b-be86e7c75d89",
   "metadata": {},
   "outputs": [],
   "source": [
    "# Enable debug for Rapids Stores\n",
    "debugLogClasses = [\n",
    "    # 'com.nvidia.spark.rapids.RapidsBufferStore',\n",
    "    # 'com.nvidia.spark.rapids.RapidsDeviceMemoryStore',\n",
    "    # 'com.nvidia.spark.rapids.RapidsHostMemoryStore',\n",
    "    # 'com.nvidia.spark.rapids.RapidsDiskStore',\n",
    "    # 'com.nvidia.spark.rapids.RapidsGdsStore',\n",
    "    'org.apache.spark.sql.rapids.execution.SerializeConcatHostBuffersDeserializeBatch'\n",
    "]\n",
    "\n",
    "for c in debugLogClasses:\n",
    "    spark._jvm.org.apache.log4j.Logger\\\n",
    "        .getLogger(c)\\\n",
    "        .setLevel(spark._jvm.org.apache.log4j.Level.ALL)"
   ]
  },
  {
   "cell_type": "markdown",
   "id": "93760caf-70b4-485e-8b06-43a95e51da29",
   "metadata": {},
   "source": [
    "## Generate Data "
   ]
  },
  {
   "cell_type": "code",
   "execution_count": null,
   "id": "4bfef7df-37fb-4f38-903e-1e56e949a52a",
   "metadata": {},
   "outputs": [],
   "source": [
    "import spark_init_internal\n",
    "setattr(spark_init_internal, '_spark', spark)\n",
    "from data_gen import *"
   ]
  },
  {
   "cell_type": "code",
   "execution_count": null,
   "id": "8e05d45d-a11e-4f11-8b31-b179ca797b3f",
   "metadata": {},
   "outputs": [],
   "source": [
    "if should_gen: \n",
    "    dfgen = unary_op_df(\n",
    "        spark=spark, \n",
    "        gen=IntegerGen(nullable=False), \n",
    "        length=data_gen_length, \n",
    "        num_slices=1)"
   ]
  },
  {
   "cell_type": "code",
   "execution_count": null,
   "id": "75ebf28c-9b1e-4dbb-a70a-7c831c319a59",
   "metadata": {},
   "outputs": [],
   "source": [
    "# if should_gen: dfgen = spark.range(0, 1 << 28)"
   ]
  },
  {
   "cell_type": "code",
   "execution_count": null,
   "id": "1fb52953-2bfe-4402-ab1e-8653fc611078",
   "metadata": {
    "tags": []
   },
   "outputs": [],
   "source": [
    "if should_gen: \n",
    "    dfgen.write.mode('overwrite').parquet(dfgen_path)\n",
    "generated_files = glob.glob(f\"{dfgen_path}/*.parquet\")\n",
    "if len(generated_files) == 1:\n",
    "    orig_path = generated_files[0]\n",
    "    print(f\"replicating generated file {orig_path}\\n\")\n",
    "    for i in range(num_copies):\n",
    "        shutil.copyfile(src=orig_path, dst=f\"{dfgen_path}/part-00000-copy-{i}.snappy.parquet\")"
   ]
  },
  {
   "cell_type": "markdown",
   "id": "c2912d9f-d387-44d8-b3a0-25769ac2e1c7",
   "metadata": {},
   "source": [
    "## Repro for OutOfCore Sort Spilling "
   ]
  },
  {
   "cell_type": "code",
   "execution_count": null,
   "id": "3f1fb8d4-5cf3-44e8-8dc7-9e5630f58f25",
   "metadata": {},
   "outputs": [],
   "source": [
    "if should_sort: \n",
    "    df = spark.read.parquet(dfgen_path)\n",
    "    df.printSchema()\n",
    "    q2 = df.orderBy(col('a').desc())\n",
    "    q2.write.mode('overwrite').parquet(f\"{work_dir}/q2\")"
   ]
  },
  {
   "cell_type": "markdown",
   "id": "3db16cd7-b9a2-4407-80eb-13b2f6f37cfd",
   "metadata": {},
   "source": [
    "## Broadcast Join Not Spilling and OOMing"
   ]
  },
  {
   "cell_type": "markdown",
   "id": "1d9d8e3d-5be7-4c95-9b52-edd594adda93",
   "metadata": {},
   "source": [
    "Allocate a huge buffer"
   ]
  },
  {
   "cell_type": "code",
   "execution_count": null,
   "id": "b8dc6948-e0e0-450f-ad99-ba143db7e2c1",
   "metadata": {},
   "outputs": [],
   "source": [
    "if should_join:\n",
    "    # execute a few times\n",
    "    # non-sense scenario small table on the left\n",
    "    df = spark.read.parquet(dfgen_path)\\\n",
    "        .sample(0.0000001)\\\n",
    "        .repartition(1)\n",
    "\n",
    "    # bigger table on the right\n",
    "    rhs = spark.read.parquet(dfgen_path)\\\n",
    "        .sample(0.01)\\\n",
    "        .withColumnRenamed('a', 'b')\\\n",
    "        .repartition(1)\n",
    "    bdf = broadcast(rhs.cache())"
   ]
  },
  {
   "cell_type": "code",
   "execution_count": null,
   "id": "8dd235a8-b98e-4755-a609-359daa400e0c",
   "metadata": {},
   "outputs": [],
   "source": [
    "if should_join:\n",
    "    q3 = df.join(bdf, df.a == bdf.b).select(df.a)\n",
    "    q3.printSchema()\n",
    "    q3.write.mode('overwrite').parquet(f\"{work_dir}/q3\")    "
   ]
  },
  {
   "cell_type": "code",
   "execution_count": null,
   "id": "1916d0d9-2842-4be7-bdc8-edfe4cbb1d69",
   "metadata": {},
   "outputs": [],
   "source": [
    "hugeBuffers = []"
   ]
  },
  {
   "cell_type": "code",
   "execution_count": null,
   "id": "936df45f-61b6-4d6e-8644-304d61318282",
   "metadata": {},
   "outputs": [],
   "source": [
    "hugeBuffers.append(spark._jvm.ai.rapids.cudf.DeviceMemoryBuffer.allocate(100 * 1024 * 1024))"
   ]
  },
  {
   "cell_type": "code",
   "execution_count": null,
   "id": "acaffc3b-5cc0-4429-9659-443157a31d96",
   "metadata": {},
   "outputs": [],
   "source": [
    "for buf in hugeBuffers:\n",
    "    buf.close()"
   ]
  },
  {
   "cell_type": "code",
   "execution_count": null,
   "id": "6dcda5d5-20ea-40cd-bef2-7cad8897848d",
   "metadata": {},
   "outputs": [],
   "source": []
  }
 ],
 "metadata": {
  "kernelspec": {
   "display_name": "Python 3 (ipykernel)",
   "language": "python",
   "name": "python3"
  },
  "language_info": {
   "codemirror_mode": {
    "name": "ipython",
    "version": 3
   },
   "file_extension": ".py",
   "mimetype": "text/x-python",
   "name": "python",
   "nbconvert_exporter": "python",
   "pygments_lexer": "ipython3",
   "version": "3.8.13"
  },
  "vscode": {
   "interpreter": {
    "hash": "24e1e440b58174d23459f334e6373b3f84a303d378405919ee47af328df355be"
   }
  }
 },
 "nbformat": 4,
 "nbformat_minor": 5
}
